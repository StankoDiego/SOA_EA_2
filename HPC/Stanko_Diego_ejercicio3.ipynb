{
  "nbformat": 4,
  "nbformat_minor": 0,
  "metadata": {
    "colab": {
      "name": "Ejercicio1.ipynb",
      "provenance": []
    },
    "kernelspec": {
      "name": "python3",
      "display_name": "Python 3"
    }
  },
  "cells": [
    {
      "cell_type": "markdown",
      "metadata": {
        "id": "0AHr4OTde4v8"
      },
      "source": [
        "# Introducción\n"
      ]
    },
    {
      "cell_type": "markdown",
      "metadata": {
        "id": "f5oDDBG5fuCS"
      },
      "source": [
        "# Armado del ambiente\n"
      ]
    },
    {
      "cell_type": "markdown",
      "metadata": {
        "id": "BdxMWLPkf4NJ"
      },
      "source": [
        "# Desarrollo\n"
      ]
    },
    {
      "cell_type": "markdown",
      "metadata": {
        "id": "aXdRYmldf6Yy"
      },
      "source": [
        "# Tabla de pasos\n"
      ]
    },
    {
      "cell_type": "markdown",
      "metadata": {
        "id": "g1_dUNSKf8gR"
      },
      "source": [
        "# Conclusiones"
      ]
    },
    {
      "cell_type": "markdown",
      "metadata": {
        "id": "95n0fDf0gAGe"
      },
      "source": [
        "# Bibliografía\n"
      ]
    }
  ]
}