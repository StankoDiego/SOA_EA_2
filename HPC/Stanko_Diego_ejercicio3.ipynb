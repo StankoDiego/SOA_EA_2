{
  "nbformat": 4,
  "nbformat_minor": 0,
  "metadata": {
    "colab": {
      "name": "Stanko_Diego_ejercicio3.ipynb",
      "provenance": [],
      "authorship_tag": "ABX9TyOZkn0Azur2LVA3l2VL7DTY",
      "include_colab_link": true
    },
    "kernelspec": {
      "name": "python3",
      "display_name": "Python 3"
    }
  },
  "cells": [
    {
      "cell_type": "markdown",
      "metadata": {
        "id": "view-in-github",
        "colab_type": "text"
      },
      "source": [
        "<a href=\"https://colab.research.google.com/github/StankoDiego/SOA_EA_2/blob/main/HPC/Stanko_Diego_ejercicio3.ipynb\" target=\"_parent\"><img src=\"https://colab.research.google.com/assets/colab-badge.svg\" alt=\"Open In Colab\"/></a>"
      ]
    },
    {
      "cell_type": "markdown",
      "metadata": {
        "id": "Z1fr5L7lhTXh"
      },
      "source": [
        "#1. Introcción"
      ]
    },
    {
      "cell_type": "markdown",
      "metadata": {
        "id": "styQTjAP1WH5"
      },
      "source": [
        "Con el siguiente algoritmo presentado se busca determinar cual fue el año en el que se procesaron la mayor cantidad de compras por parte del Estado Nacional de Argentina, estos datos son provistos de la pagina oficial del estado[1].\n",
        "Para esto se utilizara el la programacion paralela por el gran caudal de datos. Se utilizara la interfaz de programación paralela OpenMP.\n",
        "Con la ejecucion paralela disminuimos en gran medida los largos tiempos de procesamientos en esta clase de archivos con extensa longitud de elementos a procesar, procesaremos los diferentes archivos por separado para poder realizar comparaciones entre los resultados y asi poder determinar quien fue el año de mayor compras."
      ]
    },
    {
      "cell_type": "markdown",
      "metadata": {
        "id": "mnzSSvRJhVZ2"
      },
      "source": [
        "#2. Armado del ambiente"
      ]
    },
    {
      "cell_type": "markdown",
      "metadata": {
        "id": "WsdFEqZFvC9z"
      },
      "source": [
        "Es necesario descargar los archivos que seran utilizados por el algoritmo"
      ]
    },
    {
      "cell_type": "markdown",
      "metadata": {
        "id": "jgHUHK3ThXzv"
      },
      "source": [
        "#3. Desarrollo"
      ]
    },
    {
      "cell_type": "code",
      "metadata": {
        "id": "2r52Tr8xcgnH",
        "outputId": "0bba82be-dc5a-45af-a0bf-e80e70d31daa",
        "colab": {
          "base_uri": "https://localhost:8080/"
        }
      },
      "source": [
        "from google.colab import drive\n",
        "drive.mount('/gdrive')\n",
        "%cd /gdrive/"
      ],
      "execution_count": 5,
      "outputs": [
        {
          "output_type": "stream",
          "text": [
            "Drive already mounted at /gdrive; to attempt to forcibly remount, call drive.mount(\"/gdrive\", force_remount=True).\n",
            "/gdrive\n"
          ],
          "name": "stdout"
        }
      ]
    },
    {
      "cell_type": "code",
      "metadata": {
        "id": "2AZ-2MzOqSfJ",
        "outputId": "d34e8e30-0686-4468-d036-323d2cd47413",
        "colab": {
          "base_uri": "https://localhost:8080/"
        }
      },
      "source": [
        "! ls"
      ],
      "execution_count": 6,
      "outputs": [
        {
          "output_type": "stream",
          "text": [
            "MyDrive\n"
          ],
          "name": "stdout"
        }
      ]
    },
    {
      "cell_type": "code",
      "metadata": {
        "id": "L5IapqjKMaKj"
      },
      "source": [
        "code = \"\"\"\n",
        "// Procesamiento de archivos con OpenMP, usando c, ejecutado en Colab. \n",
        "\n",
        "#include <iostream>\n",
        "#include <vector>\n",
        "#include <cstdlib>\n",
        "#include <fstream>\n",
        "#include <string>\n",
        "#include <sys/time.h>\n",
        "#include <omp.h>    // Cabecera OpenMP   \n",
        "\n",
        "// ----------------------------------------------------------------------------\n",
        "// Macros que miden el tiempo.\n",
        "\n",
        "static double dHashTiempoHistory[3];\n",
        "static struct timeval tv;\n",
        "\n",
        "#define TIEMPO_INI( h )      \\\n",
        "   gettimeofday(&tv,NULL);   \\\n",
        "   dHashTiempoHistory[ h ] = tv.tv_sec + tv.tv_usec/1000000.0;\n",
        "   \n",
        "   \n",
        "#define TIEMPO_FIN( h )      \\\n",
        "   gettimeofday(&tv,NULL);   \\\n",
        "   dHashTiempoHistory[ h ] = ((tv.tv_sec + tv.tv_usec/1000000.0) - dHashTiempoHistory[ h ]) * 1000; // Devuelvo en milisegundos\n",
        "#define TIEMPO_GET( h ) dHashTiempoHistory[ h ]\n",
        "\n",
        "#define HTH_TOTAL         1\n",
        "#define HTH_AXPY_SEC      2\n",
        "#define HTH_AXPY_OMP      3\n",
        "\n",
        "// ----------------------------------------------------------------------------\n",
        "\n",
        "int main(int argc, char* argv[]) \n",
        "{ \n",
        "  int i;\n",
        "  TIEMPO_INI( HTH_TOTAL )\n",
        "\n",
        "  if( argc < 2)\n",
        "  {\n",
        "      std::cerr<< \" Error en los parametros de indicar: (cant_archivos), archivos (20XX.txt).\"<<argc<<std::endl;\n",
        "      exit( -1 );\n",
        "  }\n",
        "\n",
        "  int cant_files = atoi(argv[1]);\n",
        "  int number_of_lines[cant_files];\n",
        "\n",
        "  int j = 0;\n",
        "  for(j = 0; j < cant_files; j++){\n",
        "    number_of_lines[j] = 0;\n",
        "  }\n",
        "   TIEMPO_INI( HTH_AXPY_OMP )   \n",
        "\n",
        "    #pragma omp parallel for\n",
        "    for(i=0; i < cant_files; i++){\n",
        "      number_of_lines[i] = 0;\n",
        "      std::string line;\n",
        "      std::ifstream myfile(argv[2 + i]);\n",
        "      while (std::getline(myfile, line)){\n",
        "        number_of_lines[i]++;\n",
        "      }\n",
        "      std::cout << \"Nombre de archivo: \" << argv[2 + i];\n",
        "      std::cout << \" \" << std::endl;\n",
        "      std::cout << \"Lineas de texto de archivo: \" << number_of_lines[i];\n",
        "      std::cout << \" \" << std::endl;\n",
        "    }\n",
        "    \n",
        "    TIEMPO_FIN( HTH_AXPY_OMP )\n",
        "    TIEMPO_FIN( HTH_TOTAL )\n",
        "\n",
        "    int max = number_of_lines[0];\n",
        "    int pos = -1;\n",
        "\n",
        "    for(i = 1; i < cant_files; i++){\n",
        "      if(max < number_of_lines[i]){\n",
        "        max = number_of_lines[i];\n",
        "        pos = i;\n",
        "      }\n",
        "    }\n",
        "\n",
        " std::cout<<\"--------------------------------------------------------\"<<std::endl;\n",
        " std::cout << \"Nombre de archivo: \" << argv[pos + 2]<<std::endl;\n",
        " std::cout << \"Maxima cantidad de lineas de texto de archivo: \" << number_of_lines[pos]<<std::endl;\n",
        " std::cout<<\"--------------------------------------------------------\"<<std::endl;\n",
        " std::cout<<\"Tiempo TOTAL     : \"<<TIEMPO_GET(HTH_TOTAL   )<<\" [ms]\"<<std::endl;\n",
        " std::cout<<\"Tiempo Omp  : \"<<TIEMPO_GET(HTH_AXPY_OMP)<<\" [ms]\"<<std::endl;\n",
        " std::cout<<std::endl;\n",
        "\n",
        "}\n",
        "\"\"\"\n",
        "with open('/gdrive/MyDrive/SOA_EA3/archivos.cpp', 'w') as f:\n",
        "  f.write(code)\n",
        "  f.close()"
      ],
      "execution_count": 7,
      "outputs": []
    },
    {
      "cell_type": "code",
      "metadata": {
        "id": "FcZxnXsHlrPw"
      },
      "source": [
        "!g++ -o '/gdrive/MyDrive/SOA_EA3/archivos' -fopenmp '/gdrive/MyDrive/SOA_EA3/archivos.cpp'"
      ],
      "execution_count": 9,
      "outputs": []
    },
    {
      "cell_type": "markdown",
      "metadata": {
        "id": "R9OALzTHvVRa"
      },
      "source": [
        "##3.1 Compilacion de código C Archivo"
      ]
    },
    {
      "cell_type": "markdown",
      "metadata": {
        "id": "jMkl-k_mvffS"
      },
      "source": [
        "##3.2 Ejecucion de ejecutable Archivo "
      ]
    },
    {
      "cell_type": "markdown",
      "metadata": {
        "id": "wa7Vnb5jdJ3n"
      },
      "source": [
        ""
      ]
    },
    {
      "cell_type": "code",
      "metadata": {
        "colab": {
          "base_uri": "https://localhost:8080/"
        },
        "id": "EgUuhPc7OrSC",
        "outputId": "86712e35-dba7-41f5-9dc2-a31effa1f495"
      },
      "source": [
        "%env OMP_NUM_THREADS=10\n",
        "!'/gdrive/MyDrive/SOA_EA3/archivos' 1 \"/gdrive/MyDrive/SOA_EA3/2014.txt\" \"/gdrive/MyDrive/SOA_EA3/2015.txt\"  \"/gdrive/MyDrive/SOA_EA3/2016.txt\" "
      ],
      "execution_count": 11,
      "outputs": [
        {
          "output_type": "stream",
          "text": [
            "env: OMP_NUM_THREADS=10\n",
            "Nombre de archivo: /gdrive/MyDrive/SOA_EA3/2014.txt \n",
            "Lineas de texto de archivo: 30326 \n",
            "--------------------------------------------------------\n",
            "Nombre de archivo: 1\n",
            "Maxima cantidad de lineas de texto de archivo: 21990\n",
            "--------------------------------------------------------\n",
            "Tiempo TOTAL     : 332.954 [ms]\n",
            "Tiempo Omp  : 332.953 [ms]\n",
            "\n"
          ],
          "name": "stdout"
        }
      ]
    },
    {
      "cell_type": "markdown",
      "metadata": {
        "id": "_mZnl8Yaha4_"
      },
      "source": [
        "#4. Tabla de pasos"
      ]
    },
    {
      "cell_type": "markdown",
      "metadata": {
        "id": "S--ze3PpwDBs"
      },
      "source": [
        "Tabla de ejecucion de openMP\n",
        ">Lenguaje|Procesador | Funcion | Detalle\n",
        ">--- | --- | --- |---\n",
        ">Phyton|CPU\t|code|Codigo Python que define el código C para implementar openMP\n",
        ">Phyton|CPU|text_file = open()|Genera el archivo .cpp para escritura\n",
        ">Phyton|CPU|text_file.write|Escribe el archivo .cpp\n",
        ">Phyton|CPU|text_file.close|Cierra el archivo .cpp\n",
        ">C|CPU|TIEMPO_INI( HTH_TOTAL )|Toma el tiempo inicial de la ejecucion\n",
        ">C|\tCPU|TIEMPO_INI( HTH_AXPY_OMP )|Toma el tiempo inicial del procesamiento paralelo\n",
        ">C|**GPU**|#pragma omp parallel for|Se define el fragemento de código que se ejecutara de forma paraleal\n",
        ">C|**GPU**|for(i=0; i < cant_files; i++)|Ejecuta de forma paralela el codigo interno del for\n",
        ">C|\tCPU|TIEMPO_FIN( HTH_AXPY_OMP )|Toma el tiempo final del procesamiento paralelo\n",
        ">C|\tCPU|TIEMPO_FIN( HTH_TOTAL )|Toma el tiempo final de la ejecucion del programa\n",
        ">C|\tCPU|TIEMPO_FIN( HTH_TOTAL )|Toma el tiempo final de la ejecucion del programa\n",
        ">C|\tCPU|std::cout<<\"\"<<std::endl|Muestra de información\n",
        ">bash | CPU | g++ | Compilacion de programa .cpp\n",
        ">bash | CPU | !./Archivos | Ejecucion del programa\n",
        "\n",
        "    "
      ]
    },
    {
      "cell_type": "markdown",
      "metadata": {
        "id": "G5UY9Oxhhfin"
      },
      "source": [
        "#5. Conclusiones"
      ]
    },
    {
      "cell_type": "markdown",
      "metadata": {
        "id": "e6I0jxij4Ta2"
      },
      "source": [
        "Se opto por la utilizacion de OpenMP para resolver el algoritmo ya que permite crear hilos de ejecucion de forma simple, esto es necesario ya que los archivos procesados poseen un basto nivel de informacion. Se desperdiciaría un tiempo excesivo en procesar el archivo de forma secuencial. El codigo que genera los diferentes hilos es programado en C, sin la necesidad de la libreas pthread.h. El programa se alimenta de diferentes archivos (fue necesario separlarlo en diferentes archivos ya que no permitia ser subido de forma completo) y cada uno se procesara en un hilo de ejecucion diferente. Para continuar con el ejercicio se podría realizar estadisticas sobre las empresas que vendieron mas productos al estado y por que provincias fueron realizadas."
      ]
    },
    {
      "cell_type": "markdown",
      "metadata": {
        "id": "WQkQWa_p2VPH"
      },
      "source": [
        "#6. Recursos utilizados"
      ]
    },
    {
      "cell_type": "markdown",
      "metadata": {
        "id": "PLI0MtNJ2bLH"
      },
      "source": [
        "[1].Datos.gob.ar [Archivo usado](https://datos.gob.ar/dataset/energia-refinacion-comercializacion-petroleo-gas-derivados-tablas-dinamicas/archivo/energia_6282dbf1-93d7-4fd3-a63a-61a8f8a95475)\n",
        "\n"
      ]
    }
  ]
}