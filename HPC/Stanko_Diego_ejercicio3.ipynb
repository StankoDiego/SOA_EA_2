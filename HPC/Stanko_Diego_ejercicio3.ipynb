{
  "nbformat": 4,
  "nbformat_minor": 0,
  "metadata": {
    "colab": {
      "name": "Stanko_Diego_ejercicio3.ipynb",
      "provenance": [],
      "authorship_tag": "ABX9TyOGFfCNKib7dgynoVKcIeo9",
      "include_colab_link": true
    },
    "kernelspec": {
      "name": "python3",
      "display_name": "Python 3"
    }
  },
  "cells": [
    {
      "cell_type": "markdown",
      "metadata": {
        "id": "view-in-github",
        "colab_type": "text"
      },
      "source": [
        "<a href=\"https://colab.research.google.com/github/StankoDiego/SOA_EA_2/blob/main/HPC/Stanko_Diego_ejercicio3.ipynb\" target=\"_parent\"><img src=\"https://colab.research.google.com/assets/colab-badge.svg\" alt=\"Open In Colab\"/></a>"
      ]
    },
    {
      "cell_type": "markdown",
      "metadata": {
        "id": "Z1fr5L7lhTXh"
      },
      "source": [
        "#1. Introcción"
      ]
    },
    {
      "cell_type": "markdown",
      "metadata": {
        "id": "mnzSSvRJhVZ2"
      },
      "source": [
        "#2. Armado del ambiente"
      ]
    },
    {
      "cell_type": "code",
      "metadata": {
        "id": "EjMYpYgqLzjT"
      },
      "source": [
        "url_archivo_1 = \"https://github.com/StankoDiego/SOA_EA_2/blob/main/2014.txt?raw=true\"\n",
        "url_archivo_2 = \"https://github.com/StankoDiego/SOA_EA_2/blob/main/2015.txt?raw=true\"\n",
        "url_archivo_3 = \"https://github.com/StankoDiego/SOA_EA_2/blob/main/2016.txt?raw=true\"\n",
        "\n",
        "!wget {url_archivo_1} -O \"2014.txt\"\n",
        "!wget {url_archivo_2} -O \"2015.txt\"\n",
        "!wget {url_archivo_3} -O \"2016.txt\""
      ],
      "execution_count": null,
      "outputs": []
    },
    {
      "cell_type": "code",
      "metadata": {
        "id": "_etZSBtwN_eZ"
      },
      "source": [
        "!ls\n",
        "!cat 2015.txt"
      ],
      "execution_count": null,
      "outputs": []
    },
    {
      "cell_type": "markdown",
      "metadata": {
        "id": "jgHUHK3ThXzv"
      },
      "source": [
        "#3. Desarrollo"
      ]
    },
    {
      "cell_type": "code",
      "metadata": {
        "id": "L5IapqjKMaKj"
      },
      "source": [
        "code = \"\"\"\n",
        "// Procesamiento de archivos con OpenMP, usando c, ejecutado en Colab. \n",
        "\n",
        "#include <iostream>\n",
        "#include <vector>\n",
        "#include <cstdlib>\n",
        "#include <fstream>\n",
        "#include <string>\n",
        "#include <sys/time.h>\n",
        "#include <omp.h>    // Cabecera OpenMP   \n",
        "\n",
        "// ----------------------------------------------------------------------------\n",
        "// Macros que miden el tiempo.\n",
        "\n",
        "static double dHashTiempoHistory[3];\n",
        "static struct timeval tv;\n",
        "\n",
        "#define TIEMPO_INI( h )      \\\n",
        "   gettimeofday(&tv,NULL);   \\\n",
        "   dHashTiempoHistory[ h ] = tv.tv_sec + tv.tv_usec/1000000.0;\n",
        "   \n",
        "   \n",
        "#define TIEMPO_FIN( h )      \\\n",
        "   gettimeofday(&tv,NULL);   \\\n",
        "   dHashTiempoHistory[ h ] = ((tv.tv_sec + tv.tv_usec/1000000.0) - dHashTiempoHistory[ h ]) * 1000; // Devuelvo en milisegundos\n",
        "#define TIEMPO_GET( h ) dHashTiempoHistory[ h ]\n",
        "\n",
        "#define HTH_TOTAL         1\n",
        "#define HTH_AXPY_SEC      2\n",
        "#define HTH_AXPY_OMP      3\n",
        "\n",
        "// ----------------------------------------------------------------------------\n",
        "\n",
        "int main(int argc, char* argv[]) \n",
        "{ \n",
        "  int i;\n",
        "  int cant_files;\n",
        "  TIEMPO_INI( HTH_TOTAL )\n",
        "\n",
        "  /*if( argc != 4 )\n",
        "  {\n",
        "      std::cerr<< \" Error en los parametros de indicar: (alfa), (Tamanio vector), (ciclos ejecucion).\"<<argc<<std::endl;\n",
        "      exit( -1 );\n",
        "  }*/\n",
        "\n",
        "  int cantidad_N = atoi(argv[1]);\n",
        "  int number_of_lines[cantidad_N] = {0, 0, 0};\n",
        "   TIEMPO_INI( HTH_AXPY_OMP )\n",
        "\n",
        "    cant_files = atoi(argv[1]);\n",
        "\n",
        "    #pragma omp parallel for\n",
        "    for(i=0; i < cant_files; i++){\n",
        "      number_of_lines[i] = 0;\n",
        "      std::string line;\n",
        "      std::ifstream myfile(argv[2 + i]);\n",
        "      while (std::getline(myfile, line)){\n",
        "        number_of_lines[i]++;\n",
        "      }\n",
        "      std::cout << \"Nombre de archivo: \" << argv[2 + i];\n",
        "      std::cout << \" \" << std::endl;\n",
        "      std::cout << \"Lineas de texto de archivo: \" << number_of_lines[i];\n",
        "      std::cout << \" \" << std::endl;\n",
        "    }\n",
        "    \n",
        "    TIEMPO_FIN( HTH_AXPY_OMP )\n",
        "\n",
        "\n",
        "\n",
        "  TIEMPO_FIN( HTH_AXPY_OMP )\n",
        "\n",
        "  //-------------CIERRO_ARCHIVOS------------------\n",
        "  // --------------------------------------------\n",
        "\n",
        "}\n",
        "\"\"\"\n",
        "text_file = open(\"code_axpy.cpp\", \"w\")\n",
        "text_file.write(code)\n",
        "text_file.close()"
      ],
      "execution_count": 81,
      "outputs": []
    },
    {
      "cell_type": "code",
      "metadata": {
        "id": "pTHrWdRsOlg6"
      },
      "source": [
        "!g++ -o axpy -fopenmp code_axpy.cpp"
      ],
      "execution_count": 79,
      "outputs": []
    },
    {
      "cell_type": "code",
      "metadata": {
        "colab": {
          "base_uri": "https://localhost:8080/"
        },
        "id": "EgUuhPc7OrSC",
        "outputId": "f23effb1-4110-4e4e-dce3-88cb876f6407"
      },
      "source": [
        "%env OMP_NUM_THREADS=3\n",
        "!./axpy 3 \"2015.txt\" \"2016.txt\" \"2014.txt\""
      ],
      "execution_count": 80,
      "outputs": [
        {
          "output_type": "stream",
          "text": [
            "env: OMP_NUM_THREADS=3\n",
            "Name of file: 2014.txt \n",
            "Number of lines in text file: 30326 \n",
            "Name of file: 2015.txt \n",
            "Number of lines in text file: 44724 \n",
            "Name of file: 2016.txt \n",
            "Number of lines in text file: 43704 \n"
          ],
          "name": "stdout"
        }
      ]
    },
    {
      "cell_type": "markdown",
      "metadata": {
        "id": "_mZnl8Yaha4_"
      },
      "source": [
        "#4. Tabla de pasos"
      ]
    },
    {
      "cell_type": "markdown",
      "metadata": {
        "id": "G5UY9Oxhhfin"
      },
      "source": [
        "#5. Conclusiones"
      ]
    }
  ]
}