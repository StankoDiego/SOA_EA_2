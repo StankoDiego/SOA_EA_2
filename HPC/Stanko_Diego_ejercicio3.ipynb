{
  "nbformat": 4,
  "nbformat_minor": 0,
  "metadata": {
    "colab": {
      "name": "Stanko_Diego_ejercicio3.ipynb",
      "provenance": [],
      "authorship_tag": "ABX9TyOt6xphKpSYY/eTneXZTntn",
      "include_colab_link": true
    },
    "kernelspec": {
      "name": "python3",
      "display_name": "Python 3"
    }
  },
  "cells": [
    {
      "cell_type": "markdown",
      "metadata": {
        "id": "view-in-github",
        "colab_type": "text"
      },
      "source": [
        "<a href=\"https://colab.research.google.com/github/StankoDiego/SOA_EA_2/blob/main/HPC/Stanko_Diego_ejercicio3.ipynb\" target=\"_parent\"><img src=\"https://colab.research.google.com/assets/colab-badge.svg\" alt=\"Open In Colab\"/></a>"
      ]
    },
    {
      "cell_type": "markdown",
      "metadata": {
        "id": "Z1fr5L7lhTXh"
      },
      "source": [
        "#1. Introcción"
      ]
    },
    {
      "cell_type": "markdown",
      "metadata": {
        "id": "mnzSSvRJhVZ2"
      },
      "source": [
        "#2. Armado del ambiente"
      ]
    },
    {
      "cell_type": "markdown",
      "metadata": {
        "id": "jgHUHK3ThXzv"
      },
      "source": [
        "#3. Desarrollo"
      ]
    },
    {
      "cell_type": "markdown",
      "metadata": {
        "id": "_mZnl8Yaha4_"
      },
      "source": [
        "#4. Tabla de pasos"
      ]
    },
    {
      "cell_type": "markdown",
      "metadata": {
        "id": "G5UY9Oxhhfin"
      },
      "source": [
        "#5. Conclusiones"
      ]
    }
  ]
}