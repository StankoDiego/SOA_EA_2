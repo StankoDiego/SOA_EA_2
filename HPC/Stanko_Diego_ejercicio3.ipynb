{
  "nbformat": 4,
  "nbformat_minor": 0,
  "metadata": {
    "colab": {
      "name": "Stanko_Diego_ejercicio3.ipynb",
      "provenance": [],
      "authorship_tag": "ABX9TyO8mRQRwI1y2PPRkubMMv8S",
      "include_colab_link": true
    },
    "kernelspec": {
      "name": "python3",
      "display_name": "Python 3"
    }
  },
  "cells": [
    {
      "cell_type": "markdown",
      "metadata": {
        "id": "view-in-github",
        "colab_type": "text"
      },
      "source": [
        "<a href=\"https://colab.research.google.com/github/StankoDiego/SOA_EA_2/blob/main/HPC/Stanko_Diego_ejercicio3.ipynb\" target=\"_parent\"><img src=\"https://colab.research.google.com/assets/colab-badge.svg\" alt=\"Open In Colab\"/></a>"
      ]
    },
    {
      "cell_type": "markdown",
      "metadata": {
        "id": "Z1fr5L7lhTXh"
      },
      "source": [
        "#1. Introcción"
      ]
    },
    {
      "cell_type": "markdown",
      "metadata": {
        "id": "mnzSSvRJhVZ2"
      },
      "source": [
        "#2. Armado del ambiente"
      ]
    },
    {
      "cell_type": "markdown",
      "metadata": {
        "id": "WsdFEqZFvC9z"
      },
      "source": [
        "Es necesario descargar los archivos que seran utilizados por el algoritmo"
      ]
    },
    {
      "cell_type": "code",
      "metadata": {
        "id": "EjMYpYgqLzjT"
      },
      "source": [
        "url_archivo_1 = \"https://github.com/StankoDiego/SOA_EA_2/blob/main/2014.txt?raw=true\"\n",
        "url_archivo_2 = \"https://github.com/StankoDiego/SOA_EA_2/blob/main/2015.txt?raw=true\"\n",
        "url_archivo_3 = \"https://github.com/StankoDiego/SOA_EA_2/blob/main/2016.txt?raw=true\"\n",
        "url_archivo_4 = \"https://github.com/StankoDiego/SOA_EA_2/blob/main/2017.txt?raw=true\"\n",
        "url_archivo_5 = \"https://github.com/StankoDiego/SOA_EA_2/blob/main/2018.txt?raw=true\"\n",
        "url_archivo_6 = \"https://github.com/StankoDiego/SOA_EA_2/blob/main/2019.txt?raw=true\"\n",
        "url_archivo_7 = \"https://github.com/StankoDiego/SOA_EA_2/blob/main/2020.txt?raw=true\"\n",
        "\n",
        "!wget {url_archivo_1} -O \"2014.txt\"\n",
        "!wget {url_archivo_2} -O \"2015.txt\"\n",
        "!wget {url_archivo_3} -O \"2016.txt\"\n",
        "!wget {url_archivo_4} -O \"2017.txt\"\n",
        "!wget {url_archivo_5} -O \"2018.txt\"\n",
        "!wget {url_archivo_6} -O \"2019.txt\"\n",
        "!wget {url_archivo_7} -O \"2020.txt\""
      ],
      "execution_count": null,
      "outputs": []
    },
    {
      "cell_type": "markdown",
      "metadata": {
        "id": "jgHUHK3ThXzv"
      },
      "source": [
        "#3. Desarrollo"
      ]
    },
    {
      "cell_type": "code",
      "metadata": {
        "id": "L5IapqjKMaKj"
      },
      "source": [
        "code = \"\"\"\n",
        "// Procesamiento de archivos con OpenMP, usando c, ejecutado en Colab. \n",
        "\n",
        "#include <iostream>\n",
        "#include <vector>\n",
        "#include <cstdlib>\n",
        "#include <fstream>\n",
        "#include <string>\n",
        "#include <sys/time.h>\n",
        "#include <omp.h>    // Cabecera OpenMP   \n",
        "\n",
        "// ----------------------------------------------------------------------------\n",
        "// Macros que miden el tiempo.\n",
        "\n",
        "static double dHashTiempoHistory[3];\n",
        "static struct timeval tv;\n",
        "\n",
        "#define TIEMPO_INI( h )      \\\n",
        "   gettimeofday(&tv,NULL);   \\\n",
        "   dHashTiempoHistory[ h ] = tv.tv_sec + tv.tv_usec/1000000.0;\n",
        "   \n",
        "   \n",
        "#define TIEMPO_FIN( h )      \\\n",
        "   gettimeofday(&tv,NULL);   \\\n",
        "   dHashTiempoHistory[ h ] = ((tv.tv_sec + tv.tv_usec/1000000.0) - dHashTiempoHistory[ h ]) * 1000; // Devuelvo en milisegundos\n",
        "#define TIEMPO_GET( h ) dHashTiempoHistory[ h ]\n",
        "\n",
        "#define HTH_TOTAL         1\n",
        "#define HTH_AXPY_SEC      2\n",
        "#define HTH_AXPY_OMP      3\n",
        "\n",
        "// ----------------------------------------------------------------------------\n",
        "\n",
        "int main(int argc, char* argv[]) \n",
        "{ \n",
        "  int i;\n",
        "  TIEMPO_INI( HTH_TOTAL )\n",
        "\n",
        "  if( argc < 2)\n",
        "  {\n",
        "      std::cerr<< \" Error en los parametros de indicar: (cant_archivos), archivos (20XX.txt).\"<<argc<<std::endl;\n",
        "      exit( -1 );\n",
        "  }\n",
        "\n",
        "  int cant_files = atoi(argv[1]);\n",
        "  int number_of_lines[cant_files];\n",
        "\n",
        "  int j = 0;\n",
        "  for(j = 0; j < cant_files; j++){\n",
        "    number_of_lines[j] = 0;\n",
        "  }\n",
        "   TIEMPO_INI( HTH_AXPY_OMP )   \n",
        "\n",
        "    #pragma omp parallel for\n",
        "    for(i=0; i < cant_files; i++){\n",
        "      number_of_lines[i] = 0;\n",
        "      std::string line;\n",
        "      std::ifstream myfile(argv[2 + i]);\n",
        "      while (std::getline(myfile, line)){\n",
        "        number_of_lines[i]++;\n",
        "      }\n",
        "      std::cout << \"Nombre de archivo: \" << argv[2 + i];\n",
        "      std::cout << \" \" << std::endl;\n",
        "      std::cout << \"Lineas de texto de archivo: \" << number_of_lines[i];\n",
        "      std::cout << \" \" << std::endl;\n",
        "    }\n",
        "    \n",
        "    TIEMPO_FIN( HTH_AXPY_OMP )\n",
        "    TIEMPO_FIN( HTH_TOTAL )\n",
        "\n",
        "    int max = number_of_lines[0];\n",
        "    int pos = -1;\n",
        "\n",
        "    for(i = 1; i < cant_files; i++){\n",
        "      if(max < number_of_lines[i]){\n",
        "        max = number_of_lines[i];\n",
        "        pos = i;\n",
        "      }\n",
        "    }\n",
        "\n",
        " std::cout<<\"--------------------------------------------------------\"<<std::endl;\n",
        " std::cout << \"Nombre de archivo: \" << argv[pos + 2]<<std::endl;\n",
        " std::cout << \"Maxima cantidad de lineas de texto de archivo: \" << number_of_lines[pos]<<std::endl;\n",
        " std::cout<<\"--------------------------------------------------------\"<<std::endl;\n",
        " std::cout<<\"Tiempo TOTAL     : \"<<TIEMPO_GET(HTH_TOTAL   )<<\" [ms]\"<<std::endl;\n",
        " std::cout<<\"Tiempo axpy Omp  : \"<<TIEMPO_GET(HTH_AXPY_OMP)<<\" [ms]\"<<std::endl;\n",
        " std::cout<<std::endl;\n",
        "\n",
        "}\n",
        "\"\"\"\n",
        "text_file = open(\"archivos.cpp\", \"w\")\n",
        "text_file.write(code)\n",
        "text_file.close()"
      ],
      "execution_count": 36,
      "outputs": []
    },
    {
      "cell_type": "markdown",
      "metadata": {
        "id": "R9OALzTHvVRa"
      },
      "source": [
        "##3.1 Compilacion de código C Archivo"
      ]
    },
    {
      "cell_type": "code",
      "metadata": {
        "id": "pTHrWdRsOlg6"
      },
      "source": [
        "!g++ -o archivos -fopenmp archivos.cpp"
      ],
      "execution_count": 37,
      "outputs": []
    },
    {
      "cell_type": "markdown",
      "metadata": {
        "id": "jMkl-k_mvffS"
      },
      "source": [
        "##3.2 Ejecucion de ejecutable Archivo "
      ]
    },
    {
      "cell_type": "code",
      "metadata": {
        "id": "EgUuhPc7OrSC"
      },
      "source": [
        "%env OMP_NUM_THREADS=10\n",
        "!./archivos 7 \"2014.txt\" \"2015.txt\" \"2016.txt\" \"2017.txt\" \"2018.txt\" \"2019.txt\" \"2020.txt\" "
      ],
      "execution_count": null,
      "outputs": []
    },
    {
      "cell_type": "markdown",
      "metadata": {
        "id": "_mZnl8Yaha4_"
      },
      "source": [
        "#4. Tabla de pasos"
      ]
    },
    {
      "cell_type": "markdown",
      "metadata": {
        "id": "S--ze3PpwDBs"
      },
      "source": [
        "Tabla de ejecucion de openMP\n",
        ">Lenguaje|Procesador | Funcion | Detalle\n",
        ">--- | --- | --- |---\n",
        ">Phyton|CPU\t|code|Codigo Python que define el código C para implementar openMP\n",
        ">Phyton|CPU|text_file = open()|Genera el archivo .cpp para escritura\n",
        ">Phyton|CPU|text_file.write|Escribe el archivo .cpp\n",
        ">Phyton|CPU|text_file.close|Cierra el archivo .cpp\n",
        ">C|CPU|TIEMPO_INI( HTH_TOTAL )|Toma el tiempo inicial de la ejecucion\n",
        ">C|\tCPU|TIEMPO_INI( HTH_AXPY_OMP )|Toma el tiempo inicial del procesamiento paralelo\n",
        ">C|**GPU**|#pragma omp parallel for|Se define el fragemento de código que se ejecutara de forma paraleal\n",
        ">C|**GPU**|for(i=0; i < cant_files; i++)|Ejecuta de forma paralela el codigo interno del for\n",
        ">C|\tCPU|TIEMPO_FIN( HTH_AXPY_OMP )|Toma el tiempo final del procesamiento paralelo\n",
        ">C|\tCPU|TIEMPO_FIN( HTH_TOTAL )|Toma el tiempo final de la ejecucion del programa\n",
        ">C|\tCPU|TIEMPO_FIN( HTH_TOTAL )|Toma el tiempo final de la ejecucion del programa\n",
        ">C|\tCPU|std::cout<<\"\"<<std::endl|Muestra de información\n",
        "    "
      ]
    },
    {
      "cell_type": "markdown",
      "metadata": {
        "id": "G5UY9Oxhhfin"
      },
      "source": [
        "#5. Conclusiones"
      ]
    }
  ]
}