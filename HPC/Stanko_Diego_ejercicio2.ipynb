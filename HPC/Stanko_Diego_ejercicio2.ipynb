{
  "nbformat": 4,
  "nbformat_minor": 0,
  "metadata": {
    "colab": {
      "name": "Stanko_Diego_ejercicio2.ipynb",
      "provenance": [],
      "authorship_tag": "ABX9TyOE2hHayNMkCWUFbLbRmp/u",
      "include_colab_link": true
    },
    "kernelspec": {
      "name": "python3",
      "display_name": "Python 3"
    }
  },
  "cells": [
    {
      "cell_type": "markdown",
      "metadata": {
        "id": "view-in-github",
        "colab_type": "text"
      },
      "source": [
        "<a href=\"https://colab.research.google.com/github/StankoDiego/SOA_EA_2/blob/main/HPC/Stanko_Diego_ejercicio2.ipynb\" target=\"_parent\"><img src=\"https://colab.research.google.com/assets/colab-badge.svg\" alt=\"Open In Colab\"/></a>"
      ]
    },
    {
      "cell_type": "markdown",
      "metadata": {
        "id": "w7j9ao2B9c4E"
      },
      "source": [
        "#1. Introducción"
      ]
    },
    {
      "cell_type": "markdown",
      "metadata": {
        "id": "lmnpRzgg9kTb"
      },
      "source": [
        "#2. Armado del ambiente"
      ]
    },
    {
      "cell_type": "markdown",
      "metadata": {
        "id": "c4z5eBuU9pRy"
      },
      "source": [
        "##2.1 Armado del ambiente en CPU"
      ]
    },
    {
      "cell_type": "code",
      "metadata": {
        "id": "WFPjPw4H-gDD"
      },
      "source": [
        "#@title ##2.1.1 Parámetros de ejecución\n",
        "#@markdown ---\n",
        "\n",
        "url_imagen = \"https://github.com/StankoDiego/SOA_EA_2/blob/main/HPC/los-paisajes-1-768x512.jpg\" #@param {type: \"string\"}\n",
        "\n",
        "#@markdowm ---\n",
        "!wget {url_imagen} -O imagen.jpg"
      ],
      "execution_count": null,
      "outputs": []
    },
    {
      "cell_type": "markdown",
      "metadata": {
        "id": "pCdvhcwu9vXy"
      },
      "source": [
        "##2.1 Armado del ambiente en GPU"
      ]
    },
    {
      "cell_type": "markdown",
      "metadata": {
        "id": "gUCDxn8-9ywT"
      },
      "source": [
        "#3. Desarrollo"
      ]
    },
    {
      "cell_type": "markdown",
      "metadata": {
        "id": "aDJ5YrXp91Jy"
      },
      "source": [
        "##3.1 Desarrollo en CPU"
      ]
    },
    {
      "cell_type": "code",
      "metadata": {
        "id": "OnWXJbo6BePp"
      },
      "source": [
        "%matplotlib inline\n",
        "\n",
        "import time\n",
        "\n",
        "tiempoTotal = time.time() * 1000\n",
        "\n",
        "import matplotlib.pyplot as plt\n",
        "import numpy\n",
        "from PIL import Image\n",
        "\n",
        "#Tomo el tiempo de inicio\n",
        "tiempoTotal = (time.time() * 1000) - tiempoTotal\n",
        "\n",
        "img = 'imagen.jpg'\n",
        "image = Image.open(img)\n",
        "\n",
        "#Obtengo aspectos de la imagen\n",
        "img_ancho, img_alto = image.size\n",
        "\n",
        "#Convierto la imagen en array\n",
        "img_pic_cpu = numpy.asarray(image)\n",
        "\n",
        "#Creo un array para el resultado\n",
        "img_pic_cpu = numpy.empty_like(img_pic_cpu)\n",
        "\n",
        "#Muestro atributos y la imagen original\n",
        "print(\"Imagen de filtro: \", img, \"Tamaño de imagen: \\n\", \"Ancho: \", img_ancho, \"Alto: \", img_alto)\n"
      ],
      "execution_count": null,
      "outputs": []
    },
    {
      "cell_type": "markdown",
      "metadata": {
        "id": "qvdUxO9d93Xa"
      },
      "source": [
        "##3.2 Desarrollo en GPU"
      ]
    },
    {
      "cell_type": "markdown",
      "metadata": {
        "id": "ftAKsvjH953S"
      },
      "source": [
        "#4. Tabla de pasos"
      ]
    },
    {
      "cell_type": "markdown",
      "metadata": {
        "id": "Ncs8MsOX9_yz"
      },
      "source": [
        "##4.1 Tabla de pasos CPU"
      ]
    },
    {
      "cell_type": "markdown",
      "metadata": {
        "id": "PAtzQqbF-FGT"
      },
      "source": [
        "##4.1 Tabla de pasos GPU"
      ]
    },
    {
      "cell_type": "markdown",
      "metadata": {
        "id": "nDk8h3X0-I2C"
      },
      "source": [
        "#5. Conclusiones"
      ]
    }
  ]
}