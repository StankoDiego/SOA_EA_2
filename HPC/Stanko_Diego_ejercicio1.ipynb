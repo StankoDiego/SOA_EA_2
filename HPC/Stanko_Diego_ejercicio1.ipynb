{
  "nbformat": 4,
  "nbformat_minor": 0,
  "metadata": {
    "colab": {
      "name": "Ejercicio1.ipynb",
      "provenance": [],
      "include_colab_link": true
    },
    "kernelspec": {
      "name": "python3",
      "display_name": "Python 3"
    }
  },
  "cells": [
    {
      "cell_type": "markdown",
      "metadata": {
        "id": "view-in-github",
        "colab_type": "text"
      },
      "source": [
        "<a href=\"https://colab.research.google.com/github/StankoDiego/SOA_EA_2/blob/main/HPC/Stanko_Diego_ejercicio1.ipynb\" target=\"_parent\"><img src=\"https://colab.research.google.com/assets/colab-badge.svg\" alt=\"Open In Colab\"/></a>"
      ]
    },
    {
      "cell_type": "markdown",
      "metadata": {
        "id": "0AHr4OTde4v8"
      },
      "source": [
        "# 1.Introducción\n"
      ]
    },
    {
      "cell_type": "markdown",
      "metadata": {
        "id": "f5oDDBG5fuCS"
      },
      "source": [
        "# 2.Armado del ambiente\n"
      ]
    },
    {
      "cell_type": "code",
      "metadata": {
        "id": "-USEk-FE1uTj"
      },
      "source": [
        "#--------------------------------------------------------------\n",
        "#@title 2.1 Parametros de ejecución { vertical-output: true }\n",
        "#@markdown ---\n",
        "#@markdown ### Instalacion de bibliotecas de Python\n"
      ],
      "execution_count": null,
      "outputs": []
    },
    {
      "cell_type": "markdown",
      "metadata": {
        "id": "BdxMWLPkf4NJ"
      },
      "source": [
        "# 3.Desarrollo\n"
      ]
    },
    {
      "cell_type": "code",
      "metadata": {
        "id": "J6Lp2Y_iwr10"
      },
      "source": [
        "#--------------------------------------------------------------\n",
        "#@title 3.1 Parametros de ejecución { vertical-output: true }\n",
        "\n",
        "cantidad_N =  4#@param {type: \"number\"}\n",
        "\n",
        "from sympy import *\n",
        "import numpy\n",
        "\n",
        "x = symbol(\"X\")\n",
        "\n",
        "x_coeficientes = numpy.random.randint(15, size=cantidad_N+1)\n",
        "\n",
        "x_potencias = []\n",
        "\n",
        "contador = cantidad_N\n",
        "\n",
        "for idx in range(0, cantidad_N):\n",
        "  x_potencias.append(contador)\n",
        "  contador-=1 \n",
        "\n",
        "x_potencias.append(0)\n",
        "\n",
        "\n",
        "for \n",
        "  "
      ],
      "execution_count": 97,
      "outputs": []
    },
    {
      "cell_type": "markdown",
      "metadata": {
        "id": "aXdRYmldf6Yy"
      },
      "source": [
        "#4.Tabla de pasos\n"
      ]
    },
    {
      "cell_type": "markdown",
      "metadata": {
        "id": "g1_dUNSKf8gR"
      },
      "source": [
        "# 5.Conclusiones"
      ]
    },
    {
      "cell_type": "markdown",
      "metadata": {
        "id": "95n0fDf0gAGe"
      },
      "source": [
        "# 6.Bibliografía\n"
      ]
    }
  ]
}