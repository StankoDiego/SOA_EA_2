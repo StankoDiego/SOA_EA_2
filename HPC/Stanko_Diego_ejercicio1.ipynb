{
  "nbformat": 4,
  "nbformat_minor": 0,
  "metadata": {
    "colab": {
      "name": "Ejercicio1.ipynb",
      "provenance": []
    },
    "kernelspec": {
      "name": "python3",
      "display_name": "Python 3"
    }
  },
  "cells": [
    {
      "cell_type": "markdown",
      "metadata": {
        "id": "0AHr4OTde4v8"
      },
      "source": [
        "# 1.Introducción\n"
      ]
    },
    {
      "cell_type": "markdown",
      "metadata": {
        "id": "f5oDDBG5fuCS"
      },
      "source": [
        "# 2.Armado del ambiente\n"
      ]
    },
    {
      "cell_type": "code",
      "metadata": {
        "id": "-USEk-FE1uTj"
      },
      "source": [
        "#--------------------------------------------------------------\n",
        "#@title 2.1 Parametros de ejecución { vertical-output: true }\n",
        "#@markdown ---\n",
        "#@markdown ### Instalacion de bibliotecas de Python\n"
      ],
      "execution_count": null,
      "outputs": []
    },
    {
      "cell_type": "markdown",
      "metadata": {
        "id": "BdxMWLPkf4NJ"
      },
      "source": [
        "# 3.Desarrollo\n"
      ]
    },
    {
      "cell_type": "code",
      "metadata": {
        "id": "J6Lp2Y_iwr10",
        "outputId": "7380359f-933e-4af2-cb12-612fb459e5f2",
        "colab": {
          "base_uri": "https://localhost:8080/",
          "height": 274
        }
      },
      "source": [
        "#--------------------------------------------------------------\n",
        "#@title 3.1 Parametros de ejecución { vertical-output: true }\n",
        "\n",
        "cantidad_N =  10#@param {type: \"number\"}\n",
        "\n",
        "from sympy import Derivative, diff, simplify\n",
        "\n",
        "fx = (2*x + 1)*(x**3 + 2)\n",
        "dx = Derivative(fx, x).doit()\n",
        "dx\n",
        "\n",
        "\n",
        "  "
      ],
      "execution_count": 2,
      "outputs": [
        {
          "output_type": "error",
          "ename": "NameError",
          "evalue": "ignored",
          "traceback": [
            "\u001b[0;31m---------------------------------------------------------------------------\u001b[0m",
            "\u001b[0;31mNameError\u001b[0m                                 Traceback (most recent call last)",
            "\u001b[0;32m<ipython-input-2-2106bf21e404>\u001b[0m in \u001b[0;36m<module>\u001b[0;34m()\u001b[0m\n\u001b[1;32m      6\u001b[0m \u001b[0;32mfrom\u001b[0m \u001b[0msympy\u001b[0m \u001b[0;32mimport\u001b[0m \u001b[0mDerivative\u001b[0m\u001b[0;34m,\u001b[0m \u001b[0mdiff\u001b[0m\u001b[0;34m,\u001b[0m \u001b[0msimplify\u001b[0m\u001b[0;34m\u001b[0m\u001b[0;34m\u001b[0m\u001b[0m\n\u001b[1;32m      7\u001b[0m \u001b[0;34m\u001b[0m\u001b[0m\n\u001b[0;32m----> 8\u001b[0;31m \u001b[0mfx\u001b[0m \u001b[0;34m=\u001b[0m \u001b[0;34m(\u001b[0m\u001b[0;36m2\u001b[0m\u001b[0;34m*\u001b[0m\u001b[0mx\u001b[0m \u001b[0;34m+\u001b[0m \u001b[0;36m1\u001b[0m\u001b[0;34m)\u001b[0m\u001b[0;34m*\u001b[0m\u001b[0;34m(\u001b[0m\u001b[0mx\u001b[0m\u001b[0;34m**\u001b[0m\u001b[0;36m3\u001b[0m \u001b[0;34m+\u001b[0m \u001b[0;36m2\u001b[0m\u001b[0;34m)\u001b[0m\u001b[0;34m\u001b[0m\u001b[0;34m\u001b[0m\u001b[0m\n\u001b[0m\u001b[1;32m      9\u001b[0m \u001b[0mdx\u001b[0m \u001b[0;34m=\u001b[0m \u001b[0mDerivative\u001b[0m\u001b[0;34m(\u001b[0m\u001b[0mfx\u001b[0m\u001b[0;34m,\u001b[0m \u001b[0mx\u001b[0m\u001b[0;34m)\u001b[0m\u001b[0;34m.\u001b[0m\u001b[0mdoit\u001b[0m\u001b[0;34m(\u001b[0m\u001b[0;34m)\u001b[0m\u001b[0;34m\u001b[0m\u001b[0;34m\u001b[0m\u001b[0m\n\u001b[1;32m     10\u001b[0m \u001b[0mdx\u001b[0m\u001b[0;34m\u001b[0m\u001b[0;34m\u001b[0m\u001b[0m\n",
            "\u001b[0;31mNameError\u001b[0m: name 'x' is not defined"
          ]
        }
      ]
    },
    {
      "cell_type": "markdown",
      "metadata": {
        "id": "aXdRYmldf6Yy"
      },
      "source": [
        "#4.Tabla de pasos\n"
      ]
    },
    {
      "cell_type": "markdown",
      "metadata": {
        "id": "g1_dUNSKf8gR"
      },
      "source": [
        "# 5.Conclusiones"
      ]
    },
    {
      "cell_type": "markdown",
      "metadata": {
        "id": "95n0fDf0gAGe"
      },
      "source": [
        "# 6.Bibliografía\n"
      ]
    }
  ]
}