{
  "nbformat": 4,
  "nbformat_minor": 0,
  "metadata": {
    "colab": {
      "name": "Stanko_Diego_ejercicio1.ipynb",
      "provenance": [],
      "authorship_tag": "ABX9TyOI6Y1J5B9oVHYL5SGlfhlU",
      "include_colab_link": true
    },
    "kernelspec": {
      "name": "python3",
      "display_name": "Python 3"
    },
    "accelerator": "GPU"
  },
  "cells": [
    {
      "cell_type": "markdown",
      "metadata": {
        "id": "view-in-github",
        "colab_type": "text"
      },
      "source": [
        "<a href=\"https://colab.research.google.com/github/StankoDiego/SOA_EA_2/blob/main/HPC/Stanko_Diego_ejercicio1.ipynb\" target=\"_parent\"><img src=\"https://colab.research.google.com/assets/colab-badge.svg\" alt=\"Open In Colab\"/></a>"
      ]
    },
    {
      "cell_type": "markdown",
      "metadata": {
        "id": "cLmL1H8LRmDW"
      },
      "source": [
        "#1. Introducción"
      ]
    },
    {
      "cell_type": "markdown",
      "metadata": {
        "id": "GxSWFDGpRpRF"
      },
      "source": [
        "# 2. Armado del ambiente"
      ]
    },
    {
      "cell_type": "markdown",
      "metadata": {
        "id": "8w9eSqsERuCL"
      },
      "source": [
        "## 2.1 Armado del ambiente en CPU"
      ]
    },
    {
      "cell_type": "markdown",
      "metadata": {
        "id": "i7TYEZYuSHXr"
      },
      "source": [
        "No se requiere ejecuciones previas para la ejecución del programa"
      ]
    },
    {
      "cell_type": "markdown",
      "metadata": {
        "id": "x8-WQFJ5RwbD"
      },
      "source": [
        "##2.2 Armado del ambiente en GPU"
      ]
    },
    {
      "cell_type": "markdown",
      "metadata": {
        "id": "1Jot60pXSNbL"
      },
      "source": [
        "Se requiere la instalación del modulo de Cuda para Python"
      ]
    },
    {
      "cell_type": "code",
      "metadata": {
        "id": "XuWy5PSgSiOH",
        "colab": {
          "base_uri": "https://localhost:8080/"
        },
        "outputId": "138c6bdc-66f7-46df-9e54-650c0c618f37"
      },
      "source": [
        "!pip install pycuda\n"
      ],
      "execution_count": 2,
      "outputs": [
        {
          "output_type": "stream",
          "text": [
            "Collecting pycuda\n",
            "\u001b[?25l  Downloading https://files.pythonhosted.org/packages/46/61/47d3235a4c13eec5a5f03594ddb268f4858734e02980afbcd806e6242fa5/pycuda-2020.1.tar.gz (1.6MB)\n",
            "\u001b[K     |████████████████████████████████| 1.6MB 20.8MB/s \n",
            "\u001b[?25hCollecting pytools>=2011.2\n",
            "\u001b[?25l  Downloading https://files.pythonhosted.org/packages/b7/30/c9362a282ef89106768cba9d884f4b2e4f5dc6881d0c19b478d2a710b82b/pytools-2020.4.3.tar.gz (62kB)\n",
            "\u001b[K     |████████████████████████████████| 71kB 12.0MB/s \n",
            "\u001b[?25hRequirement already satisfied: decorator>=3.2.0 in /usr/local/lib/python3.6/dist-packages (from pycuda) (4.4.2)\n",
            "Collecting appdirs>=1.4.0\n",
            "  Downloading https://files.pythonhosted.org/packages/3b/00/2344469e2084fb287c2e0b57b72910309874c3245463acd6cf5e3db69324/appdirs-1.4.4-py2.py3-none-any.whl\n",
            "Collecting mako\n",
            "\u001b[?25l  Downloading https://files.pythonhosted.org/packages/a6/37/0e706200d22172eb8fa17d68a7ae22dec7631a0a92266634fb518a88a5b2/Mako-1.1.3-py2.py3-none-any.whl (75kB)\n",
            "\u001b[K     |████████████████████████████████| 81kB 13.0MB/s \n",
            "\u001b[?25hRequirement already satisfied: six>=1.8.0 in /usr/local/lib/python3.6/dist-packages (from pytools>=2011.2->pycuda) (1.15.0)\n",
            "Requirement already satisfied: numpy>=1.6.0 in /usr/local/lib/python3.6/dist-packages (from pytools>=2011.2->pycuda) (1.18.5)\n",
            "Requirement already satisfied: dataclasses>=0.7 in /usr/local/lib/python3.6/dist-packages (from pytools>=2011.2->pycuda) (0.7)\n",
            "Requirement already satisfied: MarkupSafe>=0.9.2 in /usr/local/lib/python3.6/dist-packages (from mako->pycuda) (1.1.1)\n",
            "Building wheels for collected packages: pycuda, pytools\n",
            "  Building wheel for pycuda (setup.py) ... \u001b[?25l\u001b[?25hdone\n",
            "  Created wheel for pycuda: filename=pycuda-2020.1-cp36-cp36m-linux_x86_64.whl size=621008 sha256=0af37181779b7e5efe3f56bc34fd6d5125fd01a82776e7163777e09589db6a8f\n",
            "  Stored in directory: /root/.cache/pip/wheels/8f/78/d1/5bb826f81d9d490297a348d818ff3ee6dd6f2075b06dde6ea0\n",
            "  Building wheel for pytools (setup.py) ... \u001b[?25l\u001b[?25hdone\n",
            "  Created wheel for pytools: filename=pytools-2020.4.3-py2.py3-none-any.whl size=61374 sha256=ffe9b64764e1e7f29fa7671507177275469688a37f3d33d84a59c3793126c775\n",
            "  Stored in directory: /root/.cache/pip/wheels/af/c7/81/a22edb90b0b09a880468b2253bb1df8e9f503337ee15432c64\n",
            "Successfully built pycuda pytools\n",
            "Installing collected packages: appdirs, pytools, mako, pycuda\n",
            "Successfully installed appdirs-1.4.4 mako-1.1.3 pycuda-2020.1 pytools-2020.4.3\n"
          ],
          "name": "stdout"
        }
      ]
    },
    {
      "cell_type": "markdown",
      "metadata": {
        "id": "N4pGZF-1R30M"
      },
      "source": [
        "#3. Desarrollo"
      ]
    },
    {
      "cell_type": "markdown",
      "metadata": {
        "id": "R80vJpK7R6vD"
      },
      "source": [
        "##3.1 Desarrollo en CPU"
      ]
    },
    {
      "cell_type": "code",
      "metadata": {
        "id": "_jzfSD6iYXQF",
        "colab": {
          "base_uri": "https://localhost:8080/"
        },
        "outputId": "221e2a47-ea4e-4d7b-c380-63ba4e77ce23"
      },
      "source": [
        "# --------------------------------------------\n",
        "#@title 3.1 Parámetros de ejecución { vertical-output: true }\n",
        "\n",
        "orden_polinomio =  5#@param {type: \"number\"}\n",
        "orden_taylor = 5#@param {type: \"number\"}\n",
        "x0 =  3#@param {type: \"number\"}\n",
        "x = 4#@param {type: \"number\"}\n",
        "# --------------------------------------------\n",
        "\n",
        "import numpy\n",
        "import time\n",
        "import math\n",
        "\n",
        "def factorial(x):\n",
        "  if x == 0 or x == 1:\n",
        "    return 1\n",
        "  factorial = 1\n",
        "  for i in range (1, x+1):\n",
        "    factorial = factorial * i\n",
        "  return factorial\n",
        "\n",
        "tiempoTotal = time.time() * 1000\n",
        "\n",
        "#coeficientes = numpy.random.randint(10, size = orden_polinomio +1)\n",
        "coeficientes = numpy.array([3, 2, 3, 4])\n",
        "\n",
        "longitud_poli = len(coeficientes)\n",
        "\n",
        "derivadas = numpy.arange(longitud_poli)\n",
        "\n",
        "print(\"Coeficientes:\\n\", coeficientes)\n",
        "\n",
        "polin_taylor = numpy.zeros(orden_taylor + 1 , dtype=float)\n",
        "longitud_taylor = len(polin_taylor)\n",
        "print(\"Orden polinomio\", longitud_poli - 1 )\n",
        "print(\"Longitud_Taylor:\", longitud_taylor)\n",
        "print(\"*****************************************************************\")\n",
        "\n",
        "tiempoBucle = time.time() *1000\n",
        "#----------------------ALGORITMO----------------------------\n",
        "for idx_t in range(0, longitud_taylor):\n",
        "  valor = 0\n",
        "  aux = 0\n",
        "  \n",
        "  if idx_t == 0:\n",
        "    polin_taylor[idx_t] += coeficientes[idx_t]\n",
        "    idx_p = idx_t + 1\n",
        "    for idx in range(idx_p, longitud_poli):\n",
        "      polin_taylor[idx_t] += coeficientes[idx] * math.pow(x0, derivadas[idx])\n",
        "      print(\"idt:\", idx_t, \":idx:\", idx, \"|\", \"aux:\", polin_taylor[idx_t])\n",
        "  else:\n",
        "    if idx_t < longitud_poli - 1:\n",
        "      aux += coeficientes[idx_t]\n",
        "      idx_p = idx_t + 1\n",
        "      resta = math.pow(x - x0, idx_t)\n",
        "      f = factorial(idx_t)\n",
        "      for idx in range(idx_p, longitud_poli):\n",
        "        termino = coeficientes[idx] * derivadas[idx]\n",
        "        coeficientes[idx] = termino\n",
        "        derivadas[idx] = derivadas[idx] - 1\n",
        "        factor = math.pow(x0, derivadas[idx])\n",
        "        aux += termino * factor        \n",
        "        print(\"idt:\", idx_t, \":idx:\", idx,\"|\",\n",
        "              \"aux:\", aux , \"termino:\", termino)\n",
        "      polin_taylor[idx_t] = (aux * resta) / f        \n",
        "    else:\n",
        "      if idx_t >= longitud_poli: \n",
        "        print(\"idx_t:\", idx_t)\n",
        "        valor =  0\n",
        "        polin_taylor[idx_t] = valor\n",
        "        print(\"Valor:\", valor)\n",
        "      else:\n",
        "        print(\"idx_t:\", idx_t)\n",
        "        valor =  coeficientes[idx_t]\n",
        "        resta = math.pow(x - x0, idx_t)\n",
        "        f = factorial(idx_t)\n",
        "        polin_taylor[idx_t] = (valor * resta)/ f\n",
        "        print(\"Valor:\", valor)\n",
        "  print(\"-----------------------------------------------------------------\")\n",
        "#----------------------FINALIZACION----------------------------\n",
        "\n",
        "tiempoBucle = (time.time() *1000) - tiempoBucle\n",
        "print(\"Termino el algoritmo\")\n",
        "print(polin_taylor)\n",
        "\n",
        "tiempoTotal = (time.time() *1000) - tiempoTotal\n",
        "print(\"Tiempo del bucle: \" , tiempoBucle , \"[ms.]\")\n",
        "print(\"Tiempo del total: \" , tiempoTotal , \"[ms.]\")"
      ],
      "execution_count": 17,
      "outputs": [
        {
          "output_type": "stream",
          "text": [
            "Coeficientes:\n",
            " [3 2 3 4]\n",
            "Orden polinomio 3\n",
            "Longitud_Taylor: 6\n",
            "*****************************************************************\n",
            "idt: 0 :idx: 1 | aux: 9.0\n",
            "idt: 0 :idx: 2 | aux: 36.0\n",
            "idt: 0 :idx: 3 | aux: 144.0\n",
            "-----------------------------------------------------------------\n",
            "idt: 1 :idx: 2 | aux: 20.0 termino: 6\n",
            "idt: 1 :idx: 3 | aux: 128.0 termino: 12\n",
            "-----------------------------------------------------------------\n",
            "idt: 2 :idx: 3 | aux: 78.0 termino: 24\n",
            "-----------------------------------------------------------------\n",
            "idx_t: 3\n",
            "Valor: 24\n",
            "-----------------------------------------------------------------\n",
            "idx_t: 4\n",
            "Valor: 0\n",
            "-----------------------------------------------------------------\n",
            "idx_t: 5\n",
            "Valor: 0\n",
            "-----------------------------------------------------------------\n",
            "Termino el algoritmo\n",
            "[144. 128.  39.   4.   0.   0.]\n",
            "Tiempo del bucle:  6.305908203125 [ms.]\n",
            "Tiempo del total:  7.34423828125 [ms.]\n"
          ],
          "name": "stdout"
        }
      ]
    },
    {
      "cell_type": "markdown",
      "metadata": {
        "id": "Zbpxdt3MR_7j"
      },
      "source": [
        "##3.2 Desarrollo en GPU"
      ]
    },
    {
      "cell_type": "code",
      "metadata": {
        "id": "-nVGDpecc-EG",
        "colab": {
          "base_uri": "https://localhost:8080/"
        },
        "outputId": "9d0c6145-0b9a-4121-f369-3261a4e80ab1"
      },
      "source": [
        "# --------------------------------------------\n",
        "#@title 3.1 Parámetros de ejecución { vertical-output: true }\n",
        "\n",
        "orden_polinomio = 50000#@param {type: \"number\"}\n",
        "orden_taylor = 4#@param {type: \"number\"}\n",
        "x0 = 3#@param {type: \"number\"}\n",
        "x = 4#@param {type: \"number\"}\n",
        "# --------------------------------------------\n",
        "\n",
        "import numpy\n",
        "import time\n",
        "\n",
        "import pycuda.driver as cuda\n",
        "import pycuda.autoinit\n",
        "from pycuda.compiler import SourceModule\n",
        "\n",
        "tiempoTotal = (time.time() * 1000)\n",
        "\n",
        "# --------------------------------------------\n",
        "# CPU - Defino la memoria de los vectores en cpu.\n",
        "#coeficientes_cpu = numpy.random.randn(orden_polinomio + 1)\n",
        "coeficientes_cpu = numpy.array([3, 2, 3, 4])\n",
        "coeficientes_cpu = coeficientes_cpu.astype(numpy.float32())\n",
        "long_pol = len(coeficientes_cpu)\n",
        "\n",
        "taylor_cpu = numpy.zeros(orden_taylor + 1, dtype=float)\n",
        "taylor_cpu = taylor_cpu.astype(numpy.float32())\n",
        "long_tay = len(coeficientes_cpu)\n",
        "\n",
        "derivadas_cpu = numpy.arange(long_pol)\n",
        "derivadas_cpu = derivadas_cpu.astype(numpy.int32)\n",
        "\n",
        "resultado_cpu = numpy.empty_like(taylor_cpu)\n",
        "print(\"C:\", coeficientes_cpu)\n",
        "print(\"T:\", taylor_cpu)\n",
        "print(\"D:\", derivadas_cpu)\n",
        "print(\"R:\", resultado_cpu)\n",
        "\n",
        "# CPU - reservo la memoria GPU.\n",
        "coeficientes_gpu = cuda.mem_alloc( coeficientes_cpu.nbytes )\n",
        "taylor_gpu = cuda.mem_alloc( taylor_cpu.nbytes )\n",
        "derivadas_gpu = cuda.mem_alloc( derivadas_cpu.nbytes )\n",
        "# GPU - Copio la memoria al GPU.\n",
        "cuda.memcpy_htod( coeficientes_gpu, coeficientes_cpu )\n",
        "cuda.memcpy_htod( taylor_gpu, taylor_cpu )\n",
        "cuda.memcpy_htod( derivadas_gpu, derivadas_cpu )\n",
        "\n",
        "# CPU - Defino la función kernel que ejecutará en GPU.\n",
        "module = SourceModule(\"\"\"\n",
        "__global__ void kernel_taylor(  int long_p,  int long_t,\n",
        "                                float x0, float x,\n",
        "                                float* C, float* T, int* D){\n",
        "  \n",
        "  int idx_t = threadIdx.x + blockIdx.x*blockDim.x;\n",
        "\n",
        "  int f = 1;\n",
        "  int i;\n",
        "  int idx;\n",
        "  float aux = 0;\n",
        "  float resta;\n",
        "  float termino;\n",
        "  float factor;\n",
        "  float valor;\n",
        "  int idx_p;\n",
        "\n",
        "  for(i = 1; i <= idx_t; i++){\n",
        "    f*= i;\n",
        "  }\n",
        "\n",
        "  float coef = 0;\n",
        "  int j;\n",
        "\n",
        "  if(idx_t == 0){\n",
        "    for(i = idx_t; i < long_p; i++){\n",
        "      T[idx_t] += C[i] * pow((double)x0, (double)i);\n",
        "    }\n",
        "  } else {\n",
        "    if(idx_t < long_p -1){\n",
        "      coef = C[idx_t];\n",
        "      for(i = 0; i < idx_t; i++){\n",
        "        coef *= i + 1;\n",
        "      }\n",
        "      \n",
        "      idx_p = idx_t + 1;\n",
        "      aux = 0;\n",
        "      \n",
        "      for(idx = idx_p; idx < long_p; i++){\n",
        "        factor = C[idx_p];\n",
        "        for(i = 0; i < idx_t; i++){\n",
        "          factor *= --C[idx_p];\n",
        "        }\n",
        "        aux += factor;\n",
        "      }  \n",
        "      T[idx_t] = factor;\n",
        "    }\n",
        "  } \n",
        "}\n",
        "\"\"\")\n",
        "#T[idx_t] += C[idx] * idx * pow((double)x0, (double)idx - idx_t);\n",
        "\n",
        "# CPU - Genero la función kernel.\n",
        "kernel = module.get_function(\"kernel_taylor\")\n",
        "\n",
        "tiempo_gpu = time.time()*1000\n",
        "\n",
        "# GPU - Ejecuta el kernel.\n",
        "# TODO: Falta consultar limites del GPU, para armar las dimensiones correctamente.\n",
        "dim_hilo = 256\n",
        "dim_bloque = numpy.int( (long_tay+dim_hilo-1) / dim_hilo )\n",
        "print( \"Thread x: \", dim_hilo, \", Bloque x:\", dim_bloque )\n",
        "\n",
        "#TODO: Ojo, con los tipos de las variables en el kernel.\n",
        "kernel( numpy.int32(long_pol), numpy.int32(long_tay),\n",
        "       numpy.float32(x0), numpy.float32(x),      \n",
        "       coeficientes_gpu, taylor_gpu, derivadas_gpu,\n",
        "       block=( dim_hilo, 1, 1 ),grid=(dim_bloque, 1,1) )\n",
        "\n",
        "tiempo_gpu = time.time()*1000 - tiempo_gpu\n",
        "\n",
        "# GPU - Copio el resultado desde la memoria GPU.\n",
        "cuda.memcpy_dtoh( resultado_cpu, taylor_gpu)\n",
        "print(\"Resultado: \", resultado_cpu)\n",
        "\n",
        "tiempoTotal = time.time() *1000 - tiempoTotal\n",
        "print(\"-----------------------------------------------\")\n",
        "print(\"Thread x: \", dim_hilo, \", Bloque x:\", dim_bloque )\n",
        "print(\"Tiempo CPU: \", tiempoTotal, \"[ms]\" )\n",
        "print(\"Tiempo GPU: \", tiempo_gpu, \"[ms]\" )"
      ],
      "execution_count": null,
      "outputs": [
        {
          "output_type": "stream",
          "text": [
            "C: [3. 2. 3. 4.]\n",
            "T: [0. 0. 0. 0. 0.]\n",
            "D: [0 1 2 3]\n",
            "R: [1.4958065e-37 0.0000000e+00 0.0000000e+00 1.3312335e-43 1.5694543e-43]\n"
          ],
          "name": "stdout"
        },
        {
          "output_type": "stream",
          "text": [
            "/usr/local/lib/python3.6/dist-packages/ipykernel_launcher.py:98: UserWarning: The CUDA compiler succeeded, but said the following:\n",
            "kernel.cu(13): warning: variable \"resta\" was declared but never referenced\n",
            "\n",
            "kernel.cu(14): warning: variable \"termino\" was declared but never referenced\n",
            "\n",
            "kernel.cu(16): warning: variable \"valor\" was declared but never referenced\n",
            "\n",
            "kernel.cu(24): warning: variable \"j\" was declared but never referenced\n",
            "\n",
            "\n"
          ],
          "name": "stderr"
        },
        {
          "output_type": "stream",
          "text": [
            "Thread x:  256 , Bloque x: 1\n"
          ],
          "name": "stdout"
        }
      ]
    },
    {
      "cell_type": "markdown",
      "metadata": {
        "id": "xf6agd3FclX1"
      },
      "source": [
        "#4. Tabla de pasos"
      ]
    },
    {
      "cell_type": "markdown",
      "metadata": {
        "id": "9xDsWySJcoyO"
      },
      "source": [
        "#5. Conclusiones"
      ]
    }
  ]
}