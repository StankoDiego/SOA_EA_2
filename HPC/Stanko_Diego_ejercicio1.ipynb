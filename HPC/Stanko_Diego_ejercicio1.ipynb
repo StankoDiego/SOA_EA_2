{
  "nbformat": 4,
  "nbformat_minor": 0,
  "metadata": {
    "colab": {
      "name": "Stanko_Diego_ejercicio1.ipynb",
      "provenance": [],
      "authorship_tag": "ABX9TyNCGqCiOOAwH39+wefs0sX0",
      "include_colab_link": true
    },
    "kernelspec": {
      "name": "python3",
      "display_name": "Python 3"
    },
    "accelerator": "GPU"
  },
  "cells": [
    {
      "cell_type": "markdown",
      "metadata": {
        "id": "view-in-github",
        "colab_type": "text"
      },
      "source": [
        "<a href=\"https://colab.research.google.com/github/StankoDiego/SOA_EA_2/blob/main/HPC/Stanko_Diego_ejercicio1.ipynb\" target=\"_parent\"><img src=\"https://colab.research.google.com/assets/colab-badge.svg\" alt=\"Open In Colab\"/></a>"
      ]
    },
    {
      "cell_type": "markdown",
      "metadata": {
        "id": "cLmL1H8LRmDW"
      },
      "source": [
        "#1. Introducción"
      ]
    },
    {
      "cell_type": "markdown",
      "metadata": {
        "id": "GxSWFDGpRpRF"
      },
      "source": [
        "# 2. Armado del ambiente"
      ]
    },
    {
      "cell_type": "markdown",
      "metadata": {
        "id": "8w9eSqsERuCL"
      },
      "source": [
        "## 2.1 Armado del ambiente en CPU"
      ]
    },
    {
      "cell_type": "markdown",
      "metadata": {
        "id": "i7TYEZYuSHXr"
      },
      "source": [
        "No se requiere ejecuciones previas para la ejecución del programa"
      ]
    },
    {
      "cell_type": "markdown",
      "metadata": {
        "id": "x8-WQFJ5RwbD"
      },
      "source": [
        "##2.2 Armado del ambiente en GPU"
      ]
    },
    {
      "cell_type": "markdown",
      "metadata": {
        "id": "1Jot60pXSNbL"
      },
      "source": [
        "Se requiere la instalación del modulo de Cuda para Python"
      ]
    },
    {
      "cell_type": "code",
      "metadata": {
        "id": "XuWy5PSgSiOH",
        "colab": {
          "base_uri": "https://localhost:8080/"
        },
        "outputId": "b88ed751-5c76-4602-de2a-13f1b596564e"
      },
      "source": [
        "!pip install pycuda"
      ],
      "execution_count": 1,
      "outputs": [
        {
          "output_type": "stream",
          "text": [
            "Requirement already satisfied: pycuda in /usr/local/lib/python3.6/dist-packages (2020.1)\n",
            "Requirement already satisfied: mako in /usr/local/lib/python3.6/dist-packages (from pycuda) (1.1.3)\n",
            "Requirement already satisfied: appdirs>=1.4.0 in /usr/local/lib/python3.6/dist-packages (from pycuda) (1.4.4)\n",
            "Requirement already satisfied: decorator>=3.2.0 in /usr/local/lib/python3.6/dist-packages (from pycuda) (4.4.2)\n",
            "Requirement already satisfied: pytools>=2011.2 in /usr/local/lib/python3.6/dist-packages (from pycuda) (2020.4.3)\n",
            "Requirement already satisfied: MarkupSafe>=0.9.2 in /usr/local/lib/python3.6/dist-packages (from mako->pycuda) (1.1.1)\n",
            "Requirement already satisfied: numpy>=1.6.0 in /usr/local/lib/python3.6/dist-packages (from pytools>=2011.2->pycuda) (1.18.5)\n",
            "Requirement already satisfied: six>=1.8.0 in /usr/local/lib/python3.6/dist-packages (from pytools>=2011.2->pycuda) (1.15.0)\n",
            "Requirement already satisfied: dataclasses>=0.7; python_version <= \"3.6\" in /usr/local/lib/python3.6/dist-packages (from pytools>=2011.2->pycuda) (0.7)\n"
          ],
          "name": "stdout"
        }
      ]
    },
    {
      "cell_type": "markdown",
      "metadata": {
        "id": "N4pGZF-1R30M"
      },
      "source": [
        "#3. Desarrollo"
      ]
    },
    {
      "cell_type": "markdown",
      "metadata": {
        "id": "R80vJpK7R6vD"
      },
      "source": [
        "##3.1 Desarrollo en CPU"
      ]
    },
    {
      "cell_type": "code",
      "metadata": {
        "id": "_jzfSD6iYXQF",
        "colab": {
          "base_uri": "https://localhost:8080/"
        },
        "outputId": "1f192f99-79be-4eb9-e479-1f128757bd96"
      },
      "source": [
        "#---------------------PARAMETROS-------------------------------\n",
        "#@title 3.1.1 Parametros de ejecución {vertical-output: true}\n",
        "\n",
        "cantidadElementos = 1000000#@param {type: \"number\"}\n",
        "\n",
        "import numpy\n",
        "import time\n",
        "\n",
        "tiempoTotal = time.time() * 1000\n",
        "\n",
        "vector = numpy.random.randint(1000, size = cantidadElementos)\n",
        "\n",
        "#----------------------ALGORITMO----------------------------\n",
        "tiempoBucle = time.time() *1000\n",
        "\n",
        "#----------------------FINALIZACION----------------------------\n",
        "tiempoBucle = (time.time() *1000) - tiempoBucle\n",
        "\n",
        "tiempoTotal = (time.time() *1000) - tiempoTotal\n",
        "print(\"\\n\")\n",
        "print(\"Tiempo del bucle: \" , tiempoBucle , \"[ms.]\")\n",
        "print(\"Tiempo del total: \" , tiempoTotal , \"[ms.]\")"
      ],
      "execution_count": null,
      "outputs": [
        {
          "output_type": "stream",
          "text": [
            "Original:\n",
            "Ordenado:\n",
            "\n",
            "\n",
            "Tiempo del bucle:  30113.286865234375 [ms.]\n",
            "Tiempo del total:  30121.781005859375 [ms.]\n"
          ],
          "name": "stdout"
        }
      ]
    },
    {
      "cell_type": "markdown",
      "metadata": {
        "id": "Zbpxdt3MR_7j"
      },
      "source": [
        "##3.2 Desarrollo en GPU"
      ]
    },
    {
      "cell_type": "code",
      "metadata": {
        "id": "-nVGDpecc-EG",
        "colab": {
          "base_uri": "https://localhost:8080/",
          "height": 299
        },
        "outputId": "ef4be85c-517a-4cf6-bfee-de4c4132c6c9"
      },
      "source": [
        "# --------------------------------------------\n",
        "#@title 3.1 Parámetros de ejecución { vertical-output: true }\n",
        "\n",
        "orden_polinomio =  2#@param {type: \"number\"}\n",
        "orden_taylor = 1#@param {type: \"number\"}\n",
        "punto_evalacion =  3#@param {type: \"number\"}\n",
        "# --------------------------------------------\n",
        "\n",
        "import pycuda.driver as cuda\n",
        "import pycuda.autoinit\n",
        "from pycuda.compiler import SourceModule\n",
        "\n",
        "import time\n",
        "import numpy\n",
        "\n",
        "tiempoTotal = (time.time() * 1000)\n",
        "\n",
        "# Vectores en CPU.\n",
        "coeficientes_cpu = numpy.random.randint(10, size = orden_polinomio + 1 )\n",
        "coeficientes_cpu = coeficientes_cpu.astype(numpy.float32())\n",
        "\n",
        "print(\"Coeficientes: \")\n",
        "print(coeficientes_cpu)\n",
        "\n",
        "terminos_taylor_cpu = numpy.zeros(orden_taylor + 1)\n",
        "terminos_taylor_cpu = terminos_taylor_cpu.astype(numpy.float32())\n",
        "\n",
        "resultado_cpu = numpy.zeros(orden_taylor + 1)\n",
        "resultado_cpu = resultado_cpu.astype(numpy.float32())\n",
        "\n",
        "derivadas_cpu = numpy.arange(orden_polinomio + 1)\n",
        "derivadas_cpu = derivadas_cpu.astype(numpy.float32())\n",
        "\n",
        "print(\"Derivadas\")\n",
        "print(derivadas_cpu)\n",
        "# Vectores en GPU.\n",
        "coeficientes_gpu = cuda.mem_alloc(coeficientes_cpu.nbytes)\n",
        "terminos_taylor_gpu = cuda.mem_alloc(terminos_taylor_cpu.nbytes)\n",
        "derivadas_gpu = cuda.mem_alloc(derivadas_cpu.nbytes)\n",
        "\n",
        "# Copio los datos\n",
        "cuda.memcpy_htod(coeficientes_gpu, coeficientes_cpu)\n",
        "cuda.memcpy_htod(terminos_taylor_gpu, terminos_taylor_cpu)\n",
        "cuda.memcpy_htod(derivadas_gpu, derivadas_cpu)\n",
        "\n",
        "# CPU - Defino la función kernel que ejecutará en GPU.\n",
        "module = SourceModule(\"\"\"\n",
        "__global__ void kernel_taylor( float punto, \n",
        "                               int long_pol, \n",
        "                               float *C, \n",
        "                               float *T,\n",
        "                               float *D){\n",
        "  \n",
        "  int idx = threadIdx.x + blockIdx.x*blockDim.x;\n",
        "  \n",
        "  float valor = 0;\n",
        "  int idx_polinomio = 0;\n",
        "  float aux = 0;\n",
        "  \n",
        "  \n",
        "  if(idx == 0){\n",
        "    valor += C[idx_polinomio];\n",
        "    for(idx_polinomio = idx + 1; idx_polinomio < long_pol + 1; idx_polinomio++){\n",
        "      aux += C[idx_polinomio] * pow((double) punto, (double) idx_polinomio); \n",
        "    }\n",
        "    valor += aux;\n",
        "  } else{\n",
        "    valor += C[idx_polinomio];\n",
        "    for(idx_polinomio = idx + 1; idx_polinomio < long_pol + 1; idx_polinomio++){\n",
        "      float termino = C[idx_polinomio] * D[idx_polinomio];\n",
        "      C[idx_polinomio] = termino;\n",
        "      D[idx_polinomio] = idx_polinomio - 1;\n",
        "      aux += termino * pow((double) punto, (double) D[idx_polinomio]);\n",
        "    }\n",
        "    valor += aux;\n",
        "  }\n",
        "\n",
        "  T[idx] = valor;\n",
        "  return; \n",
        "}\n",
        "\"\"\")\n",
        "# CPU - Genero la función kernel.\n",
        "kernel = module.get_function(\"kernel_taylor\")\n",
        "\n",
        "tiempo_gpu = (time.time() * 1000)\n",
        "\n",
        "# GPU - Ejecuta el kernel.\n",
        "# TODO: Falta consultar limites del GPU, para armar las dimensiones correctamente.\n",
        "dim_hilo = 256\n",
        "dim_bloque = numpy.int( (orden_taylor + 1 + dim_hilo-1) / dim_hilo )\n",
        "\n",
        "#TODO: Ojo, con los tipos de las variables en el kernel.\n",
        "kernel(numpy.float32(punto_evalacion),\n",
        "       numpy.float32(orden_polinomio + 1),\n",
        "       coeficientes_gpu, terminos_taylor_gpu, derivadas_gpu, \n",
        "       block=( dim_hilo, 1, 1 ),grid=(dim_bloque, 1,1))\n",
        "\n",
        "cuda.memcpy_dtoh(resultado_cpu, terminos_taylor_gpu)\n",
        "\n",
        "tiempo_gpu = (time.time() * 1000) - tiempo_gpu\n",
        "\n",
        "tiempo_total = (time.time() * 1000) - tiempoTotal\n",
        "print(resultado_cpu)\n",
        "print( \"Thread x: \", dim_hilo, \", Bloque x:\", dim_bloque )\n",
        "print( \"Thread x: \", dim_hilo, \", Bloque x:\", dim_bloque )\n",
        "print(\"Tiempo CPU: \", tiempo_total, \"[ms]\" )\n",
        "print(\"Tiempo GPU: \", tiempo_gpu, \"[ms]\" )"
      ],
      "execution_count": 2,
      "outputs": [
        {
          "output_type": "stream",
          "text": [
            "Coeficientes: \n",
            "[7. 6. 8.]\n",
            "Derivadas\n",
            "[0. 1. 2.]\n"
          ],
          "name": "stdout"
        },
        {
          "output_type": "error",
          "ename": "LogicError",
          "evalue": "ignored",
          "traceback": [
            "\u001b[0;31m---------------------------------------------------------------------------\u001b[0m",
            "\u001b[0;31mLogicError\u001b[0m                                Traceback (most recent call last)",
            "\u001b[0;32m<ipython-input-2-84a8b8f0ec62>\u001b[0m in \u001b[0;36m<module>\u001b[0;34m()\u001b[0m\n\u001b[1;32m     96\u001b[0m        block=( dim_hilo, 1, 1 ),grid=(dim_bloque, 1,1))\n\u001b[1;32m     97\u001b[0m \u001b[0;34m\u001b[0m\u001b[0m\n\u001b[0;32m---> 98\u001b[0;31m \u001b[0mcuda\u001b[0m\u001b[0;34m.\u001b[0m\u001b[0mmemcpy_dtoh\u001b[0m\u001b[0;34m(\u001b[0m\u001b[0mresultado_cpu\u001b[0m\u001b[0;34m,\u001b[0m \u001b[0mterminos_taylor_gpu\u001b[0m\u001b[0;34m)\u001b[0m\u001b[0;34m\u001b[0m\u001b[0;34m\u001b[0m\u001b[0m\n\u001b[0m\u001b[1;32m     99\u001b[0m \u001b[0;34m\u001b[0m\u001b[0m\n\u001b[1;32m    100\u001b[0m \u001b[0mtiempo_gpu\u001b[0m \u001b[0;34m=\u001b[0m \u001b[0;34m(\u001b[0m\u001b[0mtime\u001b[0m\u001b[0;34m.\u001b[0m\u001b[0mtime\u001b[0m\u001b[0;34m(\u001b[0m\u001b[0;34m)\u001b[0m \u001b[0;34m*\u001b[0m \u001b[0;36m1000\u001b[0m\u001b[0;34m)\u001b[0m \u001b[0;34m-\u001b[0m \u001b[0mtiempo_gpu\u001b[0m\u001b[0;34m\u001b[0m\u001b[0;34m\u001b[0m\u001b[0m\n",
            "\u001b[0;31mLogicError\u001b[0m: cuMemcpyDtoH failed: an illegal memory access was encountered"
          ]
        }
      ]
    },
    {
      "cell_type": "markdown",
      "metadata": {
        "id": "xf6agd3FclX1"
      },
      "source": [
        "#4. Tabla de pasos"
      ]
    },
    {
      "cell_type": "markdown",
      "metadata": {
        "id": "9xDsWySJcoyO"
      },
      "source": [
        "#5. Conclusiones"
      ]
    }
  ]
}