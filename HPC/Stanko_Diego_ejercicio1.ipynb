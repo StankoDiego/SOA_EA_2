{
  "nbformat": 4,
  "nbformat_minor": 0,
  "metadata": {
    "colab": {
      "name": "Stanko_Diego_ejercicio1.ipynb",
      "provenance": [],
      "authorship_tag": "ABX9TyMz4EpbYxOfWBlfX+qCNZmy",
      "include_colab_link": true
    },
    "kernelspec": {
      "name": "python3",
      "display_name": "Python 3"
    },
    "accelerator": "GPU"
  },
  "cells": [
    {
      "cell_type": "markdown",
      "metadata": {
        "id": "view-in-github",
        "colab_type": "text"
      },
      "source": [
        "<a href=\"https://colab.research.google.com/github/StankoDiego/SOA_EA_2/blob/main/HPC/Stanko_Diego_ejercicio1.ipynb\" target=\"_parent\"><img src=\"https://colab.research.google.com/assets/colab-badge.svg\" alt=\"Open In Colab\"/></a>"
      ]
    },
    {
      "cell_type": "markdown",
      "metadata": {
        "id": "cLmL1H8LRmDW"
      },
      "source": [
        "#1. Introducción"
      ]
    },
    {
      "cell_type": "markdown",
      "metadata": {
        "id": "GxSWFDGpRpRF"
      },
      "source": [
        "# 2. Armado del ambiente"
      ]
    },
    {
      "cell_type": "markdown",
      "metadata": {
        "id": "8w9eSqsERuCL"
      },
      "source": [
        "## 2.1 Armado del ambiente en CPU"
      ]
    },
    {
      "cell_type": "markdown",
      "metadata": {
        "id": "i7TYEZYuSHXr"
      },
      "source": [
        "No se requiere ejecuciones previas para la ejecución del programa"
      ]
    },
    {
      "cell_type": "markdown",
      "metadata": {
        "id": "x8-WQFJ5RwbD"
      },
      "source": [
        "##2.2 Armado del ambiente en GPU"
      ]
    },
    {
      "cell_type": "markdown",
      "metadata": {
        "id": "1Jot60pXSNbL"
      },
      "source": [
        "Se requiere la instalación del modulo de Cuda para Python"
      ]
    },
    {
      "cell_type": "code",
      "metadata": {
        "id": "XuWy5PSgSiOH",
        "colab": {
          "base_uri": "https://localhost:8080/"
        },
        "outputId": "ceb09e6c-5454-406e-8655-afb4039806c3"
      },
      "source": [
        "!pip install pycuda\n"
      ],
      "execution_count": 2,
      "outputs": [
        {
          "output_type": "stream",
          "text": [
            "Collecting pycuda\n",
            "\u001b[?25l  Downloading https://files.pythonhosted.org/packages/46/61/47d3235a4c13eec5a5f03594ddb268f4858734e02980afbcd806e6242fa5/pycuda-2020.1.tar.gz (1.6MB)\n",
            "\u001b[K     |████████████████████████████████| 1.6MB 10.1MB/s \n",
            "\u001b[?25hCollecting pytools>=2011.2\n",
            "\u001b[?25l  Downloading https://files.pythonhosted.org/packages/b7/30/c9362a282ef89106768cba9d884f4b2e4f5dc6881d0c19b478d2a710b82b/pytools-2020.4.3.tar.gz (62kB)\n",
            "\u001b[K     |████████████████████████████████| 71kB 10.6MB/s \n",
            "\u001b[?25hRequirement already satisfied: decorator>=3.2.0 in /usr/local/lib/python3.6/dist-packages (from pycuda) (4.4.2)\n",
            "Collecting appdirs>=1.4.0\n",
            "  Downloading https://files.pythonhosted.org/packages/3b/00/2344469e2084fb287c2e0b57b72910309874c3245463acd6cf5e3db69324/appdirs-1.4.4-py2.py3-none-any.whl\n",
            "Collecting mako\n",
            "\u001b[?25l  Downloading https://files.pythonhosted.org/packages/a6/37/0e706200d22172eb8fa17d68a7ae22dec7631a0a92266634fb518a88a5b2/Mako-1.1.3-py2.py3-none-any.whl (75kB)\n",
            "\u001b[K     |████████████████████████████████| 81kB 11.8MB/s \n",
            "\u001b[?25hRequirement already satisfied: six>=1.8.0 in /usr/local/lib/python3.6/dist-packages (from pytools>=2011.2->pycuda) (1.15.0)\n",
            "Requirement already satisfied: numpy>=1.6.0 in /usr/local/lib/python3.6/dist-packages (from pytools>=2011.2->pycuda) (1.18.5)\n",
            "Requirement already satisfied: dataclasses>=0.7 in /usr/local/lib/python3.6/dist-packages (from pytools>=2011.2->pycuda) (0.7)\n",
            "Requirement already satisfied: MarkupSafe>=0.9.2 in /usr/local/lib/python3.6/dist-packages (from mako->pycuda) (1.1.1)\n",
            "Building wheels for collected packages: pycuda, pytools\n",
            "  Building wheel for pycuda (setup.py) ... \u001b[?25l\u001b[?25hdone\n",
            "  Created wheel for pycuda: filename=pycuda-2020.1-cp36-cp36m-linux_x86_64.whl size=621008 sha256=219603135469f17b91a78ec35f1dedbc7ce6ddbad35225ad3bbcf2d40182d7b7\n",
            "  Stored in directory: /root/.cache/pip/wheels/8f/78/d1/5bb826f81d9d490297a348d818ff3ee6dd6f2075b06dde6ea0\n",
            "  Building wheel for pytools (setup.py) ... \u001b[?25l\u001b[?25hdone\n",
            "  Created wheel for pytools: filename=pytools-2020.4.3-py2.py3-none-any.whl size=61374 sha256=f3359b7b2123a23d2c2e4e578742306354b3d068d738bbf903c61e9c77cfa126\n",
            "  Stored in directory: /root/.cache/pip/wheels/af/c7/81/a22edb90b0b09a880468b2253bb1df8e9f503337ee15432c64\n",
            "Successfully built pycuda pytools\n",
            "Installing collected packages: appdirs, pytools, mako, pycuda\n",
            "Successfully installed appdirs-1.4.4 mako-1.1.3 pycuda-2020.1 pytools-2020.4.3\n"
          ],
          "name": "stdout"
        }
      ]
    },
    {
      "cell_type": "markdown",
      "metadata": {
        "id": "N4pGZF-1R30M"
      },
      "source": [
        "#3. Desarrollo"
      ]
    },
    {
      "cell_type": "markdown",
      "metadata": {
        "id": "R80vJpK7R6vD"
      },
      "source": [
        "##3.1 Desarrollo en CPU"
      ]
    },
    {
      "cell_type": "code",
      "metadata": {
        "id": "_jzfSD6iYXQF",
        "colab": {
          "base_uri": "https://localhost:8080/"
        },
        "outputId": "d84a4fb7-2bc4-4c04-8cc9-288a4c296134"
      },
      "source": [
        "# --------------------------------------------\n",
        "#@title 3.1 Parámetros de ejecución { vertical-output: true }\n",
        "\n",
        "orden_polinomio =  10#@param {type: \"number\"}\n",
        "orden_taylor = 5#@param {type: \"number\"}\n",
        "punto_evalacion =  3#@param {type: \"number\"}\n",
        "# --------------------------------------------\n",
        "\n",
        "import numpy\n",
        "import time\n",
        "import math\n",
        "\n",
        "tiempoTotal = time.time() * 1000\n",
        "\n",
        "coeficientes = numpy.random.randint(10, size = orden_polinomio +1)\n",
        "\n",
        "longitud_poli = len(coeficientes)\n",
        "\n",
        "derivadas = numpy.arange(longitud_poli)\n",
        "\n",
        "print(\"Coeficientes:\\n\", coeficientes)\n",
        "\n",
        "polin_taylor = numpy.zeros(orden_taylor, dtype=float)\n",
        "longitud_taylor = len(polin_taylor)\n",
        "\n",
        "tiempoBucle = time.time() *1000\n",
        "#----------------------ALGORITMO----------------------------\n",
        "for idx_t in range(0, longitud_taylor):\n",
        "  valor = 0\n",
        "  aux = 0\n",
        "  idx_p = idx_t\n",
        "\n",
        "  if idx_t == 0:\n",
        "    aux += coeficientes[idx_p]\n",
        "    idx_p = idx_t + 1\n",
        "    for idx in range(idx_t + 1, longitud_poli):\n",
        "      aux += coeficientes[idx] * math.pow(punto_evalacion, derivadas[idx])\n",
        "    valor = aux\n",
        "    polin_taylor[idx_t] = valor \n",
        "  else:\n",
        "    if idx_t < longitud_poli:\n",
        "      aux += coeficientes[idx_p]\n",
        "      for idx in range(idx_t + 1, longitud_poli):\n",
        "        termino = coeficientes[idx] * derivadas[idx]\n",
        "        coeficientes[idx] = termino\n",
        "        derivadas[idx] = derivadas[idx] - 1\n",
        "        aux += termino * math.pow(punto_evalacion, derivadas[idx])\n",
        "    valor = aux\n",
        "    polin_taylor[idx_t] = valor \n",
        "#----------------------FINALIZACION----------------------------\n",
        "\n",
        "tiempoBucle = (time.time() *1000) - tiempoBucle\n",
        "print(\"Termino el algoritmo\")\n",
        "print(polin_taylor)\n",
        "\n",
        "tiempoTotal = (time.time() *1000) - tiempoTotal\n",
        "print(\"Tiempo del bucle: \" , tiempoBucle , \"[ms.]\")\n",
        "print(\"Tiempo del total: \" , tiempoTotal , \"[ms.]\")"
      ],
      "execution_count": 32,
      "outputs": [
        {
          "output_type": "stream",
          "text": [
            "Coeficientes:\n",
            " [3 0 7 5 2 2 6 9 3 6 6]\n",
            "Termino el algoritmo\n",
            "[  516981.  1643640.  4718030. 12071064. 27086520.]\n",
            "Tiempo del bucle:  0.36279296875 [ms.]\n",
            "Tiempo del total:  1.407958984375 [ms.]\n"
          ],
          "name": "stdout"
        }
      ]
    },
    {
      "cell_type": "markdown",
      "metadata": {
        "id": "Zbpxdt3MR_7j"
      },
      "source": [
        "##3.2 Desarrollo en GPU"
      ]
    },
    {
      "cell_type": "code",
      "metadata": {
        "id": "-nVGDpecc-EG",
        "colab": {
          "base_uri": "https://localhost:8080/"
        },
        "outputId": "af1ac109-9008-4ade-9fb6-28ce6ff5a1a8"
      },
      "source": [
        "# --------------------------------------------\n",
        "#@title 3.1 Parámetros de ejecución { vertical-output: true }\n",
        "\n",
        "orden_polinomio =  20#@param {type: \"number\"}\n",
        "orden_taylor = 1#@param {type: \"number\"}\n",
        "punto_evalacion =  3#@param {type: \"number\"}\n",
        "# --------------------------------------------\n",
        "\n",
        "import pycuda.driver as cuda\n",
        "import pycuda.autoinit\n",
        "from pycuda.compiler import SourceModule\n",
        "\n",
        "import time\n",
        "import numpy\n",
        "\n",
        "tiempoTotal = (time.time() * 1000)\n",
        "\n",
        "# Vectores en CPU.\n",
        "#coeficientes_cpu = numpy.random.randint(10, size = orden_polinomio + 1 )\n",
        "coeficientes_cpu = numpy.array([3,2,3,4])\n",
        "coeficientes_cpu = coeficientes_cpu.astype(numpy.int32())\n",
        "\n",
        "print(\"Coeficientes: \")\n",
        "print(coeficientes_cpu)\n",
        "\n",
        "terminos_taylor_cpu = numpy.zeros(orden_taylor + 1, dtype=int)\n",
        "terminos_taylor_cpu = terminos_taylor_cpu.astype(numpy.int32())\n",
        "\n",
        "resultado_cpu = numpy.empty_like(terminos_taylor_cpu)\n",
        "#resultado_cpu = resultado_cpu.astype(numpy.int32())\n",
        "\n",
        "longitud = len(coeficientes_cpu)\n",
        "derivadas_cpu = numpy.arange(longitud)\n",
        "derivadas_cpu = derivadas_cpu.astype(numpy.int32())\n",
        "\n",
        "print(\"Derivadas\")\n",
        "print(derivadas_cpu)\n",
        "# Vectores en GPU.\n",
        "coeficientes_gpu = cuda.mem_alloc(coeficientes_cpu.nbytes)\n",
        "terminos_taylor_gpu = cuda.mem_alloc(terminos_taylor_cpu.nbytes)\n",
        "derivadas_gpu = cuda.mem_alloc(derivadas_cpu.nbytes)\n",
        "\n",
        "# Copio los datos\n",
        "cuda.memcpy_htod(coeficientes_gpu, coeficientes_cpu)\n",
        "cuda.memcpy_htod(terminos_taylor_gpu, terminos_taylor_cpu)\n",
        "cuda.memcpy_htod(derivadas_gpu, derivadas_cpu)\n",
        "\n",
        "# CPU - Defino la función kernel que ejecutará en GPU.\n",
        "module = SourceModule(\"\"\"\n",
        "__global__ void kernel_taylor( int punto, \n",
        "                               int long_pol, \n",
        "                               int *C, \n",
        "                               int *T,\n",
        "                               int *D){\n",
        "  \n",
        "  int idx = threadIdx.x + blockIdx.x*blockDim.x;\n",
        "  \n",
        "  int valor = 0;\n",
        "  int idx_polinomio = 0;\n",
        "  int aux = 0;  \n",
        "  \n",
        "  if(idx == 0){\n",
        "    valor += C[idx_polinomio];\n",
        "    for(idx_polinomio = idx + 1; idx_polinomio < long_pol + 1; idx_polinomio++){\n",
        "      aux += C[idx_polinomio] * pow((double) punto, (double) D[idx_polinomio]); \n",
        "    }\n",
        "    valor += aux;\n",
        "  } else \n",
        "  {\n",
        "    valor += C[idx_polinomio];\n",
        "\n",
        "    for(idx_polinomio = idx + 1; idx_polinomio < long_pol + 1; idx_polinomio++){\n",
        "      int termino = C[idx_polinomio] * D[idx_polinomio];\n",
        "      C[idx_polinomio] = termino;\n",
        "      D[idx_polinomio] = D[idx_polinomio] - 1;\n",
        "      aux += termino * pow((double) punto, (double) D[idx_polinomio]);\n",
        "    } \n",
        "    valor += aux;  \n",
        "  }\n",
        "  T[idx] = valor; \n",
        "}\n",
        "\"\"\")\n",
        "# CPU - Genero la función kernel.\n",
        "kernel = module.get_function(\"kernel_taylor\")\n",
        "\n",
        "tiempo_gpu = (time.time() * 1000)\n",
        "\n",
        "# GPU - Ejecuta el kernel.\n",
        "# TODO: Falta consultar limites del GPU, para armar las dimensiones correctamente.\n",
        "dim_hilo = 256\n",
        "dim_bloque = numpy.int( (orden_taylor + 1 + dim_hilo-1) / dim_hilo )\n",
        "\n",
        "#TODO: Ojo, con los tipos de las variables en el kernel.\n",
        "kernel(numpy.int32(punto_evalacion),\n",
        "       numpy.int32(longitud),\n",
        "       coeficientes_gpu, terminos_taylor_gpu, derivadas_gpu, \n",
        "       block=( dim_hilo, 1, 1 ),grid=(dim_bloque, 1,1))\n",
        "\n",
        "cuda.memcpy_dtoh(resultado_cpu, terminos_taylor_gpu)\n",
        "\n",
        "tiempo_gpu = (time.time() * 1000) - tiempo_gpu\n",
        "\n",
        "tiempo_total = (time.time() * 1000) - tiempoTotal\n",
        "print(resultado_cpu)\n",
        "print( \"Thread x: \", dim_hilo, \", Bloque x:\", dim_bloque )\n",
        "print( \"Thread x: \", dim_hilo, \", Bloque x:\", dim_bloque )\n",
        "print(\"Tiempo CPU: \", tiempo_total, \"[ms]\" )\n",
        "print(\"Tiempo GPU: \", tiempo_gpu, \"[ms]\" )"
      ],
      "execution_count": 28,
      "outputs": [
        {
          "output_type": "stream",
          "text": [
            "Coeficientes: \n",
            "[3 2 3 4]\n",
            "Derivadas\n",
            "[0 1 2 3]\n",
            "[597 246]\n",
            "Thread x:  256 , Bloque x: 1\n",
            "Thread x:  256 , Bloque x: 1\n",
            "Tiempo CPU:  3.44677734375 [ms]\n",
            "Tiempo GPU:  0.283203125 [ms]\n"
          ],
          "name": "stdout"
        }
      ]
    },
    {
      "cell_type": "markdown",
      "metadata": {
        "id": "xf6agd3FclX1"
      },
      "source": [
        "#4. Tabla de pasos"
      ]
    },
    {
      "cell_type": "markdown",
      "metadata": {
        "id": "9xDsWySJcoyO"
      },
      "source": [
        "#5. Conclusiones"
      ]
    }
  ]
}