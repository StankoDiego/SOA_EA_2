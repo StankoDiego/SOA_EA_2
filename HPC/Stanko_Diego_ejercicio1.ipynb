{
  "nbformat": 4,
  "nbformat_minor": 0,
  "metadata": {
    "colab": {
      "name": "Stanko_Diego_ejercicio1.ipynb",
      "provenance": [],
      "toc_visible": true,
      "authorship_tag": "ABX9TyMTFB7s9Afqm55QnhGlWxwZ",
      "include_colab_link": true
    },
    "kernelspec": {
      "name": "python3",
      "display_name": "Python 3"
    }
  },
  "cells": [
    {
      "cell_type": "markdown",
      "metadata": {
        "id": "view-in-github",
        "colab_type": "text"
      },
      "source": [
        "<a href=\"https://colab.research.google.com/github/StankoDiego/SOA_EA_2/blob/main/HPC/Stanko_Diego_ejercicio1.ipynb\" target=\"_parent\"><img src=\"https://colab.research.google.com/assets/colab-badge.svg\" alt=\"Open In Colab\"/></a>"
      ]
    },
    {
      "cell_type": "markdown",
      "metadata": {
        "id": "cLmL1H8LRmDW"
      },
      "source": [
        "#1. Introducción"
      ]
    },
    {
      "cell_type": "markdown",
      "metadata": {
        "id": "GxSWFDGpRpRF"
      },
      "source": [
        "# 2. Armado del ambiente"
      ]
    },
    {
      "cell_type": "markdown",
      "metadata": {
        "id": "8w9eSqsERuCL"
      },
      "source": [
        "## 2.1 Armado del ambiente en CPU"
      ]
    },
    {
      "cell_type": "markdown",
      "metadata": {
        "id": "i7TYEZYuSHXr"
      },
      "source": [
        "No se requiere ejecuciones previas para la ejecución del programa"
      ]
    },
    {
      "cell_type": "markdown",
      "metadata": {
        "id": "x8-WQFJ5RwbD"
      },
      "source": [
        "##2.2 Armado del ambiente en GPU"
      ]
    },
    {
      "cell_type": "markdown",
      "metadata": {
        "id": "1Jot60pXSNbL"
      },
      "source": [
        "Se requiere la instalación del modulo de Cuda para Python"
      ]
    },
    {
      "cell_type": "markdown",
      "metadata": {
        "id": "N4pGZF-1R30M"
      },
      "source": [
        "#3. Desarrollo"
      ]
    },
    {
      "cell_type": "markdown",
      "metadata": {
        "id": "R80vJpK7R6vD"
      },
      "source": [
        "##3.1 Desarrollo en CPU"
      ]
    },
    {
      "cell_type": "markdown",
      "metadata": {
        "id": "Zbpxdt3MR_7j"
      },
      "source": [
        "##3.2 Desarrollor en GPU"
      ]
    }
  ]
}