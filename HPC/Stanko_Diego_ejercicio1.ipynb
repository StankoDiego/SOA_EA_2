{
  "nbformat": 4,
  "nbformat_minor": 0,
  "metadata": {
    "colab": {
      "name": "Stanko_Diego_ejercicio1.ipynb",
      "provenance": [],
      "authorship_tag": "ABX9TyPo+U4Yk1VpsRu7uTxHNr7L",
      "include_colab_link": true
    },
    "kernelspec": {
      "name": "python3",
      "display_name": "Python 3"
    },
    "accelerator": "GPU"
  },
  "cells": [
    {
      "cell_type": "markdown",
      "metadata": {
        "id": "view-in-github",
        "colab_type": "text"
      },
      "source": [
        "<a href=\"https://colab.research.google.com/github/StankoDiego/SOA_EA_2/blob/main/HPC/Stanko_Diego_ejercicio1.ipynb\" target=\"_parent\"><img src=\"https://colab.research.google.com/assets/colab-badge.svg\" alt=\"Open In Colab\"/></a>"
      ]
    },
    {
      "cell_type": "markdown",
      "metadata": {
        "id": "cLmL1H8LRmDW"
      },
      "source": [
        "#1. Introducción"
      ]
    },
    {
      "cell_type": "markdown",
      "metadata": {
        "id": "GxSWFDGpRpRF"
      },
      "source": [
        "# 2. Armado del ambiente"
      ]
    },
    {
      "cell_type": "markdown",
      "metadata": {
        "id": "8w9eSqsERuCL"
      },
      "source": [
        "## 2.1 Armado del ambiente en CPU"
      ]
    },
    {
      "cell_type": "markdown",
      "metadata": {
        "id": "i7TYEZYuSHXr"
      },
      "source": [
        "No se requiere ejecuciones previas para la ejecución del programa"
      ]
    },
    {
      "cell_type": "markdown",
      "metadata": {
        "id": "x8-WQFJ5RwbD"
      },
      "source": [
        "##2.2 Armado del ambiente en GPU"
      ]
    },
    {
      "cell_type": "markdown",
      "metadata": {
        "id": "1Jot60pXSNbL"
      },
      "source": [
        "Se requiere la instalación del modulo de Cuda para Python"
      ]
    },
    {
      "cell_type": "code",
      "metadata": {
        "id": "XuWy5PSgSiOH",
        "colab": {
          "base_uri": "https://localhost:8080/"
        },
        "outputId": "223cfb21-c6ff-4351-c4f1-7d33956f837c"
      },
      "source": [
        "!pip install pycuda\n"
      ],
      "execution_count": 18,
      "outputs": [
        {
          "output_type": "stream",
          "text": [
            "Requirement already satisfied: pycuda in /usr/local/lib/python3.6/dist-packages (2020.1)\n",
            "Requirement already satisfied: pytools>=2011.2 in /usr/local/lib/python3.6/dist-packages (from pycuda) (2020.4.3)\n",
            "Requirement already satisfied: mako in /usr/local/lib/python3.6/dist-packages (from pycuda) (1.1.3)\n",
            "Requirement already satisfied: decorator>=3.2.0 in /usr/local/lib/python3.6/dist-packages (from pycuda) (4.4.2)\n",
            "Requirement already satisfied: appdirs>=1.4.0 in /usr/local/lib/python3.6/dist-packages (from pycuda) (1.4.4)\n",
            "Requirement already satisfied: numpy>=1.6.0 in /usr/local/lib/python3.6/dist-packages (from pytools>=2011.2->pycuda) (1.18.5)\n",
            "Requirement already satisfied: six>=1.8.0 in /usr/local/lib/python3.6/dist-packages (from pytools>=2011.2->pycuda) (1.15.0)\n",
            "Requirement already satisfied: dataclasses>=0.7; python_version <= \"3.6\" in /usr/local/lib/python3.6/dist-packages (from pytools>=2011.2->pycuda) (0.7)\n",
            "Requirement already satisfied: MarkupSafe>=0.9.2 in /usr/local/lib/python3.6/dist-packages (from mako->pycuda) (1.1.1)\n"
          ],
          "name": "stdout"
        }
      ]
    },
    {
      "cell_type": "markdown",
      "metadata": {
        "id": "N4pGZF-1R30M"
      },
      "source": [
        "#3. Desarrollo"
      ]
    },
    {
      "cell_type": "markdown",
      "metadata": {
        "id": "R80vJpK7R6vD"
      },
      "source": [
        "##3.1 Desarrollo en CPU"
      ]
    },
    {
      "cell_type": "code",
      "metadata": {
        "id": "_jzfSD6iYXQF",
        "colab": {
          "base_uri": "https://localhost:8080/"
        },
        "outputId": "eacad7af-d04c-4d05-d18e-dd033c387886"
      },
      "source": [
        "# --------------------------------------------\n",
        "#@title 3.1 Parámetros de ejecución { vertical-output: true }\n",
        "\n",
        "orden_polinomio =  5#@param {type: \"number\"}\n",
        "orden_taylor = 10#@param {type: \"number\"}\n",
        "x0 =  3.5#@param {type: \"number\"}\n",
        "x = 4#@param {type: \"number\"}\n",
        "# --------------------------------------------\n",
        "\n",
        "import numpy\n",
        "import time\n",
        "import math\n",
        "\n",
        "def factorial(x):\n",
        "  if x == 0 or x == 1:\n",
        "    return 1\n",
        "  factorial = 1\n",
        "  for i in range (1, x+1):\n",
        "    factorial = factorial * i\n",
        "  return factorial\n",
        "\n",
        "tiempoTotal = time.time() * 1000\n",
        "\n",
        "coeficientes = numpy.random.randint(10, size = orden_polinomio +1)\n",
        "#coeficientes = numpy.array([3, 2, 3, 4])\n",
        "\n",
        "longitud_poli = len(coeficientes)\n",
        "\n",
        "derivadas = numpy.arange(longitud_poli)\n",
        "\n",
        "print(\"Coeficientes:\\n\", coeficientes)\n",
        "\n",
        "polin_taylor = numpy.zeros(orden_taylor + 1 , dtype=float)\n",
        "longitud_taylor = len(polin_taylor)\n",
        "print(\"Orden polinomio\", longitud_poli - 1 )\n",
        "print(\"Longitud_Taylor:\", longitud_taylor)\n",
        "print(\"*****************************************************************\")\n",
        "\n",
        "tiempoBucle = time.time() *1000\n",
        "#----------------------ALGORITMO----------------------------\n",
        "for idx_t in range(0, longitud_taylor):\n",
        "  valor = 0\n",
        "  aux = 0\n",
        "  \n",
        "  if idx_t == 0:\n",
        "    polin_taylor[idx_t] += coeficientes[idx_t]\n",
        "    idx_p = idx_t + 1\n",
        "    for idx in range(idx_p, longitud_poli):\n",
        "      polin_taylor[idx_t] += coeficientes[idx] * math.pow(x0, derivadas[idx])\n",
        "      print(\"idt:\", idx_t, \":idx:\", idx, \"|\", \"aux:\", polin_taylor[idx_t])\n",
        "  else:\n",
        "    if idx_t < longitud_poli - 1 :\n",
        "      aux += coeficientes[idx_t]\n",
        "      idx_p = idx_t + 1\n",
        "      resta = math.pow(x - x0, idx_t)\n",
        "      f = factorial(idx_t)\n",
        "      for idx in range(idx_p, longitud_poli):\n",
        "        termino = coeficientes[idx] * derivadas[idx]\n",
        "        coeficientes[idx] = termino\n",
        "        derivadas[idx] = derivadas[idx] - 1\n",
        "        factor = math.pow(x0, derivadas[idx])\n",
        "        aux += termino * factor        \n",
        "        print(\"idt:\", idx_t, \":idx:\", idx,\"|\",\n",
        "              \"aux:\", aux , \"termino:\", termino)\n",
        "      polin_taylor[idx_t] = (aux * resta) / f        \n",
        "    else:\n",
        "      if idx_t >= longitud_poli: \n",
        "        print(\"idx_t:\", idx_t)\n",
        "        valor =  0\n",
        "        polin_taylor[idx_t] = valor\n",
        "        print(\"Valor:\", valor)\n",
        "      else:\n",
        "        print(\"idx_t:\", idx_t)\n",
        "        valor =  coeficientes[idx_t]\n",
        "        resta = math.pow(x - x0, idx_t)\n",
        "        f = factorial(idx_t)\n",
        "        polin_taylor[idx_t] = (valor * resta)/ f\n",
        "        print(\"Valor:\", valor)\n",
        "  print(\"-----------------------------------------------------------------\")\n",
        "#----------------------FINALIZACION----------------------------\n",
        "\n",
        "tiempoBucle = (time.time() *1000) - tiempoBucle\n",
        "print(\"Termino el algoritmo\")\n",
        "print(polin_taylor)\n",
        "\n",
        "tiempoTotal = (time.time() *1000) - tiempoTotal\n",
        "print(\"Tiempo del bucle: \" , tiempoBucle , \"[ms.]\")\n",
        "print(\"Tiempo del total: \" , tiempoTotal , \"[ms.]\")"
      ],
      "execution_count": null,
      "outputs": [
        {
          "output_type": "stream",
          "text": [
            "Coeficientes:\n",
            " [4 2 4 5 1 4]\n",
            "Orden polinomio 5\n",
            "Longitud_Taylor: 11\n",
            "*****************************************************************\n",
            "idt: 0 :idx: 1 | aux: 11.0\n",
            "idt: 0 :idx: 2 | aux: 60.0\n",
            "idt: 0 :idx: 3 | aux: 274.375\n",
            "idt: 0 :idx: 4 | aux: 424.4375\n",
            "idt: 0 :idx: 5 | aux: 2525.3125\n",
            "-----------------------------------------------------------------\n",
            "idt: 1 :idx: 2 | aux: 30.0 termino: 8\n",
            "idt: 1 :idx: 3 | aux: 213.75 termino: 15\n",
            "idt: 1 :idx: 4 | aux: 385.25 termino: 4\n",
            "idt: 1 :idx: 5 | aux: 3386.5 termino: 20\n",
            "-----------------------------------------------------------------\n",
            "idt: 2 :idx: 3 | aux: 113.0 termino: 30\n",
            "idt: 2 :idx: 4 | aux: 260.0 termino: 12\n",
            "idt: 2 :idx: 5 | aux: 3690.0 termino: 80\n",
            "-----------------------------------------------------------------\n",
            "idt: 3 :idx: 4 | aux: 114.0 termino: 24\n",
            "idt: 3 :idx: 5 | aux: 3054.0 termino: 240\n",
            "-----------------------------------------------------------------\n",
            "idt: 4 :idx: 5 | aux: 1704.0 termino: 480\n",
            "-----------------------------------------------------------------\n",
            "idx_t: 5\n",
            "Valor: 480\n",
            "-----------------------------------------------------------------\n",
            "idx_t: 6\n",
            "Valor: 0\n",
            "-----------------------------------------------------------------\n",
            "idx_t: 7\n",
            "Valor: 0\n",
            "-----------------------------------------------------------------\n",
            "idx_t: 8\n",
            "Valor: 0\n",
            "-----------------------------------------------------------------\n",
            "idx_t: 9\n",
            "Valor: 0\n",
            "-----------------------------------------------------------------\n",
            "idx_t: 10\n",
            "Valor: 0\n",
            "-----------------------------------------------------------------\n",
            "Termino el algoritmo\n",
            "[2.5253125e+03 1.6932500e+03 4.6125000e+02 6.3625000e+01 4.4375000e+00\n",
            " 1.2500000e-01 0.0000000e+00 0.0000000e+00 0.0000000e+00 0.0000000e+00\n",
            " 0.0000000e+00]\n",
            "Tiempo del bucle:  2.677734375 [ms.]\n",
            "Tiempo del total:  3.8857421875 [ms.]\n"
          ],
          "name": "stdout"
        }
      ]
    },
    {
      "cell_type": "markdown",
      "metadata": {
        "id": "Zbpxdt3MR_7j"
      },
      "source": [
        "##3.2 Desarrollo en GPU"
      ]
    },
    {
      "cell_type": "code",
      "metadata": {
        "id": "-nVGDpecc-EG",
        "colab": {
          "base_uri": "https://localhost:8080/"
        },
        "outputId": "3401410f-426b-46ab-a648-e852d9fe0903"
      },
      "source": [
        "# --------------------------------------------\n",
        "#@title 3.1 Parámetros de ejecución { vertical-output: true }\n",
        "\n",
        "orden_polinomio = 50000#@param {type: \"number\"}\n",
        "orden_taylor = 1#@param {type: \"number\"}\n",
        "x0 = 1#@param {type: \"number\"}\n",
        "x = 1#@param {type: \"number\"}\n",
        "# --------------------------------------------\n",
        "\n",
        "import numpy\n",
        "import time\n",
        "\n",
        "import pycuda.driver as cuda\n",
        "import pycuda.autoinit\n",
        "from pycuda.compiler import SourceModule\n",
        "\n",
        "tiempoTotal = (time.time() * 1000)\n",
        "\n",
        "# --------------------------------------------\n",
        "# CPU - Defino la memoria de los vectores en cpu.\n",
        "#coeficientes_cpu = numpy.random.randn(orden_polinomio + 1)\n",
        "coeficientes_cpu = numpy.array([3, 2, 3, 4])\n",
        "coeficientes_cpu = coeficientes_cpu.astype(numpy.float32())\n",
        "long_pol = len(coeficientes_cpu)\n",
        "\n",
        "taylor_cpu = numpy.zeros(orden_taylor +1, dtype=float)\n",
        "taylor_cpu = taylor_cpu.astype(numpy.float32())\n",
        "long_tay = len(coeficientes_cpu)\n",
        "\n",
        "derivadas_cpu = numpy.arange(long_pol)\n",
        "derivadas_cpu = derivadas_cpu.astype(numpy.int32)\n",
        "\n",
        "resultado_cpu = numpy.empty_like(taylor_cpu)\n",
        "print(\"C:\", coeficientes_cpu)\n",
        "print(\"T:\", taylor_cpu)\n",
        "print(\"D:\", derivadas_cpu)\n",
        "print(\"R:\", resultado_cpu)\n",
        "\n",
        "# CPU - reservo la memoria GPU.\n",
        "coeficientes_gpu = cuda.mem_alloc( coeficientes_cpu.nbytes )\n",
        "taylor_gpu = cuda.mem_alloc( taylor_cpu.nbytes )\n",
        "derivadas_gpu = cuda.mem_alloc( derivadas_cpu.nbytes )\n",
        "# GPU - Copio la memoria al GPU.\n",
        "cuda.memcpy_htod( coeficientes_gpu, coeficientes_cpu )\n",
        "cuda.memcpy_htod( taylor_gpu, taylor_cpu )\n",
        "cuda.memcpy_htod( derivadas_gpu, derivadas_cpu )\n",
        "\n",
        "# CPU - Defino la función kernel que ejecutará en GPU.\n",
        "module = SourceModule(\"\"\"\n",
        "__global__ void kernel_taylor( int n, float alfa, float *X, float *Y )\n",
        "{\n",
        "  int idx = threadIdx.x + blockIdx.x*blockDim.x;\n",
        "  if( idx < n )\n",
        "  {\n",
        "    Y[idx]  = alfa*X[idx] + Y[idx];\n",
        "  }\n",
        "}\n",
        "\"\"\") \n",
        "# CPU - Genero la función kernel.\n",
        "kernel = module.get_function(\"kernel_taylor\")\n",
        "\n",
        "tiempo_gpu = datetime.now()\n",
        "\n",
        "# GPU - Ejecuta el kernel.\n",
        "# TODO: Falta consultar limites del GPU, para armar las dimensiones correctamente.\n",
        "dim_hilo = 256\n",
        "dim_bloque = numpy.int( (cantidad_N+dim_hilo-1) / dim_hilo )\n",
        "print( \"Thread x: \", dim_hilo, \", Bloque x:\", dim_bloque )\n",
        "\n",
        "#TODO: Ojo, con los tipos de las variables en el kernel.\n",
        "kernel( numpy.int32(cantidad_N),numpy.float32(alfa), x_gpu, y_gpu, block=( dim_hilo, 1, 1 ),grid=(dim_bloque, 1,1) )\n",
        "\n",
        "tiempo_gpu = datetime.now() - tiempo_gpu\n",
        "\n",
        "# GPU - Copio el resultado desde la memoria GPU.\n",
        "cuda.memcpy_dtoh( r_cpu, y_gpu )\n",
        "\n",
        "tiempoTotal = time.time() *1000 - tiempoTotal\n",
        "\n",
        "print( \"Cantidad de elementos: \", cantidad_N )\n",
        "print( \"Thread x: \", dim_hilo, \", Bloque x:\", dim_bloque )\n",
        "print(\"Tiempo CPU: \", tiempoTotal, \"[ms]\" )\n",
        "print(\"Tiempo GPU: \", tiempo_gpu, \"[ms]\" )"
      ],
      "execution_count": 19,
      "outputs": [
        {
          "output_type": "stream",
          "text": [
            "C: [3. 2. 3. 4.]\n",
            "T: [0. 0.]\n",
            "D: [0 1 2 3]\n",
            "R: [0.    1.875]\n",
            "Thread x:  256 , Bloque x: 196\n",
            "Cantidad de elementos:  50000\n",
            "Thread x:  256 , Bloque x: 196\n",
            "Tiempo CPU:  5.732177734375 [ms]\n",
            "Tiempo GPU:  0:00:00.000518 [ms]\n"
          ],
          "name": "stdout"
        }
      ]
    },
    {
      "cell_type": "markdown",
      "metadata": {
        "id": "xf6agd3FclX1"
      },
      "source": [
        "#4. Tabla de pasos"
      ]
    },
    {
      "cell_type": "markdown",
      "metadata": {
        "id": "9xDsWySJcoyO"
      },
      "source": [
        "#5. Conclusiones"
      ]
    }
  ]
}