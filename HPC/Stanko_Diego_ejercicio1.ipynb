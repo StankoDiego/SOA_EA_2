{
  "nbformat": 4,
  "nbformat_minor": 0,
  "metadata": {
    "colab": {
      "name": "Stanko_Diego_ejercicio1.ipynb",
      "provenance": [],
      "authorship_tag": "ABX9TyPq6e0oANH7s3YFFQ6oWqHd",
      "include_colab_link": true
    },
    "kernelspec": {
      "name": "python3",
      "display_name": "Python 3"
    },
    "accelerator": "GPU"
  },
  "cells": [
    {
      "cell_type": "markdown",
      "metadata": {
        "id": "view-in-github",
        "colab_type": "text"
      },
      "source": [
        "<a href=\"https://colab.research.google.com/github/StankoDiego/SOA_EA_2/blob/main/HPC/Stanko_Diego_ejercicio1.ipynb\" target=\"_parent\"><img src=\"https://colab.research.google.com/assets/colab-badge.svg\" alt=\"Open In Colab\"/></a>"
      ]
    },
    {
      "cell_type": "markdown",
      "metadata": {
        "id": "cLmL1H8LRmDW"
      },
      "source": [
        "#1. Introducción"
      ]
    },
    {
      "cell_type": "markdown",
      "metadata": {
        "id": "GxSWFDGpRpRF"
      },
      "source": [
        "# 2. Armado del ambiente"
      ]
    },
    {
      "cell_type": "markdown",
      "metadata": {
        "id": "8w9eSqsERuCL"
      },
      "source": [
        "## 2.1 Armado del ambiente en CPU"
      ]
    },
    {
      "cell_type": "markdown",
      "metadata": {
        "id": "i7TYEZYuSHXr"
      },
      "source": [
        "No se requiere ejecuciones previas para la ejecución del programa"
      ]
    },
    {
      "cell_type": "markdown",
      "metadata": {
        "id": "x8-WQFJ5RwbD"
      },
      "source": [
        "##2.2 Armado del ambiente en GPU"
      ]
    },
    {
      "cell_type": "markdown",
      "metadata": {
        "id": "1Jot60pXSNbL"
      },
      "source": [
        "Se requiere la instalación del modulo de Cuda para Python"
      ]
    },
    {
      "cell_type": "code",
      "metadata": {
        "id": "XuWy5PSgSiOH",
        "outputId": "ab13fd94-7886-42f7-ec5e-3db793d3bbab",
        "colab": {
          "base_uri": "https://localhost:8080/"
        }
      },
      "source": [
        "!pip install pycuda"
      ],
      "execution_count": 10,
      "outputs": [
        {
          "output_type": "stream",
          "text": [
            "Requirement already satisfied: pycuda in /usr/local/lib/python3.6/dist-packages (2020.1)\n",
            "Requirement already satisfied: decorator>=3.2.0 in /usr/local/lib/python3.6/dist-packages (from pycuda) (4.4.2)\n",
            "Requirement already satisfied: appdirs>=1.4.0 in /usr/local/lib/python3.6/dist-packages (from pycuda) (1.4.4)\n",
            "Requirement already satisfied: pytools>=2011.2 in /usr/local/lib/python3.6/dist-packages (from pycuda) (2020.4.3)\n",
            "Requirement already satisfied: mako in /usr/local/lib/python3.6/dist-packages (from pycuda) (1.1.3)\n",
            "Requirement already satisfied: six>=1.8.0 in /usr/local/lib/python3.6/dist-packages (from pytools>=2011.2->pycuda) (1.15.0)\n",
            "Requirement already satisfied: dataclasses>=0.7; python_version <= \"3.6\" in /usr/local/lib/python3.6/dist-packages (from pytools>=2011.2->pycuda) (0.7)\n",
            "Requirement already satisfied: numpy>=1.6.0 in /usr/local/lib/python3.6/dist-packages (from pytools>=2011.2->pycuda) (1.18.5)\n",
            "Requirement already satisfied: MarkupSafe>=0.9.2 in /usr/local/lib/python3.6/dist-packages (from mako->pycuda) (1.1.1)\n"
          ],
          "name": "stdout"
        }
      ]
    },
    {
      "cell_type": "markdown",
      "metadata": {
        "id": "N4pGZF-1R30M"
      },
      "source": [
        "#3. Desarrollo"
      ]
    },
    {
      "cell_type": "markdown",
      "metadata": {
        "id": "R80vJpK7R6vD"
      },
      "source": [
        "##3.1 Desarrollo en CPU"
      ]
    },
    {
      "cell_type": "code",
      "metadata": {
        "id": "_jzfSD6iYXQF",
        "colab": {
          "base_uri": "https://localhost:8080/"
        },
        "outputId": "9f81fdde-7eba-43e9-87ee-c1aa2ee520f6"
      },
      "source": [
        "#---------------------PARAMETROS-------------------------------\n",
        "#@title 3.1.1 Parametros de ejecución {vertical-output: true}\n",
        "\n",
        "cantidadElementos = 1000000#@param {type: \"number\"}\n",
        "\n",
        "import numpy\n",
        "import time\n",
        "\n",
        "tiempoTotal = time.time() * 1000\n",
        "\n",
        "vector = numpy.random.randint(1000, size = cantidadElementos)\n",
        "\n",
        "longitud = len(vector)\n",
        "\n",
        "print(\"Original:\")\n",
        "#print(vector)\n",
        "\n",
        "#----------------------ALGORITMO----------------------------\n",
        "tiempoBucle = time.time() *1000\n",
        "\n",
        "n = len(vector) \n",
        "gap = n//2\n",
        "\n",
        "while gap > 0: \n",
        "\n",
        "    for i in range(gap, n): \n",
        "        temp = vector[i] \n",
        "        j = i \n",
        "        while  j >= gap and vector[j-gap] >temp: \n",
        "            vector[j] = vector[j-gap] \n",
        "            j -= gap \n",
        "\n",
        "        vector[j] = temp \n",
        "    gap //= 2\n",
        "\n",
        "#----------------------FINALIZACION----------------------------\n",
        "tiempoBucle = (time.time() *1000) - tiempoBucle\n",
        "print(\"Ordenado:\")\n",
        "#print(vector)\n",
        "\n",
        "tiempoTotal = (time.time() *1000) - tiempoTotal\n",
        "print(\"\\n\")\n",
        "print(\"Tiempo del bucle: \" , tiempoBucle , \"[ms.]\")\n",
        "print(\"Tiempo del total: \" , tiempoTotal , \"[ms.]\")"
      ],
      "execution_count": null,
      "outputs": [
        {
          "output_type": "stream",
          "text": [
            "Original:\n",
            "Ordenado:\n",
            "\n",
            "\n",
            "Tiempo del bucle:  31284.083984375 [ms.]\n",
            "Tiempo del total:  31298.551025390625 [ms.]\n"
          ],
          "name": "stdout"
        }
      ]
    },
    {
      "cell_type": "markdown",
      "metadata": {
        "id": "Zbpxdt3MR_7j"
      },
      "source": [
        "##3.2 Desarrollo en GPU"
      ]
    },
    {
      "cell_type": "code",
      "metadata": {
        "id": "-nVGDpecc-EG",
        "cellView": "code",
        "outputId": "42d28496-bca5-45a0-bd82-00bc05791d01",
        "colab": {
          "base_uri": "https://localhost:8080/",
          "height": 231
        }
      },
      "source": [
        "# --------------------------------------------\n",
        "#@title 3.1 Parámetros de ejecución { vertical-output: true }\n",
        "\n",
        "orden_polinomio =  10#@param {type: \"number\"}\n",
        "orden_taylor = 3#@param {type: \"number\"}\n",
        "punto_evalacion =  5#@param {type: \"number\"}\n",
        "# --------------------------------------------\n",
        "\n",
        "import pycuda.driver as cuda\n",
        "import pycuda.autoinit\n",
        "from pycuda.compiler import SourceModule\n",
        "\n",
        "import time\n",
        "import numpy\n",
        "\n",
        "tiempoTotal = (time.time() * 1000)\n",
        "\n",
        "# vectores en CPU.\n",
        "coeficientes_cpu = numpy.random.randint(1000, size = orden_polinomio + 1 )\n",
        "coeficientes_cpu = coeficientes_cpu.astype(numpy.int32())\n",
        "\n",
        "terminos_taylor_cpu = numpy.random.randint(1000, size = orden_taylor + 1 )\n",
        "terminos_taylor_cpu = coeficientes_cpu.astype(numpy.float32())\n",
        "\n",
        "resultado_cpu = numpy.empty_like(terminos_taylor_cpu)\n",
        "\n",
        "# vectores en GPU.\n",
        "coeficientes_gpu = cuda.mem_alloc(coeficientes_cpu.nbytes)\n",
        "terminos_taylor_gpu = cuda.mem_alloc(terminos_taylor_gpu)\n",
        "\n",
        "# CPU - Defino la función kernel que ejecutará en GPU.\n",
        "module = SourceModule(\"\"\"\n",
        "__global__ void kernel_taylor( int n, float alfa, float *X, float *Y )\n",
        "{\n",
        "  int idx = threadIdx.x + blockIdx.x*blockDim.x;\n",
        "  if( idx < n )\n",
        "  {\n",
        "    Y[idx]  = alfa*X[idx] + Y[idx];\n",
        "  }\n",
        "}\n",
        "\"\"\") \n",
        "# CPU - Genero la función kernel.\n",
        "kernel = module.get_function(\"kernel_taylor\")\n",
        "\n",
        "tiempo_gpu = (time.time() * 1000)\n",
        "\n",
        "# GPU - Ejecuta el kernel.\n",
        "# TODO: Falta consultar limites del GPU, para armar las dimensiones correctamente.\n",
        "dim_hilo = 256\n",
        "dim_bloque = numpy.int( (orden_polinomio + dim_hilo-1) / dim_hilo )\n",
        "print( \"Thread x: \", dim_hilo, \", Bloque x:\", dim_bloque )\n",
        "\n",
        "#TODO: Ojo, con los tipos de las variables en el kernel.\n",
        "kernel( numpy.int32(orden_polinomio),numpy.float32(punto_evalacion), coeficientes_gpu, resultado_gpu, block=( dim_hilo, 1, 1 ),grid=(dim_bloque, 1,1) )\n",
        "\n",
        "tiempo_gpu = (time.time() * 1000) - tiempo_gpu\n",
        "\n",
        "\"\"\"\n",
        "# CPU - Informo el resutlado.\n",
        "print( \"------------------------------------\")\n",
        "print( \"X: \" )\n",
        "print( x_cpu )\n",
        "print( \"------------------------------------\")\n",
        "print( \"Y: \" )\n",
        "print( y_cpu )\n",
        "print( \"------------------------------------\")\n",
        "print( \"R: \" )\n",
        "print( r_cpu )\n",
        "\"\"\"\n",
        "\n",
        "tiempo_total = (time.time() * 1000) - tiempoTotal\n",
        "\n",
        "print( \"Orden de polinomio: \", orden_polinomio )\n",
        "print( \"Thread x: \", dim_hilo, \", Bloque x:\", dim_bloque )\n",
        "print(\"Tiempo CPU: \", tiempo_en_ms( tiempo_total ), \"[ms]\" )\n",
        "print(\"Tiempo GPU: \", tiempo_en_ms( tiempo_gpu   ), \"[ms]\" )"
      ],
      "execution_count": 9,
      "outputs": [
        {
          "output_type": "error",
          "ename": "LogicError",
          "evalue": "ignored",
          "traceback": [
            "\u001b[0;31m---------------------------------------------------------------------------\u001b[0m",
            "\u001b[0;31mLogicError\u001b[0m                                Traceback (most recent call last)",
            "\u001b[0;32m<ipython-input-9-ad1dcc73b995>\u001b[0m in \u001b[0;36m<module>\u001b[0;34m()\u001b[0m\n\u001b[1;32m     26\u001b[0m \u001b[0;34m\u001b[0m\u001b[0m\n\u001b[1;32m     27\u001b[0m \u001b[0;31m# vectores en GPU.\u001b[0m\u001b[0;34m\u001b[0m\u001b[0;34m\u001b[0m\u001b[0;34m\u001b[0m\u001b[0m\n\u001b[0;32m---> 28\u001b[0;31m \u001b[0mcoeficientes_gpu\u001b[0m \u001b[0;34m=\u001b[0m \u001b[0mcuda\u001b[0m\u001b[0;34m.\u001b[0m\u001b[0mmem_alloc\u001b[0m\u001b[0;34m(\u001b[0m\u001b[0mcoeficientes_cpu\u001b[0m\u001b[0;34m.\u001b[0m\u001b[0mnbytes\u001b[0m\u001b[0;34m)\u001b[0m\u001b[0;34m\u001b[0m\u001b[0;34m\u001b[0m\u001b[0m\n\u001b[0m\u001b[1;32m     29\u001b[0m \u001b[0mterminos_taylor_gpu\u001b[0m \u001b[0;34m=\u001b[0m \u001b[0mcuda\u001b[0m\u001b[0;34m.\u001b[0m\u001b[0mmem_alloc\u001b[0m\u001b[0;34m(\u001b[0m\u001b[0mterminos_taylor_gpu\u001b[0m\u001b[0;34m)\u001b[0m\u001b[0;34m\u001b[0m\u001b[0;34m\u001b[0m\u001b[0m\n\u001b[1;32m     30\u001b[0m \u001b[0;34m\u001b[0m\u001b[0m\n",
            "\u001b[0;31mLogicError\u001b[0m: cuMemAlloc failed: an illegal memory access was encountered"
          ]
        }
      ]
    },
    {
      "cell_type": "markdown",
      "metadata": {
        "id": "xf6agd3FclX1"
      },
      "source": [
        "#4. Tabla de pasos"
      ]
    },
    {
      "cell_type": "markdown",
      "metadata": {
        "id": "9xDsWySJcoyO"
      },
      "source": [
        "#5. Conclusiones"
      ]
    }
  ]
}