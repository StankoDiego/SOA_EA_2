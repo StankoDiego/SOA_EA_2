{
  "nbformat": 4,
  "nbformat_minor": 0,
  "metadata": {
    "colab": {
      "name": "Stanko_Diego_ejercicio1.ipynb",
      "provenance": [],
      "authorship_tag": "ABX9TyORY1J3RrQ1zkbJa/pE6APQ",
      "include_colab_link": true
    },
    "kernelspec": {
      "name": "python3",
      "display_name": "Python 3"
    },
    "accelerator": "GPU"
  },
  "cells": [
    {
      "cell_type": "markdown",
      "metadata": {
        "id": "view-in-github",
        "colab_type": "text"
      },
      "source": [
        "<a href=\"https://colab.research.google.com/github/StankoDiego/SOA_EA_2/blob/main/HPC/Stanko_Diego_ejercicio1.ipynb\" target=\"_parent\"><img src=\"https://colab.research.google.com/assets/colab-badge.svg\" alt=\"Open In Colab\"/></a>"
      ]
    },
    {
      "cell_type": "markdown",
      "metadata": {
        "id": "cLmL1H8LRmDW"
      },
      "source": [
        "#1. Introducción"
      ]
    },
    {
      "cell_type": "markdown",
      "metadata": {
        "id": "GdPXGoyR9Bs0"
      },
      "source": [
        "Se va a implementar un algoritmo para resolver cada uno de los terminos de una serie de Taylor[1].\n",
        "\n",
        "Se implementaran dos algoritmos, uno que ejecuta de manera secuencial sobre el mismo procesador y otro que resuelve cada termino del polinomio de forma paralela utilizando GPUGPU.\n"
      ]
    },
    {
      "cell_type": "markdown",
      "metadata": {
        "id": "GxSWFDGpRpRF"
      },
      "source": [
        "# 2. Armado del ambiente"
      ]
    },
    {
      "cell_type": "markdown",
      "metadata": {
        "id": "8w9eSqsERuCL"
      },
      "source": [
        "## 2.1 Armado del ambiente en CPU"
      ]
    },
    {
      "cell_type": "markdown",
      "metadata": {
        "id": "i7TYEZYuSHXr"
      },
      "source": [
        "No se requiere ejecuciones previas para la ejecución del programa"
      ]
    },
    {
      "cell_type": "markdown",
      "metadata": {
        "id": "x8-WQFJ5RwbD"
      },
      "source": [
        "##2.2 Armado del ambiente en GPU"
      ]
    },
    {
      "cell_type": "markdown",
      "metadata": {
        "id": "1Jot60pXSNbL"
      },
      "source": [
        "Se requiere la instalación del modulo de Cuda para Python"
      ]
    },
    {
      "cell_type": "code",
      "metadata": {
        "id": "XuWy5PSgSiOH"
      },
      "source": [
        "!pip install pycuda"
      ],
      "execution_count": null,
      "outputs": []
    },
    {
      "cell_type": "markdown",
      "metadata": {
        "id": "N4pGZF-1R30M"
      },
      "source": [
        "#3. Desarrollo"
      ]
    },
    {
      "cell_type": "markdown",
      "metadata": {
        "id": "R80vJpK7R6vD"
      },
      "source": [
        "##3.1 Desarrollo en CPU"
      ]
    },
    {
      "cell_type": "markdown",
      "metadata": {
        "id": "vc2MkCeVAEIF"
      },
      "source": [
        "Ejecuta el algoritmo de forma secuencial en un mismo procesador."
      ]
    },
    {
      "cell_type": "code",
      "metadata": {
        "id": "_jzfSD6iYXQF",
        "colab": {
          "base_uri": "https://localhost:8080/"
        },
        "outputId": "662168f7-559d-49dd-ff74-55fca66b6537"
      },
      "source": [
        "# --------------------------------------------\n",
        "#@title 3.1 Parámetros de ejecución { vertical-output: true }\n",
        "\n",
        "orden_polinomio =  5#@param {type: \"number\"}\n",
        "orden_taylor = 5#@param {type: \"number\"}\n",
        "x0 =  3#@param {type: \"number\"}\n",
        "x = 4#@param {type: \"number\"}\n",
        "# --------------------------------------------\n",
        "\n",
        "import numpy\n",
        "import time\n",
        "import math\n",
        "\n",
        "def factorial(x):\n",
        "  if x == 0 or x == 1:\n",
        "    return 1\n",
        "  factorial = 1\n",
        "  for i in range (1, x+1):\n",
        "    factorial = factorial * i\n",
        "  return factorial\n",
        "\n",
        "tiempoTotal = time.time() * 1000\n",
        "coeficientes = numpy.random.randn(orden_polinomio + 1)\n",
        "longitud_poli = len(coeficientes)\n",
        "derivadas = numpy.arange(longitud_poli)\n",
        "\n",
        "polin_taylor = numpy.zeros(orden_taylor + 1 , dtype=float)\n",
        "longitud_taylor = len(polin_taylor)\n",
        "\n",
        "\n",
        "tiempoBucle = time.time() *1000\n",
        "#----------------------ALGORITMO----------------------------\n",
        "for idx_t in range(0, longitud_taylor):\n",
        "  valor = 0\n",
        "  aux = 0\n",
        "  \n",
        "  if idx_t == 0:\n",
        "    polin_taylor[idx_t] += coeficientes[idx_t]\n",
        "    idx_p = idx_t + 1\n",
        "    for idx in range(idx_p, longitud_poli):\n",
        "      polin_taylor[idx_t] += coeficientes[idx] * math.pow(x0, derivadas[idx])\n",
        "  \n",
        "  else:\n",
        "    if idx_t < longitud_poli - 1:\n",
        "      aux += coeficientes[idx_t]\n",
        "      idx_p = idx_t + 1\n",
        "      resta = math.pow(x - x0, idx_t)\n",
        "      f = factorial(idx_t)\n",
        "      for idx in range(idx_p, longitud_poli):\n",
        "        termino = coeficientes[idx] * derivadas[idx]\n",
        "        coeficientes[idx] = termino\n",
        "        derivadas[idx] = derivadas[idx] - 1\n",
        "        factor = math.pow(x0, derivadas[idx])\n",
        "        aux += termino * factor        \n",
        "        \n",
        "      polin_taylor[idx_t] = (aux * resta) / f        \n",
        "    else:\n",
        "      if idx_t >= longitud_poli: \n",
        "        \n",
        "        valor =  0\n",
        "        polin_taylor[idx_t] = valor\n",
        "        \n",
        "      else:\n",
        "        \n",
        "        valor =  coeficientes[idx_t]\n",
        "        resta = math.pow(x - x0, idx_t)\n",
        "        f = factorial(idx_t)\n",
        "        polin_taylor[idx_t] = (valor * resta)/ f\n",
        "#----------------------FINALIZACION----------------------------\n",
        "\n",
        "tiempoBucle = (time.time() *1000) - tiempoBucle\n",
        "tiempoTotal = (time.time() *1000) - tiempoTotal\n",
        "print(\"C:\", coeficientes)\n",
        "print(\"T:\", polin_taylor)\n",
        "print(\"--------------------------------------------------\")\n",
        "print(\"Tiempo del bucle: \" , tiempoBucle , \"[ms.]\")\n",
        "print(\"Tiempo del total: \" , tiempoTotal , \"[ms.]\")"
      ],
      "execution_count": null,
      "outputs": [
        {
          "output_type": "stream",
          "text": [
            "C: [-4.06333478e-01 -8.01496239e-01  1.03950267e-01 -6.85627782e-01\n",
            "  2.00200237e+01  2.07764581e+02]\n",
            "T: [482.86248601 787.72059791 511.5388946  165.71917649  26.80474031\n",
            "   1.73137151]\n",
            "--------------------------------------------------\n",
            "Tiempo del bucle:  0.265380859375 [ms.]\n",
            "Tiempo del total:  0.466796875 [ms.]\n"
          ],
          "name": "stdout"
        }
      ]
    },
    {
      "cell_type": "markdown",
      "metadata": {
        "id": "Zbpxdt3MR_7j"
      },
      "source": [
        "##3.2 Desarrollo en GPU"
      ]
    },
    {
      "cell_type": "markdown",
      "metadata": {
        "id": "48Zd5c_SAKXU"
      },
      "source": [
        "Ejecuta el algoritmo en CPU - GPU"
      ]
    },
    {
      "cell_type": "code",
      "metadata": {
        "id": "-nVGDpecc-EG",
        "colab": {
          "base_uri": "https://localhost:8080/"
        },
        "cellView": "code",
        "outputId": "d3ce2d12-a221-4796-fcb5-92a2e7559e71"
      },
      "source": [
        "# --------------------------------------------\n",
        "#@title 3.1 Parámetros de ejecución { vertical-output: true }\n",
        "\n",
        "orden_polinomio = 10#@param {type: \"number\"}\n",
        "orden_taylor = 5#@param {type: \"number\"}\n",
        "x0 = 3#@param {type: \"number\"}\n",
        "x = 4#@param {type: \"number\"}\n",
        "# --------------------------------------------\n",
        "\n",
        "import numpy\n",
        "import time\n",
        "\n",
        "import pycuda.driver as cuda\n",
        "import pycuda.autoinit\n",
        "from pycuda.compiler import SourceModule\n",
        "\n",
        "tiempoTotal = (time.time() * 1000)\n",
        "\n",
        "# --------------------------------------------\n",
        "# CPU - Defino la memoria de los vectores en cpu.\n",
        "coeficientes_cpu = numpy.random.randn(orden_polinomio + 1)\n",
        "coeficientes_cpu = coeficientes_cpu.astype(numpy.float32())\n",
        "long_pol = len(coeficientes_cpu)\n",
        "\n",
        "taylor_cpu = numpy.zeros(orden_taylor + 1, dtype=float)\n",
        "taylor_cpu = taylor_cpu.astype(numpy.float32())\n",
        "long_tay = len(coeficientes_cpu)\n",
        "\n",
        "resultado_cpu = numpy.empty_like(taylor_cpu)\n",
        "# CPU - reservo la memoria GPU.\n",
        "coeficientes_gpu = cuda.mem_alloc( coeficientes_cpu.nbytes )\n",
        "taylor_gpu = cuda.mem_alloc( taylor_cpu.nbytes )\n",
        "# GPU - Copio la memoria al GPU.\n",
        "cuda.memcpy_htod( coeficientes_gpu, coeficientes_cpu )\n",
        "cuda.memcpy_htod( taylor_gpu, taylor_cpu )\n",
        "\n",
        "# CPU - Defino la función kernel que ejecutará en GPU.\n",
        "module = SourceModule(\"\"\"\n",
        "__global__ void kernel_taylor(  int long_p,  int long_t,\n",
        "                                float x0, float x,\n",
        "                                float* C, float* T){\n",
        "  \n",
        "  int idx_t = threadIdx.x + blockIdx.x*blockDim.x;\n",
        "\n",
        "  int f = 1;\n",
        "  int i;\n",
        "  int idx;\n",
        "  float aux = 0;\n",
        "  float factor;\n",
        "  int idx_p;\n",
        "  float coef = 0;\n",
        "  float resta;\n",
        "\n",
        "  for(i = 1; i <= idx_t; i++){\n",
        "    f*= i;\n",
        "  }\n",
        "\n",
        "  if(idx_t == 0){\n",
        "    for(i = idx_t; i < long_p; i++){\n",
        "      T[idx_t] += C[i] * pow((double)x0, (double)i);\n",
        "    }\n",
        "  } else {\n",
        "    if(idx_t < long_p - 1){      \n",
        "      resta = pow((double)x-x0, (double) idx_t);\n",
        "      coef = C[idx_t];\n",
        "      for(i = 0; i < idx_t; i++){\n",
        "        coef *= i + 1;\n",
        "      }\n",
        "\n",
        "      idx_p = idx_t + 1;\n",
        "      aux = 0;\n",
        "      for(idx = idx_p; idx < long_p; idx++){\n",
        "         factor = C[idx];\n",
        "          for(i = 1; i < idx_t + 1; i++){\n",
        "            factor *= C[idx - i];\n",
        "          }\n",
        "          aux += factor * pow((double)x0, (double) idx - 1);\n",
        "      }\n",
        "\n",
        "      T[idx_t] = ((aux + coef) * resta) / f;\n",
        "\n",
        "    } else{\n",
        "\n",
        "      if(idx_t >= long_p){\n",
        "        T[idx_t] = 0;\n",
        "      }else{\n",
        "        coef = C[idx_t];\n",
        "        for(i = 0; i < idx_t; i++){\n",
        "          coef *= i + 1;\n",
        "        }\n",
        "        resta = pow((double)x-x0, (double) idx_t);\n",
        "        T[idx_t] = (coef * resta) / f;\n",
        "      }\n",
        "    }\n",
        "    \n",
        "  } \n",
        "}\n",
        "\"\"\")\n",
        "#T[idx_t] += C[idx] * idx * pow((double)x0, (double)idx - idx_t);\n",
        "\n",
        "# CPU - Genero la función kernel.\n",
        "kernel = module.get_function(\"kernel_taylor\")\n",
        "\n",
        "tiempo_gpu = time.time()*1000\n",
        "\n",
        "# GPU - Ejecuta el kernel.\n",
        "# TODO: Falta consultar limites del GPU, para armar las dimensiones correctamente.\n",
        "dim_hilo = 256\n",
        "dim_bloque = numpy.int( (long_tay+dim_hilo-1) / dim_hilo )\n",
        "print( \"Thread x: \", dim_hilo, \", Bloque x:\", dim_bloque )\n",
        "\n",
        "#TODO: Ojo, con los tipos de las variables en el kernel.\n",
        "kernel( numpy.int32(long_pol), numpy.int32(long_tay),\n",
        "       numpy.float32(x0), numpy.float32(x),      \n",
        "       coeficientes_gpu, taylor_gpu,\n",
        "       block=( dim_hilo, 1, 1 ),grid=(dim_bloque, 1,1) )\n",
        "\n",
        "tiempo_gpu = time.time()*1000 - tiempo_gpu\n",
        "\n",
        "# GPU - Copio el resultado desde la memoria GPU.\n",
        "cuda.memcpy_dtoh( resultado_cpu, taylor_gpu)\n",
        "\n",
        "tiempoTotal = time.time() *1000 - tiempoTotal\n",
        "print(\"C:\", coeficientes_cpu)\n",
        "print(\"T:\", taylor_cpu)\n",
        "print(\"R:\", resultado_cpu)\n",
        "print(\"-----------------------------------------------\")\n",
        "print(\"Thread x: \", dim_hilo, \", Bloque x:\", dim_bloque )\n",
        "print(\"Tiempo CPU: \", tiempoTotal, \"[ms]\" )\n",
        "print(\"Tiempo GPU: \", tiempo_gpu, \"[ms]\" )"
      ],
      "execution_count": null,
      "outputs": [
        {
          "output_type": "stream",
          "text": [
            "Thread x:  256 , Bloque x: 1\n",
            "C: [ 2.0069659   0.37852317  0.58933175  0.01678326 -0.09624083 -0.8216089\n",
            "  1.3253883   0.91632026  0.42315808 -2.277388   -0.26547503]\n",
            "T: [0. 0. 0. 0. 0. 0.]\n",
            "R: [-5.4953871e+04  7.0535796e+03 -1.6739603e+02 -6.5291809e+02\n",
            "  5.2136536e+02 -4.7735043e+01]\n",
            "-----------------------------------------------\n",
            "Thread x:  256 , Bloque x: 1\n",
            "Tiempo CPU:  2.94921875 [ms]\n",
            "Tiempo GPU:  0.5029296875 [ms]\n"
          ],
          "name": "stdout"
        }
      ]
    },
    {
      "cell_type": "markdown",
      "metadata": {
        "id": "xf6agd3FclX1"
      },
      "source": [
        "#4. Tabla de pasos"
      ]
    },
    {
      "cell_type": "markdown",
      "metadata": {
        "id": "9tJpBnuoHziH"
      },
      "source": [
        "##4.1 Tabla de pasos CPU"
      ]
    },
    {
      "cell_type": "markdown",
      "metadata": {
        "id": "toAu6wlFMgpp"
      },
      "source": [
        "Tabla de ejecucion de forma secuencial\n",
        ">Procesador | Funcion | Detalle\n",
        ">--- | --- | ----\n",
        ">CPU\t|@param            |Lectura del tamaño del polimonio a evaluar y del polinomio de Taylor como a su vez de los valores de X0 y X\n",
        ">CPU\t|import             |Se importa los diferentes modulos a utilizar\n",
        ">CPU\t|tiempoTotal        |Se obtiene el tiempo actual para futuras mediciones\n",
        ">CPU\t|numpy.random.randn |Inicializacion de vector de Polinomio\n",
        ">CPU\t|numpy.arange\t      |Inicializacion de vector de Derivadas\n",
        ">CPU\t|numpy.zeros\t      |Inicializacion de vector de Taylor\n",
        ">CPU\t|tiempoBucle\t      |Se toma el tiempo inicial del algoritmo de Taylor\n",
        ">CPU\t|for…\t              |Realiza el algoritmo\n",
        ">CPU\t|tiempoBucle\t      |Toma el tiempo final del algoritmo de Taylor\n",
        ">CPU\t|tiempoTotal\t      |Toma el tiempo final del algoritmo de ejecucion\n",
        ">CPU\t|print()\t          |Se informan los datos\n",
        "\n",
        "\n"
      ]
    },
    {
      "cell_type": "markdown",
      "metadata": {
        "id": "agD9EQMTH3LW"
      },
      "source": [
        "##4.2 Tabla de pasos GPU"
      ]
    },
    {
      "cell_type": "markdown",
      "metadata": {
        "id": "XZkXaahYIbPv"
      },
      "source": [
        "Tabla de ejecucion de forma secuencial\n",
        ">Procesador | Funcion | Detalle\n",
        ">--- | --- |---\n",
        ">CPU\t|@param             |Lectura del tamaño del polimonio a evaluar y del polinomio de Taylor como a su vez de los valores de X0 y X\n",
        ">CPU\t|import             |Se importa los diferentes modulos a utilizar\n",
        ">CPU\t|tiempoTotal        |Se obtiene el tiempo actual para futuras mediciones\n",
        ">CPU\t|numpy.random.randn |Inicializacion de vector de Polinomio\n",
        ">CPU\t|numpy.zeros\t    |Inicializacion de vector de Taylor\n",
        ">CPU\t|numpy.empty_like   |Copia del vector de terminos de Taylor\n",
        ">**GPU**\t|cuda.mem.alloc\t    |Reserva de memoria de GPU\n",
        ">**GPU**\t|cuda.memcpy_htod\t|Copia de memoria de CPU a GPU\n",
        ">CPU\t|SourceModule\t    |Definicion de codigo de kernel\n",
        ">CPU\t|module.get_function|Generacion de funcion del Kernel de GPU\n",
        ">CPU\t|(long_tay+dim_hilo-1) / dim_hilo|Calculo de dimensiones\n",
        ">**GPU**\t|kernel()\t        |Ejecucion del Kernel\n",
        ">CPU\t|tiempo_gpu\t    |Toma el tiempo final del algoritmo de Taylor\n",
        ">CPU\t|cuda.memcpy_dtod\t|Copia el resultado de T a R\n",
        ">CPU\t|tiempoTotal\t    |Toma el tiempo final del algoritmo de ejecucion\n",
        ">CPU\t|print()\t        |Se informan los datos"
      ]
    },
    {
      "cell_type": "markdown",
      "metadata": {
        "id": "9xDsWySJcoyO"
      },
      "source": [
        "#5. Conclusiones"
      ]
    }
  ]
}