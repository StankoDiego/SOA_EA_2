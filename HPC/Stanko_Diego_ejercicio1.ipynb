{
  "nbformat": 4,
  "nbformat_minor": 0,
  "metadata": {
    "colab": {
      "name": "Stanko_Diego_ejercicio1.ipynb",
      "provenance": [],
      "authorship_tag": "ABX9TyNz1Wcp8re2N7YBJt7ohqxR",
      "include_colab_link": true
    },
    "kernelspec": {
      "name": "python3",
      "display_name": "Python 3"
    },
    "accelerator": "GPU"
  },
  "cells": [
    {
      "cell_type": "markdown",
      "metadata": {
        "id": "view-in-github",
        "colab_type": "text"
      },
      "source": [
        "<a href=\"https://colab.research.google.com/github/StankoDiego/SOA_EA_2/blob/main/HPC/Stanko_Diego_ejercicio1.ipynb\" target=\"_parent\"><img src=\"https://colab.research.google.com/assets/colab-badge.svg\" alt=\"Open In Colab\"/></a>"
      ]
    },
    {
      "cell_type": "markdown",
      "metadata": {
        "id": "cLmL1H8LRmDW"
      },
      "source": [
        "#1. Introducción"
      ]
    },
    {
      "cell_type": "markdown",
      "metadata": {
        "id": "GxSWFDGpRpRF"
      },
      "source": [
        "# 2. Armado del ambiente"
      ]
    },
    {
      "cell_type": "markdown",
      "metadata": {
        "id": "8w9eSqsERuCL"
      },
      "source": [
        "## 2.1 Armado del ambiente en CPU"
      ]
    },
    {
      "cell_type": "markdown",
      "metadata": {
        "id": "i7TYEZYuSHXr"
      },
      "source": [
        "No se requiere ejecuciones previas para la ejecución del programa"
      ]
    },
    {
      "cell_type": "markdown",
      "metadata": {
        "id": "x8-WQFJ5RwbD"
      },
      "source": [
        "##2.2 Armado del ambiente en GPU"
      ]
    },
    {
      "cell_type": "markdown",
      "metadata": {
        "id": "1Jot60pXSNbL"
      },
      "source": [
        "Se requiere la instalación del modulo de Cuda para Python"
      ]
    },
    {
      "cell_type": "code",
      "metadata": {
        "id": "XuWy5PSgSiOH",
        "colab": {
          "base_uri": "https://localhost:8080/"
        },
        "outputId": "5bc24fa0-571c-41aa-c620-274b9c5631e4"
      },
      "source": [
        "!pip install pycuda"
      ],
      "execution_count": 1,
      "outputs": [
        {
          "output_type": "stream",
          "text": [
            "Requirement already satisfied: pycuda in /usr/local/lib/python3.6/dist-packages (2020.1)\n",
            "Requirement already satisfied: mako in /usr/local/lib/python3.6/dist-packages (from pycuda) (1.1.3)\n",
            "Requirement already satisfied: appdirs>=1.4.0 in /usr/local/lib/python3.6/dist-packages (from pycuda) (1.4.4)\n",
            "Requirement already satisfied: decorator>=3.2.0 in /usr/local/lib/python3.6/dist-packages (from pycuda) (4.4.2)\n",
            "Requirement already satisfied: pytools>=2011.2 in /usr/local/lib/python3.6/dist-packages (from pycuda) (2020.4.3)\n",
            "Requirement already satisfied: MarkupSafe>=0.9.2 in /usr/local/lib/python3.6/dist-packages (from mako->pycuda) (1.1.1)\n",
            "Requirement already satisfied: numpy>=1.6.0 in /usr/local/lib/python3.6/dist-packages (from pytools>=2011.2->pycuda) (1.18.5)\n",
            "Requirement already satisfied: dataclasses>=0.7; python_version <= \"3.6\" in /usr/local/lib/python3.6/dist-packages (from pytools>=2011.2->pycuda) (0.7)\n",
            "Requirement already satisfied: six>=1.8.0 in /usr/local/lib/python3.6/dist-packages (from pytools>=2011.2->pycuda) (1.15.0)\n"
          ],
          "name": "stdout"
        }
      ]
    },
    {
      "cell_type": "markdown",
      "metadata": {
        "id": "N4pGZF-1R30M"
      },
      "source": [
        "#3. Desarrollo"
      ]
    },
    {
      "cell_type": "markdown",
      "metadata": {
        "id": "R80vJpK7R6vD"
      },
      "source": [
        "##3.1 Desarrollo en CPU"
      ]
    },
    {
      "cell_type": "code",
      "metadata": {
        "id": "_jzfSD6iYXQF",
        "colab": {
          "base_uri": "https://localhost:8080/"
        },
        "outputId": "1f192f99-79be-4eb9-e479-1f128757bd96"
      },
      "source": [
        "#---------------------PARAMETROS-------------------------------\n",
        "#@title 3.1.1 Parametros de ejecución {vertical-output: true}\n",
        "\n",
        "cantidadElementos = 1000000#@param {type: \"number\"}\n",
        "\n",
        "import numpy\n",
        "import time\n",
        "\n",
        "tiempoTotal = time.time() * 1000\n",
        "\n",
        "vector = numpy.random.randint(1000, size = cantidadElementos)\n",
        "\n",
        "longitud = len(vector)\n",
        "\n",
        "print(\"Original:\")\n",
        "#print(vector)\n",
        "\n",
        "#----------------------ALGORITMO----------------------------\n",
        "tiempoBucle = time.time() *1000\n",
        "\n",
        "n = len(vector) \n",
        "gap = n//2\n",
        "\n",
        "while gap > 0: \n",
        "\n",
        "    for i in range(gap, n): \n",
        "        temp = vector[i] \n",
        "        j = i \n",
        "        while  j >= gap and vector[j-gap] >temp: \n",
        "            vector[j] = vector[j-gap] \n",
        "            j -= gap \n",
        "\n",
        "        vector[j] = temp \n",
        "    gap //= 2\n",
        "\n",
        "#----------------------FINALIZACION----------------------------\n",
        "tiempoBucle = (time.time() *1000) - tiempoBucle\n",
        "print(\"Ordenado:\")\n",
        "#print(vector)\n",
        "\n",
        "tiempoTotal = (time.time() *1000) - tiempoTotal\n",
        "print(\"\\n\")\n",
        "print(\"Tiempo del bucle: \" , tiempoBucle , \"[ms.]\")\n",
        "print(\"Tiempo del total: \" , tiempoTotal , \"[ms.]\")"
      ],
      "execution_count": 2,
      "outputs": [
        {
          "output_type": "stream",
          "text": [
            "Original:\n",
            "Ordenado:\n",
            "\n",
            "\n",
            "Tiempo del bucle:  30113.286865234375 [ms.]\n",
            "Tiempo del total:  30121.781005859375 [ms.]\n"
          ],
          "name": "stdout"
        }
      ]
    },
    {
      "cell_type": "markdown",
      "metadata": {
        "id": "Zbpxdt3MR_7j"
      },
      "source": [
        "##3.2 Desarrollo en GPU"
      ]
    },
    {
      "cell_type": "code",
      "metadata": {
        "id": "-nVGDpecc-EG",
        "colab": {
          "base_uri": "https://localhost:8080/"
        },
        "outputId": "8a2e76d9-a0e8-427e-9bed-d77db8e8f5f5"
      },
      "source": [
        "# --------------------------------------------\n",
        "#@title 3.1 Parámetros de ejecución { vertical-output: true }\n",
        "\n",
        "orden_polinomio =  1#@param {type: \"number\"}\n",
        "orden_taylor = 0#@param {type: \"number\"}\n",
        "punto_evalacion =  3#@param {type: \"number\"}\n",
        "# --------------------------------------------\n",
        "\n",
        "import pycuda.driver as cuda\n",
        "import pycuda.autoinit\n",
        "from pycuda.compiler import SourceModule\n",
        "\n",
        "import time\n",
        "import numpy\n",
        "\n",
        "tiempoTotal = (time.time() * 1000)\n",
        "\n",
        "# Vectores en CPU.\n",
        "coeficientes_cpu = numpy.random.randint(115, size = orden_polinomio + 1 )\n",
        "coeficientes_cpu = coeficientes_cpu.astype(numpy.float32())\n",
        "\n",
        "print(\"Coeficientes: \")\n",
        "print(coeficientes_cpu)\n",
        "\n",
        "terminos_taylor_cpu = numpy.zeros(orden_taylor + 1)\n",
        "terminos_taylor_cpu = terminos_taylor_cpu.astype(numpy.float32())\n",
        "\n",
        "resultado_cpu = numpy.zeros(orden_taylor + 1)\n",
        "resultado_cpu = resultado_cpu.astype(numpy.float32())\n",
        "\n",
        "# Vectores en GPU.\n",
        "coeficientes_gpu = cuda.mem_alloc(coeficientes_cpu.nbytes)\n",
        "terminos_taylor_gpu = cuda.mem_alloc(terminos_taylor_cpu.nbytes)\n",
        "\n",
        "# Copio los datos\n",
        "cuda.memcpy_htod(coeficientes_gpu, coeficientes_cpu)\n",
        "cuda.memcpy_htod(terminos_taylor_gpu, terminos_taylor_cpu)\n",
        "\n",
        "# CPU - Defino la función kernel que ejecutará en GPU.\n",
        "module = SourceModule(\"\"\"\n",
        "__global__ void kernel_taylor( float punto, \n",
        "                               int long_pol, \n",
        "                               float *C, \n",
        "                               float *T){\n",
        "  \n",
        "  int idx = threadIdx.x + blockIdx.x*blockDim.x;\n",
        "  \n",
        "  float valor = 0;\n",
        "  int idx_polinomio = 0;\n",
        "\n",
        "  if(idx == 0){\n",
        "    valor += C[idx_polinomio];\n",
        "    \n",
        "    float aux = 0;\n",
        "\n",
        "    for(idx_polinomio = 1; idx_polinomio < long_pol + 1; idx_polinomio++){\n",
        "      \n",
        "    }\n",
        "  }\n",
        "\n",
        "  T[idx] = valor;\n",
        "\n",
        "}\n",
        "\"\"\")\n",
        "print(\"\\n\")\n",
        "# CPU - Genero la función kernel.\n",
        "kernel = module.get_function(\"kernel_taylor\")\n",
        "\n",
        "tiempo_gpu = (time.time() * 1000)\n",
        "\n",
        "# GPU - Ejecuta el kernel.\n",
        "# TODO: Falta consultar limites del GPU, para armar las dimensiones correctamente.\n",
        "dim_hilo = 256\n",
        "dim_bloque = numpy.int( (orden_taylor + 1 + dim_hilo-1) / dim_hilo )\n",
        "print( \"Thread x: \", dim_hilo, \", Bloque x:\", dim_bloque )\n",
        "\n",
        "#TODO: Ojo, con los tipos de las variables en el kernel.\n",
        "kernel(numpy.float32(punto_evalacion),\n",
        "       numpy.int32(orden_polinomio + 1),\n",
        "       coeficientes_gpu, terminos_taylor_gpu, \n",
        "       block=( dim_hilo, 1, 1 ),grid=(dim_bloque, 1,1))\n",
        "\n",
        "cuda.memcpy_dtoh(resultado_cpu, terminos_taylor_gpu)\n",
        "\n",
        "tiempo_gpu = (time.time() * 1000) - tiempo_gpu\n",
        "\n",
        "tiempo_total = (time.time() * 1000) - tiempoTotal\n",
        "print(resultado_cpu)\n",
        "print( \"Thread x: \", dim_hilo, \", Bloque x:\", dim_bloque )\n",
        "print(\"Tiempo CPU: \", tiempo_total, \"[ms]\" )\n",
        "print(\"Tiempo GPU: \", tiempo_gpu, \"[ms]\" )"
      ],
      "execution_count": 12,
      "outputs": [
        {
          "output_type": "stream",
          "text": [
            "Coeficientes: \n",
            "[35. 33. 77. 32.]\n",
            "\n",
            "\n",
            "Thread x:  256 , Bloque x: 1\n",
            "[35.]\n",
            "Thread x:  256 , Bloque x: 1\n",
            "Tiempo CPU:  6.3935546875 [ms]\n",
            "Tiempo GPU:  1.085693359375 [ms]\n"
          ],
          "name": "stdout"
        }
      ]
    },
    {
      "cell_type": "markdown",
      "metadata": {
        "id": "xf6agd3FclX1"
      },
      "source": [
        "#4. Tabla de pasos"
      ]
    },
    {
      "cell_type": "markdown",
      "metadata": {
        "id": "9xDsWySJcoyO"
      },
      "source": [
        "#5. Conclusiones"
      ]
    }
  ]
}