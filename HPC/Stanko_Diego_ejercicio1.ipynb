{
  "nbformat": 4,
  "nbformat_minor": 0,
  "metadata": {
    "colab": {
      "name": "Stanko_Diego_ejercicio1.ipynb",
      "provenance": [],
      "toc_visible": true,
      "authorship_tag": "ABX9TyP89+yXpFq/PK6drM49G5Mc",
      "include_colab_link": true
    },
    "kernelspec": {
      "name": "python3",
      "display_name": "Python 3"
    }
  },
  "cells": [
    {
      "cell_type": "markdown",
      "metadata": {
        "id": "view-in-github",
        "colab_type": "text"
      },
      "source": [
        "<a href=\"https://colab.research.google.com/github/StankoDiego/SOA_EA_2/blob/main/HPC/Stanko_Diego_ejercicio1.ipynb\" target=\"_parent\"><img src=\"https://colab.research.google.com/assets/colab-badge.svg\" alt=\"Open In Colab\"/></a>"
      ]
    },
    {
      "cell_type": "markdown",
      "metadata": {
        "id": "cLmL1H8LRmDW"
      },
      "source": [
        "#1. Introducción"
      ]
    },
    {
      "cell_type": "markdown",
      "metadata": {
        "id": "GxSWFDGpRpRF"
      },
      "source": [
        "# 2. Armado del ambiente"
      ]
    },
    {
      "cell_type": "markdown",
      "metadata": {
        "id": "8w9eSqsERuCL"
      },
      "source": [
        "## 2.1 Armado del ambiente en CPU"
      ]
    },
    {
      "cell_type": "markdown",
      "metadata": {
        "id": "i7TYEZYuSHXr"
      },
      "source": [
        "No se requiere ejecuciones previas para la ejecución del programa"
      ]
    },
    {
      "cell_type": "markdown",
      "metadata": {
        "id": "x8-WQFJ5RwbD"
      },
      "source": [
        "##2.2 Armado del ambiente en GPU"
      ]
    },
    {
      "cell_type": "markdown",
      "metadata": {
        "id": "1Jot60pXSNbL"
      },
      "source": [
        "Se requiere la instalación del modulo de Cuda para Python"
      ]
    },
    {
      "cell_type": "code",
      "metadata": {
        "id": "XuWy5PSgSiOH"
      },
      "source": [
        "!pip install pycuda"
      ],
      "execution_count": null,
      "outputs": []
    },
    {
      "cell_type": "markdown",
      "metadata": {
        "id": "N4pGZF-1R30M"
      },
      "source": [
        "#3. Desarrollo"
      ]
    },
    {
      "cell_type": "markdown",
      "metadata": {
        "id": "R80vJpK7R6vD"
      },
      "source": [
        "##3.1 Desarrollo en CPU"
      ]
    },
    {
      "cell_type": "code",
      "metadata": {
        "id": "_jzfSD6iYXQF",
        "outputId": "9f81fdde-7eba-43e9-87ee-c1aa2ee520f6",
        "colab": {
          "base_uri": "https://localhost:8080/"
        }
      },
      "source": [
        "#---------------------PARAMETROS-------------------------------\n",
        "#@title 3.1.1Parametros de ejecución {vertical-output: true}\n",
        "\n",
        "cantidadElementos = 1000000#@param {type: \"number\"}\n",
        "\n",
        "import numpy\n",
        "import time\n",
        "\n",
        "tiempoTotal = time.time() * 1000\n",
        "\n",
        "vector = numpy.random.randint(1000, size = cantidadElementos)\n",
        "\n",
        "longitud = len(vector)\n",
        "\n",
        "print(\"Original:\")\n",
        "#print(vector)\n",
        "\n",
        "#----------------------ALGORITMO----------------------------\n",
        "tiempoBucle = time.time() *1000\n",
        "\n",
        "n = len(vector) \n",
        "gap = n//2\n",
        "\n",
        "while gap > 0: \n",
        "\n",
        "    for i in range(gap, n): \n",
        "        temp = vector[i] \n",
        "        j = i \n",
        "        while  j >= gap and vector[j-gap] >temp: \n",
        "            vector[j] = vector[j-gap] \n",
        "            j -= gap \n",
        "\n",
        "        vector[j] = temp \n",
        "    gap //= 2\n",
        "\n",
        "#----------------------FINALIZACION----------------------------\n",
        "tiempoBucle = (time.time() *1000) - tiempoBucle\n",
        "print(\"Ordenado:\")\n",
        "#print(vector)\n",
        "\n",
        "tiempoTotal = (time.time() *1000) - tiempoTotal\n",
        "print(\"\\n\")\n",
        "print(\"Tiempo del bucle: \" , tiempoBucle , \"[ms.]\")\n",
        "print(\"Tiempo del total: \" , tiempoTotal , \"[ms.]\")"
      ],
      "execution_count": 41,
      "outputs": [
        {
          "output_type": "stream",
          "text": [
            "Original:\n",
            "Ordenado:\n",
            "\n",
            "\n",
            "Tiempo del bucle:  31284.083984375 [ms.]\n",
            "Tiempo del total:  31298.551025390625 [ms.]\n"
          ],
          "name": "stdout"
        }
      ]
    },
    {
      "cell_type": "markdown",
      "metadata": {
        "id": "Zbpxdt3MR_7j"
      },
      "source": [
        "##3.2 Desarrollor en GPU"
      ]
    },
    {
      "cell_type": "markdown",
      "metadata": {
        "id": "xf6agd3FclX1"
      },
      "source": [
        "#4. Tabla de pasos"
      ]
    },
    {
      "cell_type": "markdown",
      "metadata": {
        "id": "9xDsWySJcoyO"
      },
      "source": [
        "#5. Conclusiones"
      ]
    }
  ]
}