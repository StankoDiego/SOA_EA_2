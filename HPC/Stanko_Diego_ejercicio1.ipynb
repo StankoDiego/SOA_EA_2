{
  "nbformat": 4,
  "nbformat_minor": 0,
  "metadata": {
    "colab": {
      "name": "Ejercicio1.ipynb",
      "provenance": [],
      "toc_visible": true,
      "include_colab_link": true
    },
    "kernelspec": {
      "name": "python3",
      "display_name": "Python 3"
    }
  },
  "cells": [
    {
      "cell_type": "markdown",
      "metadata": {
        "id": "view-in-github",
        "colab_type": "text"
      },
      "source": [
        "<a href=\"https://colab.research.google.com/github/StankoDiego/SOA_EA_2/blob/main/HPC/Stanko_Diego_ejercicio1.ipynb\" target=\"_parent\"><img src=\"https://colab.research.google.com/assets/colab-badge.svg\" alt=\"Open In Colab\"/></a>"
      ]
    },
    {
      "cell_type": "markdown",
      "metadata": {
        "id": "0AHr4OTde4v8"
      },
      "source": [
        "# 1.Introducción\n"
      ]
    },
    {
      "cell_type": "markdown",
      "metadata": {
        "id": "f5oDDBG5fuCS"
      },
      "source": [
        "# 2.Armado del ambiente\n"
      ]
    },
    {
      "cell_type": "markdown",
      "metadata": {
        "id": "nimM9nnZLNhA"
      },
      "source": [
        "##2.1 Armado del ambiente en CPU"
      ]
    },
    {
      "cell_type": "markdown",
      "metadata": {
        "id": "fhGWOE3uLR7I"
      },
      "source": [
        "No se requeriere ejecuciones previas para la ejecucion del programa\n"
      ]
    },
    {
      "cell_type": "markdown",
      "metadata": {
        "id": "rw5TojZxLTbn"
      },
      "source": [
        "##2.2 Armado del ambiente en GPU"
      ]
    },
    {
      "cell_type": "code",
      "metadata": {
        "id": "2R06ZJHkLfjN"
      },
      "source": [
        "!pip install pycuda"
      ],
      "execution_count": null,
      "outputs": []
    },
    {
      "cell_type": "markdown",
      "metadata": {
        "id": "R1YmPGP_LZrv"
      },
      "source": [
        "Se requiere la insatalacion del modulo de Cuda de Python"
      ]
    },
    {
      "cell_type": "markdown",
      "metadata": {
        "id": "BdxMWLPkf4NJ"
      },
      "source": [
        "# 3.Desarrollo\n"
      ]
    },
    {
      "cell_type": "code",
      "metadata": {
        "id": "J6Lp2Y_iwr10",
        "colab": {
          "base_uri": "https://localhost:8080/"
        },
        "outputId": "1dee29c8-cd81-401e-d1a0-550641f54701"
      },
      "source": [
        "#--------------------------------------------------------------\n",
        "#@title 3.1 Parametros de ejecución { vertical-output: true }\n",
        "\n",
        "cantidad_N =  1000000#@param {type: \"number\"}\n",
        "\n",
        "import numpy\n",
        "\n",
        "import time\n",
        "\n",
        "tiempo_total = time.time() * 1000\n",
        "\n",
        "vector = numpy.random.randint(1000, size=cantidad_N+1)\n",
        "\n",
        "def shellSort(arr): \n",
        "    n = len(arr) \n",
        "    gap = n//2\n",
        "    \n",
        "    while gap > 0: \n",
        "  \n",
        "        for i in range(gap, n): \n",
        "            temp = arr[i] \n",
        "            j = i \n",
        "            while  j >= gap and arr[j-gap] >temp: \n",
        "                arr[j] = arr[j-gap] \n",
        "                j -= gap \n",
        "  \n",
        "            arr[j] = temp \n",
        "        gap //= 2\n",
        "  \n",
        " \n",
        "print (\"Original:\") \n",
        "print(vector) \n",
        "\n",
        "tiempo_bucle = time.time() * 1000\n",
        "\n",
        "shellSort(vector) \n",
        "\n",
        "tiempo_bucle = (time.time() * 1000) - tiempo_bucle   \n",
        "\n",
        "print (\"Ordenado:\") \n",
        "print(vector)\n",
        "\n",
        "tiempo_total = (time.time() * 1000) - tiempo_total\n",
        "\n",
        "print(\"Tiempo Total: \", tiempo_total , \"[ms]\" )\n",
        "print(\"Tiempo bucle: \", tiempo_bucle , \"[ms]\" )  \n",
        "\n",
        "  "
      ],
      "execution_count": null,
      "outputs": [
        {
          "output_type": "stream",
          "text": [
            "Original:\n",
            "[969 364 643 ... 290  31 357]\n",
            "Ordenado:\n",
            "[  0   0   0 ... 999 999 999]\n",
            "Tiempo Total:  25076.254638671875 [ms]\n",
            "Tiempo bucle:  25063.718505859375 [ms]\n"
          ],
          "name": "stdout"
        }
      ]
    },
    {
      "cell_type": "markdown",
      "metadata": {
        "id": "aXdRYmldf6Yy"
      },
      "source": [
        "#4.Tabla de pasos\n"
      ]
    },
    {
      "cell_type": "markdown",
      "metadata": {
        "id": "g1_dUNSKf8gR"
      },
      "source": [
        "# 5.Conclusiones"
      ]
    },
    {
      "cell_type": "markdown",
      "metadata": {
        "id": "95n0fDf0gAGe"
      },
      "source": [
        "# 6.Bibliografía\n"
      ]
    }
  ]
}