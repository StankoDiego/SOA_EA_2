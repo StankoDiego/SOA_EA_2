{
  "nbformat": 4,
  "nbformat_minor": 0,
  "metadata": {
    "colab": {
      "name": "Stanko_Diego_ejercicio1.ipynb",
      "provenance": [],
      "include_colab_link": true
    },
    "kernelspec": {
      "name": "python3",
      "display_name": "Python 3"
    },
    "accelerator": "GPU"
  },
  "cells": [
    {
      "cell_type": "markdown",
      "metadata": {
        "id": "view-in-github",
        "colab_type": "text"
      },
      "source": [
        "<a href=\"https://colab.research.google.com/github/StankoDiego/SOA_EA_2/blob/main/HPC/Stanko_Diego_ejercicio1.ipynb\" target=\"_parent\"><img src=\"https://colab.research.google.com/assets/colab-badge.svg\" alt=\"Open In Colab\"/></a>"
      ]
    },
    {
      "cell_type": "markdown",
      "metadata": {
        "id": "cLmL1H8LRmDW"
      },
      "source": [
        "#1. Introducción"
      ]
    },
    {
      "cell_type": "markdown",
      "metadata": {
        "id": "GdPXGoyR9Bs0"
      },
      "source": [
        "Se va a implementar un algoritmo para resolver cada uno de los terminos de una serie de Taylor[1].\n",
        "\n",
        "Se implementaran dos algoritmos, uno que ejecuta de manera secuencial sobre el mismo procesador y otro que resuelve cada termino del polinomio de forma paralela utilizando GPU.\n",
        "\n",
        "Para esto se usara Cuda implementando hilos en una dimension. Cada hilo representara un termino de la serie de Taylor ya que cada termino es independiente por lo que no sera necesario la sincronizacion de estos."
      ]
    },
    {
      "cell_type": "markdown",
      "metadata": {
        "id": "kuw0Xstjq2Y2"
      },
      "source": [
        "##1.1 Explicación del algoritmo"
      ]
    },
    {
      "cell_type": "markdown",
      "metadata": {
        "id": "cGXfS4hnq8Hr"
      },
      "source": [
        "El polinomio de Taylor es una aproximación polinómica de una función n veces derivable en un punto concreto. \n",
        "\n",
        "En otras palabras, el polinomio de Taylor es una suma finita de derivadas locales evaluadas en un punto concreto.\n",
        "\n",
        "![](https://drive.google.com/uc?export=view&id=1KJxL-M0MCEkXGLzks-hY7FsEcGBS-XPI)\n",
        "\n",
        "**Definimos:** \n",
        "f(x): función de x. \n",
        "f(x0): función de xen un punto concreto x0. \n",
        "\n",
        "**Aplicaciones:**\n",
        "\n",
        "La expansión de Taylor generalmente se aplica en activos y productos financieros los cuales su precio se expresa como una función no lineal. Por ejemplo, el precio de un título de deuda a corto plazo es una función no lineal que depende de los tipos de interés. Otro ejemplo serían las opciones, donde tanto los factores de riesgo como la rentabilidad son funciones no lineales. El cálculo de la duración de un bono es un polinomio de Taylor de primer grado. "
      ]
    },
    {
      "cell_type": "markdown",
      "metadata": {
        "id": "GxSWFDGpRpRF"
      },
      "source": [
        "# 2. Armado del ambiente"
      ]
    },
    {
      "cell_type": "markdown",
      "metadata": {
        "id": "8w9eSqsERuCL"
      },
      "source": [
        "## 2.1 Armado del ambiente en CPU"
      ]
    },
    {
      "cell_type": "markdown",
      "metadata": {
        "id": "i7TYEZYuSHXr"
      },
      "source": [
        "No se requiere ejecuciones previas para la ejecución del programa"
      ]
    },
    {
      "cell_type": "markdown",
      "metadata": {
        "id": "x8-WQFJ5RwbD"
      },
      "source": [
        "##2.2 Armado del ambiente en GPU"
      ]
    },
    {
      "cell_type": "markdown",
      "metadata": {
        "id": "1Jot60pXSNbL"
      },
      "source": [
        "1. Ir a Entornto de ejecucion -> Cambiar tipo de entorno de ejecucion y seleccionar la opcion GPU.\n",
        "2. Se requiere la instalación del modulo de Cuda para Python."
      ]
    },
    {
      "cell_type": "code",
      "metadata": {
        "id": "XuWy5PSgSiOH",
        "outputId": "7eb0d6ff-545b-4a49-afd0-c5f1dfac0f35",
        "colab": {
          "base_uri": "https://localhost:8080/"
        }
      },
      "source": [
        "!pip install pycuda"
      ],
      "execution_count": 2,
      "outputs": [
        {
          "output_type": "stream",
          "text": [
            "Collecting pycuda\n",
            "\u001b[?25l  Downloading https://files.pythonhosted.org/packages/46/61/47d3235a4c13eec5a5f03594ddb268f4858734e02980afbcd806e6242fa5/pycuda-2020.1.tar.gz (1.6MB)\n",
            "\u001b[K     |████████████████████████████████| 1.6MB 8.0MB/s \n",
            "\u001b[?25hCollecting pytools>=2011.2\n",
            "\u001b[?25l  Downloading https://files.pythonhosted.org/packages/b7/30/c9362a282ef89106768cba9d884f4b2e4f5dc6881d0c19b478d2a710b82b/pytools-2020.4.3.tar.gz (62kB)\n",
            "\u001b[K     |████████████████████████████████| 71kB 10.7MB/s \n",
            "\u001b[?25hRequirement already satisfied: decorator>=3.2.0 in /usr/local/lib/python3.6/dist-packages (from pycuda) (4.4.2)\n",
            "Collecting appdirs>=1.4.0\n",
            "  Downloading https://files.pythonhosted.org/packages/3b/00/2344469e2084fb287c2e0b57b72910309874c3245463acd6cf5e3db69324/appdirs-1.4.4-py2.py3-none-any.whl\n",
            "Collecting mako\n",
            "\u001b[?25l  Downloading https://files.pythonhosted.org/packages/a6/37/0e706200d22172eb8fa17d68a7ae22dec7631a0a92266634fb518a88a5b2/Mako-1.1.3-py2.py3-none-any.whl (75kB)\n",
            "\u001b[K     |████████████████████████████████| 81kB 11.4MB/s \n",
            "\u001b[?25hRequirement already satisfied: six>=1.8.0 in /usr/local/lib/python3.6/dist-packages (from pytools>=2011.2->pycuda) (1.15.0)\n",
            "Requirement already satisfied: numpy>=1.6.0 in /usr/local/lib/python3.6/dist-packages (from pytools>=2011.2->pycuda) (1.18.5)\n",
            "Requirement already satisfied: dataclasses>=0.7 in /usr/local/lib/python3.6/dist-packages (from pytools>=2011.2->pycuda) (0.8)\n",
            "Requirement already satisfied: MarkupSafe>=0.9.2 in /usr/local/lib/python3.6/dist-packages (from mako->pycuda) (1.1.1)\n",
            "Building wheels for collected packages: pycuda, pytools\n",
            "  Building wheel for pycuda (setup.py) ... \u001b[?25l\u001b[?25hdone\n",
            "  Created wheel for pycuda: filename=pycuda-2020.1-cp36-cp36m-linux_x86_64.whl size=621146 sha256=dd5780c2cb3806d0dee21ea78307dcea6802103b1073408c85f5e72ced1f49da\n",
            "  Stored in directory: /root/.cache/pip/wheels/8f/78/d1/5bb826f81d9d490297a348d818ff3ee6dd6f2075b06dde6ea0\n",
            "  Building wheel for pytools (setup.py) ... \u001b[?25l\u001b[?25hdone\n",
            "  Created wheel for pytools: filename=pytools-2020.4.3-py2.py3-none-any.whl size=61374 sha256=18a3c0bcea35d34914184dd9a1669dcd46fe72e70fd35b23998ac9643f73845e\n",
            "  Stored in directory: /root/.cache/pip/wheels/af/c7/81/a22edb90b0b09a880468b2253bb1df8e9f503337ee15432c64\n",
            "Successfully built pycuda pytools\n",
            "Installing collected packages: appdirs, pytools, mako, pycuda\n",
            "Successfully installed appdirs-1.4.4 mako-1.1.3 pycuda-2020.1 pytools-2020.4.3\n"
          ],
          "name": "stdout"
        }
      ]
    },
    {
      "cell_type": "markdown",
      "metadata": {
        "id": "N4pGZF-1R30M"
      },
      "source": [
        "#3. Desarrollo"
      ]
    },
    {
      "cell_type": "markdown",
      "metadata": {
        "id": "R80vJpK7R6vD"
      },
      "source": [
        "##3.1 Desarrollo en CPU"
      ]
    },
    {
      "cell_type": "markdown",
      "metadata": {
        "id": "vc2MkCeVAEIF"
      },
      "source": [
        "Ejecuta el algoritmo de forma secuencial en un mismo procesador."
      ]
    },
    {
      "cell_type": "code",
      "metadata": {
        "id": "_jzfSD6iYXQF",
        "colab": {
          "base_uri": "https://localhost:8080/"
        },
        "outputId": "880c239d-f801-47f2-df1a-6bf5e33ae993"
      },
      "source": [
        "# --------------------------------------------\n",
        "#@title 3.1 Parámetros de ejecución { vertical-output: true }\n",
        "\n",
        "orden_polinomio =  15#@param {type: \"number\"}\n",
        "orden_taylor = 4#@param {type: \"number\"}\n",
        "x0 =  3#@param {type: \"number\"}\n",
        "x = 4#@param {type: \"number\"}\n",
        "# --------------------------------------------\n",
        "\n",
        "import numpy\n",
        "import time\n",
        "import math\n",
        "import sys\n",
        "\n",
        "def factorial(x):\n",
        "  if x == 0 or x == 1:\n",
        "    return 1\n",
        "  factorial = 1\n",
        "  for i in range (1, x+1):\n",
        "    factorial = factorial * i\n",
        "  return factorial\n",
        "\n",
        "tiempoTotal = time.time() * 1000\n",
        "\n",
        "try:\n",
        "  coeficientes = numpy.random.randn(orden_polinomio + 1)\n",
        "  longitud_poli = len(coeficientes)\n",
        "  derivadas = numpy.arange(longitud_poli) \n",
        "except Exception as e:  \n",
        "  sys.exit(\"El orden del polinomio debe ser minimo 0\")\n",
        "else:\n",
        "  if longitud_poli == 0:\n",
        "    sys.exit(\"Error\")\n",
        "\n",
        "try:\n",
        "  polin_taylor = numpy.zeros(orden_taylor + 1 , dtype=float)\n",
        "  longitud_taylor = len(polin_taylor)\n",
        "except Exception as e:\n",
        "  sys.exit(\"El orden de taylor debe ser minimo a 0\")\n",
        "\n",
        "\n",
        "tiempoBucle = time.time() *1000\n",
        "\n",
        "#----------------------ALGORITMO----------------------------\n",
        "for idx_t in range(0, longitud_taylor):\n",
        "  valor = 0\n",
        "  aux = 0\n",
        "  \n",
        "  if idx_t == 0:\n",
        "    polin_taylor[idx_t] += coeficientes[idx_t]\n",
        "    idx_p = idx_t + 1\n",
        "    for idx in range(idx_p, longitud_poli):\n",
        "      polin_taylor[idx_t] += coeficientes[idx] * math.pow(x0, derivadas[idx])\n",
        "  \n",
        "  else:\n",
        "    if idx_t < longitud_poli - 1:\n",
        "      aux += coeficientes[idx_t]\n",
        "      idx_p = idx_t + 1\n",
        "      resta = math.pow(x - x0, idx_t)\n",
        "      f = factorial(idx_t)\n",
        "      for idx in range(idx_p, longitud_poli):\n",
        "        termino = coeficientes[idx] * derivadas[idx]\n",
        "        coeficientes[idx] = termino\n",
        "        derivadas[idx] = derivadas[idx] - 1\n",
        "        factor = math.pow(x0, derivadas[idx])\n",
        "        aux += termino * factor        \n",
        "        \n",
        "      polin_taylor[idx_t] = (aux * resta) / f        \n",
        "    else:\n",
        "      if idx_t >= longitud_poli: \n",
        "        \n",
        "        valor =  0\n",
        "        polin_taylor[idx_t] = valor\n",
        "        \n",
        "      else:\n",
        "        \n",
        "        valor =  coeficientes[idx_t]\n",
        "        resta = math.pow(x - x0, idx_t)\n",
        "        f = factorial(idx_t)\n",
        "        polin_taylor[idx_t] = (valor * resta)/ f\n",
        "#----------------------FINALIZACION----------------------------\n",
        "\n",
        "tiempoBucle = (time.time() *1000) - tiempoBucle\n",
        "tiempoTotal = (time.time() *1000) - tiempoTotal\n",
        "print(\"C:\", coeficientes)\n",
        "print(\"T:\", polin_taylor)\n",
        "print(\"--------------------------------------------------\")\n",
        "print(\"Tiempo del bucle: \" , tiempoBucle , \"[ms.]\")\n",
        "print(\"Tiempo del total: \" , tiempoTotal , \"[ms.]\")"
      ],
      "execution_count": 3,
      "outputs": [
        {
          "output_type": "stream",
          "text": [
            "C: [ 4.06434482e-01  1.48421268e+00  7.35177127e-01 -1.13414566e+01\n",
            "  2.65298837e+01 -1.80146626e+02 -5.14356216e+01  7.93148124e+02\n",
            " -1.45110214e+03  1.86281791e+03 -7.31891562e+02 -8.65805279e+03\n",
            " -5.56338571e+02  3.04782979e+03  4.03084063e+04  3.43711605e+04]\n",
            "T: [2.31438040e+07 1.13137441e+08 2.57859633e+08 3.63491049e+08\n",
            " 3.54422759e+08]\n",
            "--------------------------------------------------\n",
            "Tiempo del bucle:  0.45849609375 [ms.]\n",
            "Tiempo del total:  0.67431640625 [ms.]\n"
          ],
          "name": "stdout"
        }
      ]
    },
    {
      "cell_type": "markdown",
      "metadata": {
        "id": "Zbpxdt3MR_7j"
      },
      "source": [
        "##3.2 Desarrollo en GPU"
      ]
    },
    {
      "cell_type": "markdown",
      "metadata": {
        "id": "48Zd5c_SAKXU"
      },
      "source": [
        "Ejecuta el algoritmo en CPU - GPU"
      ]
    },
    {
      "cell_type": "code",
      "metadata": {
        "id": "-nVGDpecc-EG",
        "colab": {
          "base_uri": "https://localhost:8080/"
        },
        "outputId": "67267e45-bd31-4261-b524-5c1d90522641"
      },
      "source": [
        "# --------------------------------------------\n",
        "#@title 3.1 Parámetros de ejecución { vertical-output: true }\n",
        "\n",
        "orden_polinomio = 15#@param {type: \"number\"}\n",
        "orden_taylor = 4#@param {type: \"number\"}\n",
        "x0 = 3#@param {type: \"number\"}\n",
        "x = 4#@param {type: \"number\"}\n",
        "# --------------------------------------------\n",
        "\n",
        "import numpy\n",
        "import time\n",
        "import sys\n",
        "import pycuda.driver as cuda\n",
        "import pycuda.autoinit\n",
        "from pycuda.compiler import SourceModule\n",
        "\n",
        "tiempoTotal = (time.time() * 1000)\n",
        "\n",
        "# --------------------------------------------\n",
        "# CPU - Defino la memoria de los vectores en cpu.\n",
        "try:\n",
        "  coeficientes_cpu = numpy.random.randn(orden_polinomio + 1)\n",
        "  coeficientes_cpu = coeficientes_cpu.astype(numpy.float32())\n",
        "  long_pol = len(coeficientes_cpu)\n",
        "except Exception:\n",
        "  sys.exit(\"El orden del polinomio debe ser mayor a cero\")\n",
        "\n",
        "try:\n",
        "  taylor_cpu = numpy.zeros(orden_taylor + 1, dtype=float)\n",
        "  taylor_cpu = taylor_cpu.astype(numpy.float32())\n",
        "  long_tay = len(coeficientes_cpu)\n",
        "except Exception:\n",
        "  sys.exit(\"El orden de taylor debe ser mayor a cero\")\n",
        "\n",
        "try:   \n",
        "  resultado_cpu = numpy.empty_like(taylor_cpu)\n",
        "  # CPU - reservo la memoria GPU.\n",
        "  coeficientes_gpu = cuda.mem_alloc( coeficientes_cpu.nbytes )\n",
        "  taylor_gpu = cuda.mem_alloc( taylor_cpu.nbytes )\n",
        "  # GPU - Copio la memoria al GPU.\n",
        "  cuda.memcpy_htod( coeficientes_gpu, coeficientes_cpu )\n",
        "  cuda.memcpy_htod( taylor_gpu, taylor_cpu )\n",
        "except Exception:\n",
        "  sys.exit(\"Error en asignacion de memoria para gpu\")\n",
        "  \n",
        "# CPU - Defino la función kernel que ejecutará en GPU.\n",
        "module = SourceModule(\"\"\"\n",
        "__global__ void kernel_taylor(  int long_p,  int long_t,\n",
        "                                float x0, float x,\n",
        "                                float* C, float* T){\n",
        "  \n",
        "  int idx_t = threadIdx.x + blockIdx.x*blockDim.x;\n",
        "\n",
        "  int f = 1;\n",
        "  int i;\n",
        "  int idx;\n",
        "  float aux = 0;\n",
        "  float factor;\n",
        "  int idx_p;\n",
        "  float coef = 0;\n",
        "  float resta;\n",
        "\n",
        "  for(i = 1; i <= idx_t; i++){\n",
        "    f*= i;\n",
        "  }\n",
        "\n",
        "  if(idx_t == 0){\n",
        "    for(i = idx_t; i < long_p; i++){\n",
        "      T[idx_t] += C[i] * pow((double)x0, (double)i);\n",
        "    }\n",
        "  } else {\n",
        "    if(idx_t < long_p - 1){      \n",
        "      resta = pow((double)x-x0, (double) idx_t);\n",
        "      coef = C[idx_t];\n",
        "      for(i = 0; i < idx_t; i++){\n",
        "        coef *= i + 1;\n",
        "      }\n",
        "\n",
        "      idx_p = idx_t + 1;\n",
        "      aux = 0;\n",
        "      for(idx = idx_p; idx < long_p; idx++){\n",
        "         factor = C[idx];\n",
        "          for(i = 1; i < idx_t + 1; i++){\n",
        "            factor *= C[idx - i];\n",
        "          }\n",
        "          aux += factor * pow((double)x0, (double) idx - 1);\n",
        "      }\n",
        "\n",
        "      T[idx_t] = ((aux + coef) * resta) / f;\n",
        "\n",
        "    } else{\n",
        "\n",
        "      if(idx_t >= long_p){\n",
        "        T[idx_t] = 0;\n",
        "      }else{\n",
        "        coef = C[idx_t];\n",
        "        for(i = 0; i < idx_t; i++){\n",
        "          coef *= i + 1;\n",
        "        }\n",
        "        resta = pow((double)x-x0, (double) idx_t);\n",
        "        T[idx_t] = (coef * resta) / f;\n",
        "      }\n",
        "    }\n",
        "    \n",
        "  } \n",
        "}\n",
        "\"\"\")\n",
        "\n",
        "# CPU - Genero la función kernel.\n",
        "kernel = module.get_function(\"kernel_taylor\")\n",
        "\n",
        "tiempo_gpu = time.time()*1000\n",
        "\n",
        "# GPU - Ejecuta el kernel.\n",
        "# TODO: Falta consultar limites del GPU, para armar las dimensiones correctamente.\n",
        "dim_hilo = 256\n",
        "dim_bloque = numpy.int( (long_tay+dim_hilo-1) / dim_hilo )\n",
        "print( \"Thread x: \", dim_hilo, \", Bloque x:\", dim_bloque )\n",
        "\n",
        "#TODO: Ojo, con los tipos de las variables en el kernel.\n",
        "kernel( numpy.int32(long_pol), numpy.int32(long_tay),\n",
        "       numpy.float32(x0), numpy.float32(x),      \n",
        "       coeficientes_gpu, taylor_gpu,\n",
        "       block=( dim_hilo, 1, 1 ),grid=(dim_bloque, 1,1) )\n",
        "\n",
        "tiempo_gpu = time.time()*1000 - tiempo_gpu\n",
        "\n",
        "# GPU - Copio el resultado desde la memoria GPU.\n",
        "cuda.memcpy_dtoh( resultado_cpu, taylor_gpu)\n",
        "\n",
        "tiempoTotal = time.time() *1000 - tiempoTotal\n",
        "print(\"C:\", coeficientes_cpu)\n",
        "print(\"R:\", resultado_cpu)\n",
        "print(\"-----------------------------------------------\")\n",
        "print(\"Thread x: \", dim_hilo, \", Bloque x:\", dim_bloque )\n",
        "print(\"Tiempo CPU: \", tiempoTotal, \"[ms]\" )\n",
        "print(\"Tiempo GPU: \", tiempo_gpu, \"[ms]\" )"
      ],
      "execution_count": 5,
      "outputs": [
        {
          "output_type": "stream",
          "text": [
            "Thread x:  256 , Bloque x: 1\n",
            "C: [-0.40790623  1.1403223  -0.68535507  0.47231516  0.31057495 -1.8867298\n",
            "  2.1308913  -0.9161901  -0.62673205 -1.7126018   2.9066489  -0.7488676\n",
            "  1.8358611   0.26878127 -0.6732189   1.4250951 ]\n",
            "R: [18633028.   -5079245.5  -1193590.1   -239743.98   129069.24]\n",
            "-----------------------------------------------\n",
            "Thread x:  256 , Bloque x: 1\n",
            "Tiempo CPU:  3.098388671875 [ms]\n",
            "Tiempo GPU:  0.484619140625 [ms]\n"
          ],
          "name": "stdout"
        }
      ]
    },
    {
      "cell_type": "markdown",
      "metadata": {
        "id": "xf6agd3FclX1"
      },
      "source": [
        "#4. Tabla de pasos"
      ]
    },
    {
      "cell_type": "markdown",
      "metadata": {
        "id": "9tJpBnuoHziH"
      },
      "source": [
        "##4.1 Tabla de pasos CPU"
      ]
    },
    {
      "cell_type": "markdown",
      "metadata": {
        "id": "toAu6wlFMgpp"
      },
      "source": [
        "Tabla de ejecucion de forma secuencial\n",
        ">Procesador | Funcion | Detalle\n",
        ">--- | --- | ----\n",
        ">CPU\t|@param             |Lectura del tamaño del polimonio a evaluar y del polinomio de Taylor como a su vez de los valores de X0 y X\n",
        ">CPU\t|import             |Se importa los diferentes modulos a utilizar\n",
        ">CPU\t|tiempoTotal        |Se obtiene el tiempo actual para futuras mediciones\n",
        ">CPU\t|numpy.random.randn |Inicializacion de vector de Polinomio\n",
        ">CPU\t|numpy.arange\t      |Inicializacion de vector de Derivadas\n",
        ">CPU\t|numpy.zeros\t      |Inicializacion de vector de Taylor\n",
        ">CPU\t|tiempoBucle\t      |Se toma el tiempo inicial del algoritmo de Taylor\n",
        ">CPU\t|for…\t              |Realiza el algoritmo\n",
        ">CPU\t|tiempoBucle\t      |Toma el tiempo final del algoritmo de Taylor\n",
        ">CPU\t|tiempoTotal\t      |Toma el tiempo final del algoritmo de ejecucion\n",
        ">CPU\t|print()\t          |Se informan los datos\n",
        "\n",
        "\n"
      ]
    },
    {
      "cell_type": "markdown",
      "metadata": {
        "id": "agD9EQMTH3LW"
      },
      "source": [
        "##4.2 Tabla de pasos GPU"
      ]
    },
    {
      "cell_type": "markdown",
      "metadata": {
        "id": "XZkXaahYIbPv"
      },
      "source": [
        "Tabla de ejecucion en multiples hilos de ejecucion\n",
        ">Procesador | Funcion | Detalle\n",
        ">--- | --- |---\n",
        ">CPU\t|@param             |Lectura del tamaño del polimonio a evaluar y del polinomio de Taylor como a su vez de los valores de X0 y X\n",
        ">CPU\t|import             |Se importa los diferentes modulos a utilizar\n",
        ">CPU\t|tiempoTotal        |Se obtiene el tiempo actual para futuras mediciones\n",
        ">CPU\t|numpy.random.randn |Inicializacion de vector de Polinomio\n",
        ">CPU\t|numpy.zeros\t    |Inicializacion de vector de Taylor\n",
        ">CPU\t|numpy.empty_like   |Copia del vector de terminos de Taylor\n",
        ">**GPU**\t|cuda.mem.alloc\t    |Reserva de memoria de GPU\n",
        ">**GPU**\t|cuda.memcpy_htod\t|Copia de memoria de CPU a GPU\n",
        ">CPU\t|SourceModule\t    |Definicion de codigo de kernel\n",
        ">CPU\t|module.get_function|Generacion de funcion del Kernel de GPU\n",
        ">CPU\t|(long_tay+dim_hilo-1) / dim_hilo|Calculo de dimensiones\n",
        ">CPU\t|tiempo_gpu\t    |Toma el tiempo inicial del algoritmo de Taylor\n",
        ">**GPU**\t|kernel()\t        |Ejecucion del Kernel\n",
        ">CPU\t|tiempo_gpu\t    |Toma el tiempo final del algoritmo de Taylor\n",
        ">CPU\t|cuda.memcpy_dtod\t|Copia el resultado de T a R\n",
        ">CPU\t|tiempoTotal\t    |Toma el tiempo final del algoritmo de ejecucion\n",
        ">CPU\t|print()\t        |Se informan los datos"
      ]
    },
    {
      "cell_type": "markdown",
      "metadata": {
        "id": "9xDsWySJcoyO"
      },
      "source": [
        "#5. Conclusiones"
      ]
    },
    {
      "cell_type": "markdown",
      "metadata": {
        "id": "PsNotQ-c74lF"
      },
      "source": [
        "El algoritmo secuencial en el peor de los casos posee una complejidad O(N^2) el cual perdera performance a medida que se aumente la cantidad de calculos necesarios para resolver la seri. En cambio con la implementacion de cuda se reduce la complejidad a N encontrando una mejor performance con una gran cantidad de terminos"
      ]
    },
    {
      "cell_type": "markdown",
      "metadata": {
        "id": "hJO2O81lzSKm"
      },
      "source": [
        "#6. Bibliografía"
      ]
    },
    {
      "cell_type": "markdown",
      "metadata": {
        "id": "nhdFr0fuzWdN"
      },
      "source": [
        "[1]. Polinomios de Taylor [Taylor](https://fisicaymates.com/polinomios-de-taylor/)"
      ]
    }
  ]
}