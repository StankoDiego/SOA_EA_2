{
  "nbformat": 4,
  "nbformat_minor": 0,
  "metadata": {
    "colab": {
      "name": "Stanko_Diego_ejercicio2.ipynb",
      "provenance": [],
      "include_colab_link": true
    },
    "kernelspec": {
      "name": "python3",
      "display_name": "Python 3"
    },
    "accelerator": "GPU"
  },
  "cells": [
    {
      "cell_type": "markdown",
      "metadata": {
        "id": "view-in-github",
        "colab_type": "text"
      },
      "source": [
        "<a href=\"https://colab.research.google.com/github/StankoDiego/SOA_EA_2/blob/main/HPC/Stanko_Diego_ejercicio2.ipynb\" target=\"_parent\"><img src=\"https://colab.research.google.com/assets/colab-badge.svg\" alt=\"Open In Colab\"/></a>"
      ]
    },
    {
      "cell_type": "markdown",
      "metadata": {
        "id": "w7j9ao2B9c4E"
      },
      "source": [
        "#1. Introducción"
      ]
    },
    {
      "cell_type": "markdown",
      "metadata": {
        "id": "Y_LN6fDhz3BQ"
      },
      "source": [
        "Se va a implementar un algoritmo para resolver la suma de matrices de dimension N*N. \n",
        "\n",
        "Se implementaran dos algoritmos, uno ejecuta y resuelve el calculo de manera secuencial sobre el mismo procesador y el segundo implementa la suma de los terminos de la matriz de forma paralela utilizando GPU. Para esto se implementan hilos en dos dimensiones, a partir de un calulo en el kernel podemos acceder a cada elemento de la matriz para poder realizar la operacion.\n"
      ]
    },
    {
      "cell_type": "markdown",
      "metadata": {
        "id": "r05bRE1N0mW2"
      },
      "source": [
        "#1.1 Explicación del algoritmo"
      ]
    },
    {
      "cell_type": "markdown",
      "metadata": {
        "id": "8fWAC6IA1EpI"
      },
      "source": [
        "La suma de matrices[1] es una operación lineal que consiste en unificar los elementos de dos o más matrices que coincidan en posición dentro de sus respectivas matrices y que estas tengan el mismo orden.\n",
        "\n",
        "En otras palabras, el sumatorio de una o más matrices es la unión de los elementos que tengan la misma posición dentro de las matrices y que estas tengan el mismo orden.\n",
        "\n",
        "![](https://drive.google.com/uc?export=view&id=16M9RJRRsQELQqiC15qRqNC_bdQBfMc1_)\n",
        "\n",
        "Para sumar dos matrices se debe verificar que el orden de estas sean iguales."
      ]
    },
    {
      "cell_type": "markdown",
      "metadata": {
        "id": "lmnpRzgg9kTb"
      },
      "source": [
        "#2. Armado del ambiente"
      ]
    },
    {
      "cell_type": "markdown",
      "metadata": {
        "id": "c4z5eBuU9pRy"
      },
      "source": [
        "##2.1 Armado del ambiente en CPU"
      ]
    },
    {
      "cell_type": "markdown",
      "metadata": {
        "id": "3dDFvvnVFEQI"
      },
      "source": [
        "No se requiere la ejecucion previa de algun comando"
      ]
    },
    {
      "cell_type": "markdown",
      "metadata": {
        "id": "pCdvhcwu9vXy"
      },
      "source": [
        "##2.1 Armado del ambiente en GPU"
      ]
    },
    {
      "cell_type": "markdown",
      "metadata": {
        "id": "3SUH5e0UsqT-"
      },
      "source": [
        "1. Ir a Entornto de ejecucion -> Cambiar tipo de entorno de ejecucion y seleccionar la opcion GPU.\n",
        "2. Se requiere la instalación del modulo de Cuda para Python."
      ]
    },
    {
      "cell_type": "code",
      "metadata": {
        "id": "JspUFpTXjjFC",
        "outputId": "11738feb-fb84-49dd-b403-687c4af26962",
        "colab": {
          "base_uri": "https://localhost:8080/"
        }
      },
      "source": [
        "!pip install pycuda"
      ],
      "execution_count": 1,
      "outputs": [
        {
          "output_type": "stream",
          "text": [
            "Collecting pycuda\n",
            "\u001b[?25l  Downloading https://files.pythonhosted.org/packages/46/61/47d3235a4c13eec5a5f03594ddb268f4858734e02980afbcd806e6242fa5/pycuda-2020.1.tar.gz (1.6MB)\n",
            "\u001b[K     |████████████████████████████████| 1.6MB 8.9MB/s \n",
            "\u001b[?25hCollecting pytools>=2011.2\n",
            "\u001b[?25l  Downloading https://files.pythonhosted.org/packages/b7/30/c9362a282ef89106768cba9d884f4b2e4f5dc6881d0c19b478d2a710b82b/pytools-2020.4.3.tar.gz (62kB)\n",
            "\u001b[K     |████████████████████████████████| 71kB 11.7MB/s \n",
            "\u001b[?25hRequirement already satisfied: decorator>=3.2.0 in /usr/local/lib/python3.6/dist-packages (from pycuda) (4.4.2)\n",
            "Collecting appdirs>=1.4.0\n",
            "  Downloading https://files.pythonhosted.org/packages/3b/00/2344469e2084fb287c2e0b57b72910309874c3245463acd6cf5e3db69324/appdirs-1.4.4-py2.py3-none-any.whl\n",
            "Collecting mako\n",
            "\u001b[?25l  Downloading https://files.pythonhosted.org/packages/a6/37/0e706200d22172eb8fa17d68a7ae22dec7631a0a92266634fb518a88a5b2/Mako-1.1.3-py2.py3-none-any.whl (75kB)\n",
            "\u001b[K     |████████████████████████████████| 81kB 12.1MB/s \n",
            "\u001b[?25hRequirement already satisfied: six>=1.8.0 in /usr/local/lib/python3.6/dist-packages (from pytools>=2011.2->pycuda) (1.15.0)\n",
            "Requirement already satisfied: numpy>=1.6.0 in /usr/local/lib/python3.6/dist-packages (from pytools>=2011.2->pycuda) (1.18.5)\n",
            "Requirement already satisfied: dataclasses>=0.7 in /usr/local/lib/python3.6/dist-packages (from pytools>=2011.2->pycuda) (0.8)\n",
            "Requirement already satisfied: MarkupSafe>=0.9.2 in /usr/local/lib/python3.6/dist-packages (from mako->pycuda) (1.1.1)\n",
            "Building wheels for collected packages: pycuda, pytools\n",
            "  Building wheel for pycuda (setup.py) ... \u001b[?25l\u001b[?25hdone\n",
            "  Created wheel for pycuda: filename=pycuda-2020.1-cp36-cp36m-linux_x86_64.whl size=621146 sha256=321fc1a8c56f80983a5baae3516366e6d6af350a069312ce981e695cc244a068\n",
            "  Stored in directory: /root/.cache/pip/wheels/8f/78/d1/5bb826f81d9d490297a348d818ff3ee6dd6f2075b06dde6ea0\n",
            "  Building wheel for pytools (setup.py) ... \u001b[?25l\u001b[?25hdone\n",
            "  Created wheel for pytools: filename=pytools-2020.4.3-py2.py3-none-any.whl size=61374 sha256=c1a63b1052883256446a1e081180cb8df15239e6af4fd43a2468225260694dda\n",
            "  Stored in directory: /root/.cache/pip/wheels/af/c7/81/a22edb90b0b09a880468b2253bb1df8e9f503337ee15432c64\n",
            "Successfully built pycuda pytools\n",
            "Installing collected packages: appdirs, pytools, mako, pycuda\n",
            "Successfully installed appdirs-1.4.4 mako-1.1.3 pycuda-2020.1 pytools-2020.4.3\n"
          ],
          "name": "stdout"
        }
      ]
    },
    {
      "cell_type": "markdown",
      "metadata": {
        "id": "gUCDxn8-9ywT"
      },
      "source": [
        "#3. Desarrollo"
      ]
    },
    {
      "cell_type": "markdown",
      "metadata": {
        "id": "aDJ5YrXp91Jy"
      },
      "source": [
        "##3.1 Desarrollo en CPU"
      ]
    },
    {
      "cell_type": "code",
      "metadata": {
        "id": "OnWXJbo6BePp",
        "colab": {
          "base_uri": "https://localhost:8080/"
        },
        "outputId": "2ed0dc4f-113e-4bb9-888c-f28af63ddd52"
      },
      "source": [
        "# --------------------------------------------\n",
        "#@title 3.1 Parámetros de ejecución { vertical-output: true }\n",
        "tamMatriz =  17#@param {type: \"number\"}\n",
        "# --------------------------------------------\n",
        "\n",
        "import numpy\n",
        "import time\n",
        "import sys\n",
        "\n",
        "tiempoTotal = time.time() * 1000\n",
        "try: \n",
        "  matriz_A = numpy.random.randint(5000, size=(tamMatriz, tamMatriz))\n",
        "  matriz_A = matriz_A.astype(numpy.int32())\n",
        "  matriz_B = numpy.random.randint(5000, size=(tamMatriz, tamMatriz))\n",
        "  matriz_B = matriz_B.astype(numpy.int32())\n",
        "except Exception:\n",
        "  sys.exit(\"El tamaño no puede ser negativo\")\n",
        "\n",
        "print(\"---------------------------------------------------\")\n",
        "print(\"Matriz A:\\n\",matriz_A)\n",
        "print(\"---------------------------------------------------\")\n",
        "print(\"Matriz B:\\n\",matriz_B)\n",
        "print(\"---------------------------------------------------\")\n",
        "\n",
        "tiempoBucle = time.time() * 1000\n",
        "matriz_R = numpy.zeros((tamMatriz, tamMatriz))  \n",
        "matriz_R = matriz_R.astype(numpy.int32())\n",
        "\n",
        "for i in range (0, tamMatriz):\n",
        "  for j in range(0, tamMatriz):\n",
        "    matriz_R[i][j] = matriz_A[i][j] + matriz_B[i][j]\n",
        "\n",
        "print(\"Matriz R:\\n\",matriz_R)\n",
        "print(\"---------------------------------------------------\")\n",
        "\n",
        "tiempoTotal = (time.time() * 1000) - tiempoTotal\n",
        "tiempoBucle = (time.time() * 1000) - tiempoBucle\n",
        "print(\"--------------------------------------------------\")\n",
        "print(\"Tiempo del bucle: \" , tiempoBucle , \"[ms.]\")\n",
        "print(\"Tiempo del total: \" , tiempoTotal , \"[ms.]\")"
      ],
      "execution_count": 4,
      "outputs": [
        {
          "output_type": "stream",
          "text": [
            "---------------------------------------------------\n",
            "Matriz A:\n",
            " [[3798 2411 3083 1683 3484 2709  762 3261 1082 4599 3985 1842 3087 2896\n",
            "  3666 2448 2123]\n",
            " [2641 1479 3870 2053    8 3159  609  446 1596 4852 2166 4633 4410 4614\n",
            "  2513 1623  111]\n",
            " [3286 3732 2079  818 4457 1922 4692 4011  882 1963 3285 4452 3897 1870\n",
            "  3709 3833 1713]\n",
            " [3074 4141 3043 1300 4277  143 3623 2324 3774 2651 3472 1567 3897 2967\n",
            "  2922 3394 1122]\n",
            " [2554 4850 2757  774 4643  773 3013 3547 4928 4354   15  207 2456 2534\n",
            "  2805  777 2147]\n",
            " [4855 3814 2122 2354  308 2270 3476 2204  516 4463 3206 1080  780 2825\n",
            "  2517 2576 1225]\n",
            " [1324 3214 2031  502 2822 2291 1664 1276 2988 4218 4572 2345 3101 3657\n",
            "   409  768 2733]\n",
            " [4767 2714 3754 4929 2684 4797 2324 4543 1071 3055 4574  952  625 2637\n",
            "  4581 3150 2336]\n",
            " [2165 2203 4760 1338 1408 3190 2952   69   14 2420 1326 2220 1188  741\n",
            "  3913 1029 4958]\n",
            " [4946 2619 1455 2911 4191 1904 2145 3317 3726 3596 1985 1991 4698 3540\n",
            "  2593 4017 1041]\n",
            " [ 900 1003 2915  622  787 4764  346 4356    4 2087 4689 1249 2372 3836\n",
            "  1463 3549 3487]\n",
            " [4494 2861  467 2579 1355 1531  649 1147 2520 4328 4523 1833 2037 2682\n",
            "  3162 2129 2291]\n",
            " [2618 2287 4897  879   72 2608  850 2229 1123  252 4663 4356 4314  996\n",
            "  1942 2604 1130]\n",
            " [4688 1109 2095 3062  146 3799  964 1001 1531 1422 1553  261 3899 4943\n",
            "  1382 2574 3626]\n",
            " [ 293 3378 4680 4570 1099 1341 2616 3692  224 2063 1415 2600 1164 3822\n",
            "  1266 4873  201]\n",
            " [3860 1959  922 1460 3297 3545 1705 3274 4071  745 2382  963  771 2794\n",
            "  1186  120 2590]\n",
            " [3075 4358 2596 1095  928 2656 4916 4588 4791 4439 4058 1788 2553  321\n",
            "  4871 1151 3053]]\n",
            "---------------------------------------------------\n",
            "Matriz B:\n",
            " [[2785  554 3490 4695  434 3332  847 2568   64  695 3483 4091 4762  529\n",
            "  3405 3574 1167]\n",
            " [3251  503 2376 3317 2166 1151 4276  902 1199 3000 2615  334  464 1647\n",
            "  4878 3912 4772]\n",
            " [3994 2007 1603  627 4426 4575 3192 1653 1800 1802  566 2201  781 3191\n",
            "   678 2737 1566]\n",
            " [4631 4762  900  808 1413 2665 2196 2429 1260 2552 2752 4858 4373 3514\n",
            "   424 3422 1018]\n",
            " [1602 4409 3645 4410 2840  469 4132 4633 4465 1201 2179 3683 2610 2401\n",
            "   602 4895 4484]\n",
            " [4499 4831 3243  150 1933 4158 2434  526  584 2954 1843 4021 2559 4885\n",
            "  2612  572 3200]\n",
            " [2678 1690 2733  530 2804 1071 4381 1772 1668 1130 2564 2517 1864 2912\n",
            "  1124 2828 2254]\n",
            " [1682  136  556 3365 3375 2538 4513 3108 1297 4146 2917 3039  706 4916\n",
            "  4151 2307  721]\n",
            " [1216 2215 4006 1739 2802 1683 2266 1085 1437 1370  178 4586 4865 4652\n",
            "  1902 3883   86]\n",
            " [ 255  301 4907  258  317 3393 3090   40  578  659 3507 4007 4704 3838\n",
            "   116 2075 2123]\n",
            " [2654 1270 4438 4342  563 3897 1463 2828 4010 2229  952 1014 1210   39\n",
            "  3089 1866 2058]\n",
            " [1305 2617 1769 4763 4515 2929 1359 1784 1768  606  339 1950 4493  186\n",
            "  1020 2917  953]\n",
            " [2507 4030 3361  934 3134 3271 3309 4888 3348 4230 2897 1941 3275 4277\n",
            "  1234 4866  695]\n",
            " [3823 2808 3273 3865  754  294 2190 4487 1718 1341 2545 1735 4897 3971\n",
            "  3624  621 1472]\n",
            " [ 126 1300 3558 3086  928 2093 2780 1658 4599 2294 2936 1827 1539 4500\n",
            "  4175 2014  930]\n",
            " [4241 3958 1357 1606 1166 1853 1219 3629 3560 2206 2850 3969 1574 4356\n",
            "   891 3326 4986]\n",
            " [1013 3682  566 4412 1952 2905 3434 1152  626 3831  182 2203 4175 2097\n",
            "  1307  110 3738]]\n",
            "---------------------------------------------------\n",
            "Matriz R:\n",
            " [[6583 2965 6573 6378 3918 6041 1609 5829 1146 5294 7468 5933 7849 3425\n",
            "  7071 6022 3290]\n",
            " [5892 1982 6246 5370 2174 4310 4885 1348 2795 7852 4781 4967 4874 6261\n",
            "  7391 5535 4883]\n",
            " [7280 5739 3682 1445 8883 6497 7884 5664 2682 3765 3851 6653 4678 5061\n",
            "  4387 6570 3279]\n",
            " [7705 8903 3943 2108 5690 2808 5819 4753 5034 5203 6224 6425 8270 6481\n",
            "  3346 6816 2140]\n",
            " [4156 9259 6402 5184 7483 1242 7145 8180 9393 5555 2194 3890 5066 4935\n",
            "  3407 5672 6631]\n",
            " [9354 8645 5365 2504 2241 6428 5910 2730 1100 7417 5049 5101 3339 7710\n",
            "  5129 3148 4425]\n",
            " [4002 4904 4764 1032 5626 3362 6045 3048 4656 5348 7136 4862 4965 6569\n",
            "  1533 3596 4987]\n",
            " [6449 2850 4310 8294 6059 7335 6837 7651 2368 7201 7491 3991 1331 7553\n",
            "  8732 5457 3057]\n",
            " [3381 4418 8766 3077 4210 4873 5218 1154 1451 3790 1504 6806 6053 5393\n",
            "  5815 4912 5044]\n",
            " [5201 2920 6362 3169 4508 5297 5235 3357 4304 4255 5492 5998 9402 7378\n",
            "  2709 6092 3164]\n",
            " [3554 2273 7353 4964 1350 8661 1809 7184 4014 4316 5641 2263 3582 3875\n",
            "  4552 5415 5545]\n",
            " [5799 5478 2236 7342 5870 4460 2008 2931 4288 4934 4862 3783 6530 2868\n",
            "  4182 5046 3244]\n",
            " [5125 6317 8258 1813 3206 5879 4159 7117 4471 4482 7560 6297 7589 5273\n",
            "  3176 7470 1825]\n",
            " [8511 3917 5368 6927  900 4093 3154 5488 3249 2763 4098 1996 8796 8914\n",
            "  5006 3195 5098]\n",
            " [ 419 4678 8238 7656 2027 3434 5396 5350 4823 4357 4351 4427 2703 8322\n",
            "  5441 6887 1131]\n",
            " [8101 5917 2279 3066 4463 5398 2924 6903 7631 2951 5232 4932 2345 7150\n",
            "  2077 3446 7576]\n",
            " [4088 8040 3162 5507 2880 5561 8350 5740 5417 8270 4240 3991 6728 2418\n",
            "  6178 1261 6791]]\n",
            "---------------------------------------------------\n",
            "--------------------------------------------------\n",
            "Tiempo del bucle:  1.68505859375 [ms.]\n",
            "Tiempo del total:  7.50927734375 [ms.]\n"
          ],
          "name": "stdout"
        }
      ]
    },
    {
      "cell_type": "markdown",
      "metadata": {
        "id": "qvdUxO9d93Xa"
      },
      "source": [
        "##3.2 Desarrollo en GPU"
      ]
    },
    {
      "cell_type": "code",
      "metadata": {
        "id": "brL5K2Qjjpoo",
        "colab": {
          "base_uri": "https://localhost:8080/"
        },
        "outputId": "805d597f-3c2e-4685-85c2-55a2eb11ae60"
      },
      "source": [
        "# --------------------------------------------\n",
        "#@title 3.1 Parámetros de ejecución { vertical-output: true }\n",
        "tamMatriz =  17#@param {type: \"number\"}\n",
        "# --------------------------------------------\n",
        "\n",
        "import time\n",
        "\n",
        "import numpy\n",
        "import sys\n",
        "import pycuda.driver as cuda\n",
        "import pycuda.autoinit\n",
        "from pycuda.compiler import SourceModule\n",
        "\n",
        "tiempoTotal = (time.time()*1000)\n",
        "\n",
        "try: \n",
        "  matriz_A_cpu = numpy.random.randint(5000, size=(tamMatriz, tamMatriz))\n",
        "  matriz_A_cpu = matriz_A_cpu.astype(numpy.int32())\n",
        "  matriz_B_cpu = numpy.random.randint(5000, size=(tamMatriz, tamMatriz))\n",
        "  matriz_B_cpu = matriz_B_cpu.astype(numpy.int32())\n",
        "except Exception:\n",
        "  sys.exit(\"El tamaño de la matriz no puede ser negativo\")\n",
        "\n",
        "try:  \n",
        "  matriz_R_cpu = numpy.zeros((tamMatriz, tamMatriz)) \n",
        "  matriz_R_cpu = matriz_R_cpu.astype(numpy.int32()) \n",
        "  matriz_A_gpu = cuda.mem_alloc(matriz_A_cpu.nbytes)\n",
        "  matriz_B_gpu = cuda.mem_alloc(matriz_B_cpu.nbytes)\n",
        "  matriz_R_gpu = cuda.mem_alloc(matriz_R_cpu.nbytes)\n",
        "  cuda.memcpy_htod(matriz_A_gpu, matriz_A_cpu)\n",
        "  cuda.memcpy_htod(matriz_B_gpu, matriz_B_cpu)\n",
        "  cuda.memcpy_htod(matriz_R_gpu, matriz_R_cpu)\n",
        "except Exception:\n",
        "  sys.exit(\"Error de asignacion de memoria para gpu\")\n",
        "\n",
        "print(\"---------------------------------------------------\")\n",
        "print(\"Matriz A:\\n\",matriz_A_cpu)\n",
        "print(\"---------------------------------------------------\")\n",
        "print(\"Matriz B:\\n\",matriz_B_cpu)\n",
        "print(\"---------------------------------------------------\")\n",
        "\n",
        "module = SourceModule(\"\"\"\n",
        "__global__ void matrixMultiplicationKernel(float* A, float* B, float* R,\n",
        "                                           int N\n",
        "                                           ) {\n",
        "\n",
        "    int x = blockIdx.y*blockDim.y+threadIdx.y;\n",
        "    int y = blockIdx.x*blockDim.x+threadIdx.x;\n",
        "\n",
        "    if(y < N){\n",
        "      R[x+ y*N] = A[x+ y*N]  +  B[x+ y*N];\n",
        "    }\n",
        "}\n",
        "\"\"\")\n",
        "kernel = module.get_function(\"matrixMultiplicationKernel\")\n",
        "\n",
        "dim_hilo_x = 16\n",
        "dim_bloque_x = numpy.int( (tamMatriz + dim_hilo_x-1) / dim_hilo_x )\n",
        "\n",
        "dim_hilo_y = 16\n",
        "dim_bloque_y = numpy.int( (tamMatriz + dim_hilo_y-1) / dim_hilo_y )\n",
        "\n",
        "print( \"Thread: [\", dim_hilo_x, \",\", dim_hilo_y, \" ], Bloque : [\", dim_bloque_x, \",\", dim_bloque_y, \"]\" )\n",
        "print( \"Total de Thread: [\", dim_hilo_x*dim_bloque_x, \",\", dim_hilo_y*dim_bloque_y, \" ]\", \" = \", dim_hilo_x*dim_bloque_x*dim_hilo_y*dim_bloque_y )\n",
        "\n",
        "tiempo_kernel = time.time() * 1000\n",
        "\n",
        "kernel(matriz_A_gpu, matriz_B_gpu, matriz_R_gpu,\n",
        "       numpy.int32(tamMatriz),        \n",
        "       block=( dim_hilo_x, dim_hilo_y, 1), \n",
        "       grid=(dim_bloque_x, dim_bloque_y,1)\n",
        "       )\n",
        "\n",
        "tiempo_kernel = (time.time() *1000) - tiempo_kernel\n",
        "\n",
        "cuda.memcpy_dtoh(matriz_R_cpu, matriz_R_gpu)\n",
        "tiempoTotal = (time.time() * 1000) - tiempoTotal\n",
        "print(\"---------------------------------------------------\")\n",
        "print(\"Matriz resultado:\\n\",matriz_R_cpu)\n",
        "print(\"---------------------------------------------------\")\n",
        "print(\"Tiempo TOTAL: \", tiempoTotal, \"[ms]\" )\n",
        "print(\"Tiempo GPU  : \", tiempo_kernel, \"[ms]\" )"
      ],
      "execution_count": 5,
      "outputs": [
        {
          "output_type": "stream",
          "text": [
            "---------------------------------------------------\n",
            "Matriz A:\n",
            " [[2559 4484 3477 4563 4488 2212  891 4625 3978 4475 4407 4662 4024 1394\n",
            "  3138  306 3014]\n",
            " [3318 3786 3883 3757 2097 1190  791 1270 2106 4506  522 1074 4052 1675\n",
            "  1551 4272 4509]\n",
            " [1163 2937  867 3913 2482 3457 4545 4467 3125 3278 1188 1762  912  120\n",
            "  3411 4678 1340]\n",
            " [4729 2398 3860 4828 3657  287 2098 2911  194 1090  790 4539 3395 2737\n",
            "  4060 1412 4465]\n",
            " [4730 3557 2498   86 4785 3570  410 2223 2627 1329 1697 3096  177  374\n",
            "  3069 1958 2710]\n",
            " [2306 2302 4342 4113  393 2964 4116 1272 2056 3713 1529  660 2360  843\n",
            "   408  282 1934]\n",
            " [ 783 4283 3637 4071 4622 4285 3169 2401  895 3857 3844  174 2630 1373\n",
            "  4225  699 1222]\n",
            " [ 890  169 1998 2775 1645 4777 1675 1837 1852 3410 2293 2103 1984 3998\n",
            "  3017  830 2748]\n",
            " [3049  873 3657 3786 2154 1471 4201 2825 3431   96  582 3480  846 2191\n",
            "  3218 3120 4660]\n",
            " [ 837 1078 3529 2179 1810 2449 1747 2546 3092 1618 4948 2109  197 3996\n",
            "  4915  119  755]\n",
            " [ 726 1219 3932 1164 2737 2269 4339 1704 4271   51  171 2392 1827 2801\n",
            "   154 4798 4377]\n",
            " [4161 4204 2228 4398 1295 4396 2697 2913 4862 1589  308 2547 4363 4255\n",
            "  4280 3308  175]\n",
            " [3345 3015 1821 1453 2779 3810 2796 1764 1276 3831 4299 1528 4230 1202\n",
            "  3660  993 4711]\n",
            " [ 627  387 1489 2684  159 4779  217 1823 3987  633 2751 4751 2382  166\n",
            "  1685 2407 1472]\n",
            " [2017 3163 1564 2133 1330 3244 2717 3140 1272 3448 4084 3719 3263  256\n",
            "  2711 1974 4781]\n",
            " [2147 4082  619  795 2127 1241  719 1876 1583 3015 3282 2935 4952 1472\n",
            "  3978  540 3066]\n",
            " [2054 1204 2760 1765  899 3746 1716 4099 3183 4943 2537 4345 2396 2406\n",
            "   489 2881 3674]]\n",
            "---------------------------------------------------\n",
            "Matriz B:\n",
            " [[4278  947 1444 3324 4470 4998 1962 1389 3650  241  394 3906 3179  498\n",
            "  2200 1776 2387]\n",
            " [3529 1295 2664 3372 4390 2868 4075  877 3659 4809  633  446 3791    0\n",
            "  2469 4920  967]\n",
            " [4441 2589 1781 3955 3207 4455 2025 1015 1269 4228 1532 4257 1933 4226\n",
            "  1997 1170 3763]\n",
            " [ 466 3313  253 4600 2696  957 4081 1193 1476 2421 4363 2987 2346 2416\n",
            "  4186 1374  541]\n",
            " [2251 2456 4702 4752 3346 1562 3511 1449 3989 3856  581 3407 2805 3316\n",
            "   353 3041  598]\n",
            " [1678   50 4945 2301 3615  828 3686 3579 2571 2339 1675  168  357 1506\n",
            "  4016 4109 1918]\n",
            " [4992 4092 3431 1258 4027  958  979 2069 3943 1988 2730 1888 1012 2387\n",
            "  2511  563 2986]\n",
            " [3810 3205  281 4719 1358 2985 1290 4211 2480 2497  858 2976 4074 3890\n",
            "  1841  307 2382]\n",
            " [1641 4361 3295 4090 1043 1193 2755 4068  849 1364 1966 4857 4613 2352\n",
            "  3126  707 2243]\n",
            " [4327 1080 1290 1403  904 2758 2300  566 4629 4138 3280 4809 4796 2767\n",
            "  4255 3030 3556]\n",
            " [2318 4884 3907 4887 3381 4373 1353 3232 1636 2520 4307 1205 3618 4177\n",
            "   526 4231 4094]\n",
            " [ 552 1720 1234 2130 1486 1982 1173  427 3253 4575  590 2884 1958 3216\n",
            "   943 3970 3752]\n",
            " [3340    5 2530 2501 3979 2324 3622  388 1880  774 3934 4586 3278 2265\n",
            "  4147 2058  935]\n",
            " [4588 1731 3319 3874  275 4902  784 4903 3875 2824 4512 3145 4314 3464\n",
            "  3277 4715 2780]\n",
            " [4811  575 1792 4515 4094  102 3837 4955 4273 1740 2904 2810 1809 2853\n",
            "  2812 2718 4990]\n",
            " [4485 3227 1221 4718 4623 3318 2851 3422 1827 2764 4015 4809 3131 2056\n",
            "   144 1366 4035]\n",
            " [4820 4860  364 2709 4310 2663 2846  831  107 3700 4223 4692 2478 4438\n",
            "  1160  358 4046]]\n",
            "---------------------------------------------------\n",
            "Thread: [ 16 , 16  ], Bloque : [ 2 , 2 ]\n",
            "Total de Thread: [ 32 , 32  ]  =  1024\n",
            "---------------------------------------------------\n",
            "Matriz resultado:\n",
            " [[6837 5431 4921 7887 8958 7210 2853 6014 7628 4716 4801 8568 7203 1892\n",
            "  5338 2082 5401]\n",
            " [6847 5081 6547 7129 6487 4058 4866 2147 5765 9315 1155 1520 7843 1675\n",
            "  4020 9192 5476]\n",
            " [5604 5526 2648 7868 5689 7912 6570 5482 4394 7506 2720 6019 2845 4346\n",
            "  5408 5848 5103]\n",
            " [5195 5711 4113 9428 6353 1244 6179 4104 1670 3511 5153 7526 5741 5153\n",
            "  8246 2786 5006]\n",
            " [6981 6013 7200 4838 8131 5132 3921 3672 6616 5185 2278 6503 2982 3690\n",
            "  3422 4999 3308]\n",
            " [3984 2352 9287 6414 4008 3792 7802 4851 4627 6052 3204  828 2717 2349\n",
            "  4424 4391 3852]\n",
            " [5775 8375 7068 5329 8649 5243 4148 4470 4838 5845 6574 2062 3642 3760\n",
            "  6736 1262 4208]\n",
            " [4700 3374 2279 7494 3003 7762 2965 6048 4332 5907 3151 5079 6058 7888\n",
            "  4858 1137 5130]\n",
            " [4690 5234 6952 7876 3197 2664 6956 6893 4280 1460 2548 8337 5459 4543\n",
            "  6344 3827 6903]\n",
            " [5164 2158 4819 3582 2714 5207 4047 3112 7721 5756 8228 6918 4993 6763\n",
            "  9170 3149 4311]\n",
            " [3044 6103 7839 6051 6118 6642 5692 4936 5907 2571 4478 3597 5445 6978\n",
            "   680 9029 8471]\n",
            " [4713 5924 3462 6528 2781 6378 3870 3340 8115 6164  898 5431 6321 7471\n",
            "  5223 7278 3927]\n",
            " [6685 3020 4351 3954 6758 6134 6418 2152 3156 4605 8233 6114 7508 3467\n",
            "  7807 3051 5646]\n",
            " [5215 2118 4808 6558  434 9681 1001 6726 7862 3457 7263 7896 6696 3630\n",
            "  4962 7122 4252]\n",
            " [6828 3738 3356 6648 5424 3346 6554 8095 5545 5188 6988 6529 5072 3109\n",
            "  5523 4692 9771]\n",
            " [6632 7309 1840 5513 6750 4559 3570 5298 3410 5779 7297 7744 8083 3528\n",
            "  4122 1906 7101]\n",
            " [6874 6064 3124 4474 5209 6409 4562 4930 3290 8643 6760 9037 4874 6844\n",
            "  1649 3239 7720]]\n",
            "---------------------------------------------------\n",
            "Tiempo TOTAL:  940.337646484375 [ms]\n",
            "Tiempo GPU  :  1.635498046875 [ms]\n"
          ],
          "name": "stdout"
        }
      ]
    },
    {
      "cell_type": "markdown",
      "metadata": {
        "id": "ftAKsvjH953S"
      },
      "source": [
        "#4. Tabla de pasos"
      ]
    },
    {
      "cell_type": "markdown",
      "metadata": {
        "id": "Ncs8MsOX9_yz"
      },
      "source": [
        "##4.1 Tabla de pasos CPU"
      ]
    },
    {
      "cell_type": "markdown",
      "metadata": {
        "id": "oBfp6RFobcGJ"
      },
      "source": [
        "Tabla de ejecucion de forma secuencial\n",
        ">Procesador | Funcion | Detalle\n",
        ">--- | --- | ----\n",
        ">CPU\t|@param              |Lectura del tamaño de matriz.\n",
        ">CPU\t|import              |Se importa los diferentes modulos a utilizar.\n",
        ">CPU\t|tiempoTotal         |Se obtiene el tiempo actual para futuras mediciones.\n",
        ">CPU\t|numpy.random.randint|Inicializacion de matrices.\n",
        ">CPU\t|tiempoBucle\t       |Se toma el tiempo inicial del algoritmo presentado.\n",
        ">CPU\t|for…\tfor            |Se realiza el algoritmo.\n",
        ">CPU\t|tiempoBucle\t       |Toma el tiempo final del algoritmo presentado.\n",
        ">CPU\t|tiempoTotal\t       |Toma el tiempo final de la ejecucion.\n",
        ">CPU\t|print()\t           |Se informan los datos."
      ]
    },
    {
      "cell_type": "markdown",
      "metadata": {
        "id": "PAtzQqbF-FGT"
      },
      "source": [
        "##4.1 Tabla de pasos GPU"
      ]
    },
    {
      "cell_type": "markdown",
      "metadata": {
        "id": "xJGwWEidbdqT"
      },
      "source": [
        "Tabla de ejecucion en multiples hilos de ejecucion\n",
        ">Procesador | Funcion | Detalle\n",
        ">--- | --- | ----\n",
        ">CPU\t|@param              |Lectura del tamaño de matriz.\n",
        ">CPU\t|import              |Se importa los diferentes modulos a utilizar.\n",
        ">CPU\t|tiempoTotal         |Se obtiene el tiempo actual para futuras mediciones.\n",
        ">CPU\t|numpy.random.randint|Inicializacion de matrices.\n",
        ">CPU\t|numpy.zeros         |Inicializacion de matriz de resultado.\n",
        ">**GPU**  |cuda.mem_alloc        |Reserva de memoria de GPU.\n",
        ">**GPU**  |cuda.memcpy_htod      |Copia de memoria de CPU a GPU.\n",
        ">CPU\t|SourceModule        |Definición de código del kernel.\n",
        ">CPU\t|module.get_function        |Generación de función del Kernel de GPU.\n",
        ">CPU\t|dim_hilo_x, dim_hilo_y\t    | Calcula las dimensiones para la ejecuciòn de 2D.\n",
        ">CPU\t|tiempo_kernel\t       |Toma el tiempo inicial del algoritmo presentado.\n",
        ">**GPU**\t|kernel()            |Ejecución del kernel\n",
        ">CPU\t|tiempo_kernel\t       |Toma el tiempo final del algoritmo presentado.\n",
        ">CPU\t|tiempoTotal\t       |Toma el tiempo final de la ejecucion.\n",
        ">CPU\t|print()\t           |Se informan los datos."
      ]
    },
    {
      "cell_type": "markdown",
      "metadata": {
        "id": "nDk8h3X0-I2C"
      },
      "source": [
        "#5. Conclusiones"
      ]
    },
    {
      "cell_type": "markdown",
      "metadata": {
        "id": "g1IpZ52s6X_I"
      },
      "source": [
        "El algoritmo no presenta mucha dificultad, lo interesante es que el primer algoritmo posee una complejidad O(N^2) y su rendimiento empeorara a medida que las dimensiones de la matriz sean mayores. Con la implementación paralela aumenta la eficiencia frente a la ejecución secuencial."
      ]
    },
    {
      "cell_type": "markdown",
      "metadata": {
        "id": "K0xYuckC1342"
      },
      "source": [
        "#6. Bibliografía"
      ]
    },
    {
      "cell_type": "markdown",
      "metadata": {
        "id": "au-dr5c116eU"
      },
      "source": [
        "[1].Suma de matrices [matrices](https://economipedia.com/definiciones/suma-de-matrices.html)"
      ]
    }
  ]
}
